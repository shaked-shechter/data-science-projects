{
 "cells": [
  {
   "cell_type": "code",
   "execution_count": 7,
   "id": "cbda4521",
   "metadata": {},
   "outputs": [],
   "source": [
    "import numpy as np\n",
    "import matplotlib.pyplot as plt\n",
    "import pandas as pd"
   ]
  },
  {
   "cell_type": "markdown",
   "id": "f85242d7",
   "metadata": {},
   "source": [
    "***Data Preprocessing***"
   ]
  },
  {
   "cell_type": "code",
   "execution_count": 8,
   "id": "ecff1e2f",
   "metadata": {},
   "outputs": [],
   "source": [
    "df_train = pd.read_csv(r\"C:\\Users\\shake\\OneDrive\\שולחן העבודה\\datascience\\deep_learning\\RNN\\Part 3 - Recurrent Neural Networks\\Google_Stock_Price_Train.csv\")"
   ]
  },
  {
   "cell_type": "code",
   "execution_count": 52,
   "id": "b2d02ace",
   "metadata": {},
   "outputs": [
    {
     "data": {
      "text/plain": [
       "array([[325.25],\n",
       "       [331.27],\n",
       "       [329.83],\n",
       "       ...,\n",
       "       [793.7 ],\n",
       "       [783.33],\n",
       "       [782.75]])"
      ]
     },
     "execution_count": 52,
     "metadata": {},
     "output_type": "execute_result"
    }
   ],
   "source": [
    "training_set = df_train.iloc[:,1].values.reshape(-1, 1)\n",
    "training_set"
   ]
  },
  {
   "cell_type": "code",
   "execution_count": 53,
   "id": "02d46416",
   "metadata": {},
   "outputs": [],
   "source": [
    "from sklearn.preprocessing import MinMaxScaler\n",
    "sc = MinMaxScaler(feature_range=(0,1))\n",
    "training_set_scaled =  sc.fit_transform(training_set)"
   ]
  },
  {
   "cell_type": "markdown",
   "id": "c5b8f845",
   "metadata": {},
   "source": [
    "**now we create the training data. i chose for a timestep of 60 financial days which mean that the neural network would predict the next day's open price based on the last 60 days.**"
   ]
  },
  {
   "cell_type": "code",
   "execution_count": 54,
   "id": "e7a4eef8",
   "metadata": {},
   "outputs": [],
   "source": [
    "X_train = []\n",
    "y_train = []\n",
    "time_step = 60\n",
    "for i in range(time_step, len(training_set)):\n",
    "    X_train.append(training_set_scaled[i- time_step:i, 0 ])\n",
    "    y_train.append(training_set_scaled[i,0])\n",
    "    "
   ]
  },
  {
   "cell_type": "code",
   "execution_count": 55,
   "id": "e15540a5",
   "metadata": {},
   "outputs": [],
   "source": [
    "X_train, y_train = np.array(X_train), np.array(y_train)"
   ]
  },
  {
   "cell_type": "code",
   "execution_count": 60,
   "id": "620c9ca8",
   "metadata": {},
   "outputs": [],
   "source": [
    "#reshaping the data. we can use more indicators if we want\n",
    "number_of_indicators = 1 \n",
    "X_train = np.reshape(X_train,(X_train.shape[0],X_train.shape[1],number_of_indicators) )"
   ]
  },
  {
   "cell_type": "code",
   "execution_count": 65,
   "id": "67eb4463",
   "metadata": {},
   "outputs": [],
   "source": [
    "#building the RNN\n",
    "from tensorflow.keras.models import Sequential\n",
    "from tensorflow.keras.layers import LSTM, Dense, Dropout"
   ]
  },
  {
   "cell_type": "code",
   "execution_count": 71,
   "id": "3357e90b",
   "metadata": {},
   "outputs": [],
   "source": [
    "regressor = Sequential()\n",
    "regressor.add(LSTM(units = 50, return_sequences= True, input_shape =(X_train.shape[1],number_of_indicators) ))\n",
    "regressor.add(Dropout(0.2)) \n",
    "regressor.add(LSTM(units = 50, return_sequences= True ))\n",
    "regressor.add(Dropout(0.2)) \n",
    "regressor.add(LSTM(units = 50, return_sequences= True ))\n",
    "regressor.add(Dropout(0.2)) \n",
    "regressor.add(LSTM(units = 50 ))\n",
    "regressor.add(Dropout(0.2)) \n",
    "\n",
    "#number of units in the output layer has to be equal to the number of dimentions\n",
    "regressor.add(Dense(units = 1))\n",
    "regressor.compile(optimizer='adam', loss = 'mse', metrics = ['accuracy'])\n"
   ]
  },
  {
   "cell_type": "code",
   "execution_count": 73,
   "id": "21a9176f",
   "metadata": {},
   "outputs": [
    {
     "name": "stdout",
     "output_type": "stream",
     "text": [
      "Epoch 1/100\n",
      "38/38 [==============================] - 17s 127ms/step - loss: 0.0355 - accuracy: 0.0017\n",
      "Epoch 2/100\n",
      "38/38 [==============================] - 5s 126ms/step - loss: 0.0065 - accuracy: 0.0017\n",
      "Epoch 3/100\n",
      "38/38 [==============================] - 5s 126ms/step - loss: 0.0062 - accuracy: 0.0017\n",
      "Epoch 4/100\n",
      "38/38 [==============================] - 5s 122ms/step - loss: 0.0051 - accuracy: 0.0017\n",
      "Epoch 5/100\n",
      "38/38 [==============================] - 5s 127ms/step - loss: 0.0051 - accuracy: 0.0017\n",
      "Epoch 6/100\n",
      "38/38 [==============================] - 5s 123ms/step - loss: 0.0049 - accuracy: 0.0017\n",
      "Epoch 7/100\n",
      "38/38 [==============================] - 5s 133ms/step - loss: 0.0048 - accuracy: 0.0017\n",
      "Epoch 8/100\n",
      "38/38 [==============================] - 5s 135ms/step - loss: 0.0045 - accuracy: 0.0017\n",
      "Epoch 9/100\n",
      "38/38 [==============================] - 5s 118ms/step - loss: 0.0047 - accuracy: 0.0017\n",
      "Epoch 10/100\n",
      "38/38 [==============================] - 5s 119ms/step - loss: 0.0060 - accuracy: 0.0017\n",
      "Epoch 11/100\n",
      "38/38 [==============================] - 5s 119ms/step - loss: 0.0045 - accuracy: 0.0017\n",
      "Epoch 12/100\n",
      "38/38 [==============================] - 5s 120ms/step - loss: 0.0045 - accuracy: 0.0017\n",
      "Epoch 13/100\n",
      "38/38 [==============================] - 4s 116ms/step - loss: 0.0050 - accuracy: 0.0017\n",
      "Epoch 14/100\n",
      "38/38 [==============================] - 4s 111ms/step - loss: 0.0042 - accuracy: 0.0017\n",
      "Epoch 15/100\n",
      "38/38 [==============================] - 4s 106ms/step - loss: 0.0036 - accuracy: 0.0017\n",
      "Epoch 16/100\n",
      "38/38 [==============================] - 4s 108ms/step - loss: 0.0038 - accuracy: 0.0017\n",
      "Epoch 17/100\n",
      "38/38 [==============================] - 4s 109ms/step - loss: 0.0037 - accuracy: 0.0017\n",
      "Epoch 18/100\n",
      "38/38 [==============================] - 4s 107ms/step - loss: 0.0037 - accuracy: 0.0017\n",
      "Epoch 19/100\n",
      "38/38 [==============================] - 4s 105ms/step - loss: 0.0036 - accuracy: 0.0017\n",
      "Epoch 20/100\n",
      "38/38 [==============================] - 4s 107ms/step - loss: 0.0034 - accuracy: 0.0017\n",
      "Epoch 21/100\n",
      "38/38 [==============================] - 4s 103ms/step - loss: 0.0034 - accuracy: 0.0017\n",
      "Epoch 22/100\n",
      "38/38 [==============================] - 4s 104ms/step - loss: 0.0034 - accuracy: 0.0017\n",
      "Epoch 23/100\n",
      "38/38 [==============================] - 4s 106ms/step - loss: 0.0033 - accuracy: 0.0017\n",
      "Epoch 24/100\n",
      "38/38 [==============================] - 4s 106ms/step - loss: 0.0037 - accuracy: 0.0017\n",
      "Epoch 25/100\n",
      "38/38 [==============================] - 4s 105ms/step - loss: 0.0035 - accuracy: 0.0017\n",
      "Epoch 26/100\n",
      "38/38 [==============================] - 4s 106ms/step - loss: 0.0027 - accuracy: 0.0017\n",
      "Epoch 27/100\n",
      "38/38 [==============================] - 4s 103ms/step - loss: 0.0028 - accuracy: 0.0017\n",
      "Epoch 28/100\n",
      "38/38 [==============================] - 4s 114ms/step - loss: 0.0027 - accuracy: 0.0017\n",
      "Epoch 29/100\n",
      "38/38 [==============================] - 4s 114ms/step - loss: 0.0029 - accuracy: 0.0017\n",
      "Epoch 30/100\n",
      "38/38 [==============================] - 4s 115ms/step - loss: 0.0029 - accuracy: 0.0017\n",
      "Epoch 31/100\n",
      "38/38 [==============================] - 4s 117ms/step - loss: 0.0033 - accuracy: 0.0017\n",
      "Epoch 32/100\n",
      "38/38 [==============================] - 4s 118ms/step - loss: 0.0027 - accuracy: 0.0017\n",
      "Epoch 33/100\n",
      "38/38 [==============================] - 5s 119ms/step - loss: 0.0028 - accuracy: 0.0017\n",
      "Epoch 34/100\n",
      "38/38 [==============================] - 5s 119ms/step - loss: 0.0026 - accuracy: 0.0017\n",
      "Epoch 35/100\n",
      "38/38 [==============================] - 4s 114ms/step - loss: 0.0029 - accuracy: 0.0017\n",
      "Epoch 36/100\n",
      "38/38 [==============================] - 4s 105ms/step - loss: 0.0031 - accuracy: 0.0017\n",
      "Epoch 37/100\n",
      "38/38 [==============================] - 4s 106ms/step - loss: 0.0030 - accuracy: 0.0017\n",
      "Epoch 38/100\n",
      "38/38 [==============================] - 4s 105ms/step - loss: 0.0024 - accuracy: 0.0017\n",
      "Epoch 39/100\n",
      "38/38 [==============================] - 4s 105ms/step - loss: 0.0026 - accuracy: 0.0017\n",
      "Epoch 40/100\n",
      "38/38 [==============================] - 4s 108ms/step - loss: 0.0027 - accuracy: 0.0017\n",
      "Epoch 41/100\n",
      "38/38 [==============================] - 4s 104ms/step - loss: 0.0026 - accuracy: 0.0017\n",
      "Epoch 42/100\n",
      "38/38 [==============================] - 4s 105ms/step - loss: 0.0025 - accuracy: 0.0017\n",
      "Epoch 43/100\n",
      "38/38 [==============================] - 4s 105ms/step - loss: 0.0024 - accuracy: 0.0017\n",
      "Epoch 44/100\n",
      "38/38 [==============================] - 4s 109ms/step - loss: 0.0022 - accuracy: 0.0017\n",
      "Epoch 45/100\n",
      "38/38 [==============================] - 4s 109ms/step - loss: 0.0028 - accuracy: 0.0017\n",
      "Epoch 46/100\n",
      "38/38 [==============================] - 4s 108ms/step - loss: 0.0024 - accuracy: 0.0017\n",
      "Epoch 47/100\n",
      "38/38 [==============================] - 4s 106ms/step - loss: 0.0023 - accuracy: 0.0017\n",
      "Epoch 48/100\n",
      "38/38 [==============================] - 4s 109ms/step - loss: 0.0023 - accuracy: 0.0017\n",
      "Epoch 49/100\n",
      "38/38 [==============================] - 4s 108ms/step - loss: 0.0025 - accuracy: 0.0017\n",
      "Epoch 50/100\n",
      "38/38 [==============================] - 4s 106ms/step - loss: 0.0025 - accuracy: 0.0017\n",
      "Epoch 51/100\n",
      "38/38 [==============================] - 4s 106ms/step - loss: 0.0022 - accuracy: 0.0017\n",
      "Epoch 52/100\n",
      "38/38 [==============================] - 4s 104ms/step - loss: 0.0022 - accuracy: 0.0017\n",
      "Epoch 53/100\n",
      "38/38 [==============================] - 4s 105ms/step - loss: 0.0024 - accuracy: 0.0017\n",
      "Epoch 54/100\n",
      "38/38 [==============================] - 4s 105ms/step - loss: 0.0024 - accuracy: 0.0017\n",
      "Epoch 55/100\n",
      "38/38 [==============================] - 4s 106ms/step - loss: 0.0021 - accuracy: 0.0017\n",
      "Epoch 56/100\n",
      "38/38 [==============================] - 4s 105ms/step - loss: 0.0021 - accuracy: 0.0017\n",
      "Epoch 57/100\n",
      "38/38 [==============================] - 4s 111ms/step - loss: 0.0020 - accuracy: 0.0017\n",
      "Epoch 58/100\n",
      "38/38 [==============================] - 4s 110ms/step - loss: 0.0022 - accuracy: 0.0017\n",
      "Epoch 59/100\n",
      "38/38 [==============================] - 4s 111ms/step - loss: 0.0022 - accuracy: 0.0017\n",
      "Epoch 60/100\n",
      "38/38 [==============================] - 4s 115ms/step - loss: 0.0020 - accuracy: 0.0017\n",
      "Epoch 61/100\n",
      "38/38 [==============================] - 4s 115ms/step - loss: 0.0021 - accuracy: 0.0017\n",
      "Epoch 62/100\n",
      "38/38 [==============================] - 5s 119ms/step - loss: 0.0021 - accuracy: 0.0017\n",
      "Epoch 63/100\n",
      "38/38 [==============================] - 5s 118ms/step - loss: 0.0020 - accuracy: 0.0017\n",
      "Epoch 64/100\n",
      "38/38 [==============================] - 5s 119ms/step - loss: 0.0020 - accuracy: 0.0017\n",
      "Epoch 65/100\n",
      "38/38 [==============================] - 4s 106ms/step - loss: 0.0019 - accuracy: 0.0017\n",
      "Epoch 66/100\n",
      "38/38 [==============================] - 4s 106ms/step - loss: 0.0021 - accuracy: 0.0017\n",
      "Epoch 67/100\n",
      "38/38 [==============================] - 4s 106ms/step - loss: 0.0019 - accuracy: 0.0017\n",
      "Epoch 68/100\n",
      "38/38 [==============================] - 4s 103ms/step - loss: 0.0019 - accuracy: 0.0017\n",
      "Epoch 69/100\n",
      "38/38 [==============================] - 4s 106ms/step - loss: 0.0018 - accuracy: 0.0017\n",
      "Epoch 70/100\n",
      "38/38 [==============================] - 4s 106ms/step - loss: 0.0019 - accuracy: 0.0017\n",
      "Epoch 71/100\n",
      "38/38 [==============================] - 4s 106ms/step - loss: 0.0017 - accuracy: 0.0017\n",
      "Epoch 72/100\n",
      "38/38 [==============================] - 4s 105ms/step - loss: 0.0017 - accuracy: 0.0017\n",
      "Epoch 73/100\n",
      "38/38 [==============================] - 4s 105ms/step - loss: 0.0021 - accuracy: 0.0017\n",
      "Epoch 74/100\n",
      "38/38 [==============================] - 4s 105ms/step - loss: 0.0020 - accuracy: 0.0017\n",
      "Epoch 75/100\n",
      "38/38 [==============================] - 4s 105ms/step - loss: 0.0017 - accuracy: 0.0017\n",
      "Epoch 76/100\n",
      "38/38 [==============================] - 4s 109ms/step - loss: 0.0020 - accuracy: 0.0017\n",
      "Epoch 77/100\n",
      "38/38 [==============================] - 4s 107ms/step - loss: 0.0017 - accuracy: 0.0017\n",
      "Epoch 78/100\n",
      "38/38 [==============================] - 4s 111ms/step - loss: 0.0017 - accuracy: 0.0017\n",
      "Epoch 79/100\n",
      "38/38 [==============================] - 4s 105ms/step - loss: 0.0018 - accuracy: 0.0017\n",
      "Epoch 80/100\n",
      "38/38 [==============================] - 4s 111ms/step - loss: 0.0021 - accuracy: 0.0017\n",
      "Epoch 81/100\n"
     ]
    },
    {
     "name": "stdout",
     "output_type": "stream",
     "text": [
      "38/38 [==============================] - 4s 106ms/step - loss: 0.0015 - accuracy: 0.0017\n",
      "Epoch 82/100\n",
      "38/38 [==============================] - 4s 103ms/step - loss: 0.0018 - accuracy: 0.0017\n",
      "Epoch 83/100\n",
      "38/38 [==============================] - 4s 103ms/step - loss: 0.0017 - accuracy: 0.0017\n",
      "Epoch 84/100\n",
      "38/38 [==============================] - 4s 105ms/step - loss: 0.0016 - accuracy: 0.0017\n",
      "Epoch 85/100\n",
      "38/38 [==============================] - 4s 105ms/step - loss: 0.0014 - accuracy: 0.0017\n",
      "Epoch 86/100\n",
      "38/38 [==============================] - 4s 113ms/step - loss: 0.0015 - accuracy: 0.0017\n",
      "Epoch 87/100\n",
      "38/38 [==============================] - 4s 110ms/step - loss: 0.0016 - accuracy: 0.0017\n",
      "Epoch 88/100\n",
      "38/38 [==============================] - 4s 112ms/step - loss: 0.0015 - accuracy: 0.0017\n",
      "Epoch 89/100\n",
      "38/38 [==============================] - 4s 108ms/step - loss: 0.0015 - accuracy: 0.0017\n",
      "Epoch 90/100\n",
      "38/38 [==============================] - 4s 110ms/step - loss: 0.0014 - accuracy: 0.0017\n",
      "Epoch 91/100\n",
      "38/38 [==============================] - 4s 116ms/step - loss: 0.0016 - accuracy: 0.0017\n",
      "Epoch 92/100\n",
      "38/38 [==============================] - 5s 125ms/step - loss: 0.0015 - accuracy: 0.0017\n",
      "Epoch 93/100\n",
      "38/38 [==============================] - 5s 123ms/step - loss: 0.0014 - accuracy: 0.0017\n",
      "Epoch 94/100\n",
      "38/38 [==============================] - 4s 110ms/step - loss: 0.0015 - accuracy: 0.0017\n",
      "Epoch 95/100\n",
      "38/38 [==============================] - 4s 105ms/step - loss: 0.0014 - accuracy: 0.0017\n",
      "Epoch 96/100\n",
      "38/38 [==============================] - 4s 112ms/step - loss: 0.0015 - accuracy: 0.0017\n",
      "Epoch 97/100\n",
      "38/38 [==============================] - 4s 107ms/step - loss: 0.0013 - accuracy: 0.0017\n",
      "Epoch 98/100\n",
      "38/38 [==============================] - 4s 110ms/step - loss: 0.0014 - accuracy: 0.0017\n",
      "Epoch 99/100\n",
      "38/38 [==============================] - 4s 108ms/step - loss: 0.0015 - accuracy: 0.0017\n",
      "Epoch 100/100\n",
      "38/38 [==============================] - 4s 105ms/step - loss: 0.0014 - accuracy: 0.0017\n"
     ]
    }
   ],
   "source": [
    "history = regressor.fit(X_train, y_train, epochs= 100,\n",
    "                       batch_size = 32)"
   ]
  },
  {
   "cell_type": "code",
   "execution_count": 76,
   "id": "913370c8",
   "metadata": {},
   "outputs": [
    {
     "data": {
      "text/plain": [
       "<Axes: >"
      ]
     },
     "execution_count": 76,
     "metadata": {},
     "output_type": "execute_result"
    },
    {
     "data": {
      "image/png": "[encoded data removed]",
      "text/plain": [
       "<Figure size 640x480 with 1 Axes>"
      ]
     },
     "metadata": {},
     "output_type": "display_data"
    }
   ],
   "source": [
    "pd.DataFrame(history.history).plot()"
   ]
  },
  {
   "cell_type": "markdown",
   "id": "43c16d71",
   "metadata": {},
   "source": [
    "**make predictions**"
   ]
  },
  {
   "cell_type": "code",
   "execution_count": 78,
   "id": "11d27c37",
   "metadata": {},
   "outputs": [],
   "source": [
    "df_test = pd.read_csv(r\"C:\\Users\\shake\\OneDrive\\שולחן העבודה\\datascience\\deep_learning\\RNN\\Part 3 - Recurrent Neural Networks\\Google_Stock_Price_Test.csv\")"
   ]
  },
  {
   "cell_type": "code",
   "execution_count": 80,
   "id": "7e983920",
   "metadata": {},
   "outputs": [
    {
     "data": {
      "text/plain": [
       "array([[778.81],\n",
       "       [788.36],\n",
       "       [786.08],\n",
       "       [795.26],\n",
       "       [806.4 ],\n",
       "       [807.86],\n",
       "       [805.  ],\n",
       "       [807.14],\n",
       "       [807.48],\n",
       "       [807.08],\n",
       "       [805.81],\n",
       "       [805.12],\n",
       "       [806.91],\n",
       "       [807.25],\n",
       "       [822.3 ],\n",
       "       [829.62],\n",
       "       [837.81],\n",
       "       [834.71],\n",
       "       [814.66],\n",
       "       [796.86]])"
      ]
     },
     "execution_count": 80,
     "metadata": {},
     "output_type": "execute_result"
    }
   ],
   "source": [
    "test_set = df_test.iloc[:,1].values.reshape(-1, 1)\n",
    "test_set"
   ]
  },
  {
   "cell_type": "code",
   "execution_count": 105,
   "id": "127d0549",
   "metadata": {},
   "outputs": [],
   "source": [
    "test_set_scaled =  sc.transform(test_set)\n",
    "X_test = []\n",
    "y_test = []\n",
    "for i in range(len(test_set)):\n",
    "    X_test.append(np.append(training_set_scaled[time_step *-1+i -1:-1,0],test_set_scaled[:i, 0]))\n",
    "    y_test.append(test_set_scaled[i,0])"
   ]
  },
  {
   "cell_type": "code",
   "execution_count": 107,
   "id": "6b72eb92",
   "metadata": {},
   "outputs": [
    {
     "name": "stdout",
     "output_type": "stream",
     "text": [
      "1/1 [==============================] - 0s 53ms/step\n"
     ]
    }
   ],
   "source": [
    "number_of_indicators = 1 \n",
    "X_test = np.array(X_test)\n",
    "X_test = np.reshape(X_test,(X_test.shape[0],X_test.shape[1],number_of_indicators) )\n",
    "predicted_stock_prices = regressor.predict(X_test)"
   ]
  },
  {
   "cell_type": "code",
   "execution_count": 108,
   "id": "bac008cd",
   "metadata": {},
   "outputs": [],
   "source": [
    "predicted_stock_prices = sc.inverse_transform(predicted_stock_prices)"
   ]
  },
  {
   "cell_type": "code",
   "execution_count": 115,
   "id": "58ab087b",
   "metadata": {},
   "outputs": [],
   "source": [
    "y_test = np.array(y_test).reshape(-1, 1)\n",
    "y_test = sc.inverse_transform(y_test)"
   ]
  },
  {
   "cell_type": "markdown",
   "id": "979477a6",
   "metadata": {},
   "source": [
    "**visualizing our predictions**"
   ]
  },
  {
   "cell_type": "code",
   "execution_count": 121,
   "id": "e842c395",
   "metadata": {},
   "outputs": [
    {
     "data": {
      "text/plain": [
       "<matplotlib.legend.Legend at 0x18d44c72e90>"
      ]
     },
     "execution_count": 121,
     "metadata": {},
     "output_type": "execute_result"
    },
    {
     "data": {
      "image/png": "[encoded data removed]",
      "text/plain": [
       "<Figure size 640x480 with 1 Axes>"
      ]
     },
     "metadata": {},
     "output_type": "display_data"
    }
   ],
   "source": [
    "plt.plot(y_test, color = 'blue', label = 'real_stock_price')\n",
    "plt.plot(predicted_stock_prices, color = 'red', label = 'predicted_stock_price')\n",
    "plt.title(\"Google stock prics prediction\")\n",
    "plt.xlabel(\"Time\")\n",
    "plt.ylabel(\"Stock Price\")\n",
    "plt.legend()"
   ]
  },
  {
   "cell_type": "code",
   "execution_count": null,
   "id": "08203875",
   "metadata": {},
   "outputs": [],
   "source": []
  }
 ],
 "metadata": {
  "kernelspec": {
   "display_name": "Python 3 (ipykernel)",
   "language": "python",
   "name": "python3"
  },
  "language_info": {
   "codemirror_mode": {
    "name": "ipython",
    "version": 3
   },
   "file_extension": ".py",
   "mimetype": "text/x-python",
   "name": "python",
   "nbconvert_exporter": "python",
   "pygments_lexer": "ipython3",
   "version": "3.10.9"
  }
 },
 "nbformat": 4,
 "nbformat_minor": 5
}
