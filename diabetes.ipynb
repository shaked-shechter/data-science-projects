{
 "cells": [
  {
   "cell_type": "code",
   "execution_count": 2,
   "id": "02867a59",
   "metadata": {},
   "outputs": [],
   "source": [
    "import pandas as pd\n",
    "import numpy as np\n",
    "import seaborn as sns\n",
    "%matplotlib inline"
   ]
  },
  {
   "cell_type": "code",
   "execution_count": 3,
   "id": "f463a8db",
   "metadata": {},
   "outputs": [],
   "source": [
    "df = pd.read_csv(\"diabetes_binary_health_indicators_BRFSS2015.csv\")"
   ]
  },
  {
   "cell_type": "code",
   "execution_count": 4,
   "id": "daa487c8",
   "metadata": {},
   "outputs": [
    {
     "data": {
      "text/plain": [
       "Index(['Diabetes_binary', 'HighBP', 'HighChol', 'CholCheck', 'BMI', 'Smoker',\n",
       "       'Stroke', 'HeartDiseaseorAttack', 'PhysActivity', 'Fruits', 'Veggies',\n",
       "       'HvyAlcoholConsump', 'AnyHealthcare', 'NoDocbcCost', 'GenHlth',\n",
       "       'MentHlth', 'PhysHlth', 'DiffWalk', 'Sex', 'Age', 'Education',\n",
       "       'Income'],\n",
       "      dtype='object')"
      ]
     },
     "execution_count": 4,
     "metadata": {},
     "output_type": "execute_result"
    }
   ],
   "source": [
    "df.columns"
   ]
  },
  {
   "cell_type": "code",
   "execution_count": 85,
   "id": "263713b3",
   "metadata": {},
   "outputs": [
    {
     "data": {
      "text/html": [
       "<div>\n",
       "<style scoped>\n",
       "    .dataframe tbody tr th:only-of-type {\n",
       "        vertical-align: middle;\n",
       "    }\n",
       "\n",
       "    .dataframe tbody tr th {\n",
       "        vertical-align: top;\n",
       "    }\n",
       "\n",
       "    .dataframe thead th {\n",
       "        text-align: right;\n",
       "    }\n",
       "</style>\n",
       "<table border=\"1\" class=\"dataframe\">\n",
       "  <thead>\n",
       "    <tr style=\"text-align: right;\">\n",
       "      <th></th>\n",
       "      <th>Diabetes_binary</th>\n",
       "      <th>HighBP</th>\n",
       "      <th>HighChol</th>\n",
       "      <th>CholCheck</th>\n",
       "      <th>BMI</th>\n",
       "      <th>Smoker</th>\n",
       "      <th>Stroke</th>\n",
       "      <th>HeartDiseaseorAttack</th>\n",
       "      <th>PhysActivity</th>\n",
       "      <th>Fruits</th>\n",
       "      <th>...</th>\n",
       "      <th>AnyHealthcare</th>\n",
       "      <th>NoDocbcCost</th>\n",
       "      <th>GenHlth</th>\n",
       "      <th>MentHlth</th>\n",
       "      <th>PhysHlth</th>\n",
       "      <th>DiffWalk</th>\n",
       "      <th>Sex</th>\n",
       "      <th>Age</th>\n",
       "      <th>Education</th>\n",
       "      <th>Income</th>\n",
       "    </tr>\n",
       "  </thead>\n",
       "  <tbody>\n",
       "    <tr>\n",
       "      <th>0</th>\n",
       "      <td>0.0</td>\n",
       "      <td>1.0</td>\n",
       "      <td>1.0</td>\n",
       "      <td>1.0</td>\n",
       "      <td>40.0</td>\n",
       "      <td>1.0</td>\n",
       "      <td>0.0</td>\n",
       "      <td>0.0</td>\n",
       "      <td>0.0</td>\n",
       "      <td>0.0</td>\n",
       "      <td>...</td>\n",
       "      <td>1.0</td>\n",
       "      <td>0.0</td>\n",
       "      <td>5.0</td>\n",
       "      <td>18.0</td>\n",
       "      <td>15.0</td>\n",
       "      <td>1.0</td>\n",
       "      <td>0.0</td>\n",
       "      <td>9.0</td>\n",
       "      <td>4.0</td>\n",
       "      <td>3.0</td>\n",
       "    </tr>\n",
       "    <tr>\n",
       "      <th>1</th>\n",
       "      <td>0.0</td>\n",
       "      <td>0.0</td>\n",
       "      <td>0.0</td>\n",
       "      <td>0.0</td>\n",
       "      <td>25.0</td>\n",
       "      <td>1.0</td>\n",
       "      <td>0.0</td>\n",
       "      <td>0.0</td>\n",
       "      <td>1.0</td>\n",
       "      <td>0.0</td>\n",
       "      <td>...</td>\n",
       "      <td>0.0</td>\n",
       "      <td>1.0</td>\n",
       "      <td>3.0</td>\n",
       "      <td>0.0</td>\n",
       "      <td>0.0</td>\n",
       "      <td>0.0</td>\n",
       "      <td>0.0</td>\n",
       "      <td>7.0</td>\n",
       "      <td>6.0</td>\n",
       "      <td>1.0</td>\n",
       "    </tr>\n",
       "    <tr>\n",
       "      <th>2</th>\n",
       "      <td>0.0</td>\n",
       "      <td>1.0</td>\n",
       "      <td>1.0</td>\n",
       "      <td>1.0</td>\n",
       "      <td>28.0</td>\n",
       "      <td>0.0</td>\n",
       "      <td>0.0</td>\n",
       "      <td>0.0</td>\n",
       "      <td>0.0</td>\n",
       "      <td>1.0</td>\n",
       "      <td>...</td>\n",
       "      <td>1.0</td>\n",
       "      <td>1.0</td>\n",
       "      <td>5.0</td>\n",
       "      <td>30.0</td>\n",
       "      <td>30.0</td>\n",
       "      <td>1.0</td>\n",
       "      <td>0.0</td>\n",
       "      <td>9.0</td>\n",
       "      <td>4.0</td>\n",
       "      <td>8.0</td>\n",
       "    </tr>\n",
       "    <tr>\n",
       "      <th>3</th>\n",
       "      <td>0.0</td>\n",
       "      <td>1.0</td>\n",
       "      <td>0.0</td>\n",
       "      <td>1.0</td>\n",
       "      <td>27.0</td>\n",
       "      <td>0.0</td>\n",
       "      <td>0.0</td>\n",
       "      <td>0.0</td>\n",
       "      <td>1.0</td>\n",
       "      <td>1.0</td>\n",
       "      <td>...</td>\n",
       "      <td>1.0</td>\n",
       "      <td>0.0</td>\n",
       "      <td>2.0</td>\n",
       "      <td>0.0</td>\n",
       "      <td>0.0</td>\n",
       "      <td>0.0</td>\n",
       "      <td>0.0</td>\n",
       "      <td>11.0</td>\n",
       "      <td>3.0</td>\n",
       "      <td>6.0</td>\n",
       "    </tr>\n",
       "    <tr>\n",
       "      <th>4</th>\n",
       "      <td>0.0</td>\n",
       "      <td>1.0</td>\n",
       "      <td>1.0</td>\n",
       "      <td>1.0</td>\n",
       "      <td>24.0</td>\n",
       "      <td>0.0</td>\n",
       "      <td>0.0</td>\n",
       "      <td>0.0</td>\n",
       "      <td>1.0</td>\n",
       "      <td>1.0</td>\n",
       "      <td>...</td>\n",
       "      <td>1.0</td>\n",
       "      <td>0.0</td>\n",
       "      <td>2.0</td>\n",
       "      <td>3.0</td>\n",
       "      <td>0.0</td>\n",
       "      <td>0.0</td>\n",
       "      <td>0.0</td>\n",
       "      <td>11.0</td>\n",
       "      <td>5.0</td>\n",
       "      <td>4.0</td>\n",
       "    </tr>\n",
       "  </tbody>\n",
       "</table>\n",
       "<p>5 rows × 22 columns</p>\n",
       "</div>"
      ],
      "text/plain": [
       "   Diabetes_binary  HighBP  HighChol  CholCheck   BMI  Smoker  Stroke  \\\n",
       "0              0.0     1.0       1.0        1.0  40.0     1.0     0.0   \n",
       "1              0.0     0.0       0.0        0.0  25.0     1.0     0.0   \n",
       "2              0.0     1.0       1.0        1.0  28.0     0.0     0.0   \n",
       "3              0.0     1.0       0.0        1.0  27.0     0.0     0.0   \n",
       "4              0.0     1.0       1.0        1.0  24.0     0.0     0.0   \n",
       "\n",
       "   HeartDiseaseorAttack  PhysActivity  Fruits  ...  AnyHealthcare  \\\n",
       "0                   0.0           0.0     0.0  ...            1.0   \n",
       "1                   0.0           1.0     0.0  ...            0.0   \n",
       "2                   0.0           0.0     1.0  ...            1.0   \n",
       "3                   0.0           1.0     1.0  ...            1.0   \n",
       "4                   0.0           1.0     1.0  ...            1.0   \n",
       "\n",
       "   NoDocbcCost  GenHlth  MentHlth  PhysHlth  DiffWalk  Sex   Age  Education  \\\n",
       "0          0.0      5.0      18.0      15.0       1.0  0.0   9.0        4.0   \n",
       "1          1.0      3.0       0.0       0.0       0.0  0.0   7.0        6.0   \n",
       "2          1.0      5.0      30.0      30.0       1.0  0.0   9.0        4.0   \n",
       "3          0.0      2.0       0.0       0.0       0.0  0.0  11.0        3.0   \n",
       "4          0.0      2.0       3.0       0.0       0.0  0.0  11.0        5.0   \n",
       "\n",
       "   Income  \n",
       "0     3.0  \n",
       "1     1.0  \n",
       "2     8.0  \n",
       "3     6.0  \n",
       "4     4.0  \n",
       "\n",
       "[5 rows x 22 columns]"
      ]
     },
     "execution_count": 85,
     "metadata": {},
     "output_type": "execute_result"
    }
   ],
   "source": [
    "df.head()"
   ]
  },
  {
   "cell_type": "code",
   "execution_count": 86,
   "id": "0bfa0918",
   "metadata": {},
   "outputs": [
    {
     "data": {
      "text/plain": [
       "Diabetes_binary         0\n",
       "HighBP                  0\n",
       "HighChol                0\n",
       "CholCheck               0\n",
       "BMI                     0\n",
       "Smoker                  0\n",
       "Stroke                  0\n",
       "HeartDiseaseorAttack    0\n",
       "PhysActivity            0\n",
       "Fruits                  0\n",
       "Veggies                 0\n",
       "HvyAlcoholConsump       0\n",
       "AnyHealthcare           0\n",
       "NoDocbcCost             0\n",
       "GenHlth                 0\n",
       "MentHlth                0\n",
       "PhysHlth                0\n",
       "DiffWalk                0\n",
       "Sex                     0\n",
       "Age                     0\n",
       "Education               0\n",
       "Income                  0\n",
       "dtype: int64"
      ]
     },
     "execution_count": 86,
     "metadata": {},
     "output_type": "execute_result"
    }
   ],
   "source": [
    "df.isnull().sum()"
   ]
  },
  {
   "cell_type": "markdown",
   "id": "be2a3f45",
   "metadata": {},
   "source": []
  },
  {
   "cell_type": "code",
   "execution_count": 87,
   "id": "66242556",
   "metadata": {},
   "outputs": [
    {
     "data": {
      "text/plain": [
       "<Axes: >"
      ]
     },
     "execution_count": 87,
     "metadata": {},
     "output_type": "execute_result"
    },
    {
     "data": {
      "image/png": "[encoded data removed]",
      "text/plain": [
       "<Figure size 640x480 with 1 Axes>"
      ]
     },
     "metadata": {},
     "output_type": "display_data"
    }
   ],
   "source": [
    "df[\"Diabetes_binary\"].value_counts().plot(kind = \"bar\")"
   ]
  },
  {
   "cell_type": "code",
   "execution_count": 88,
   "id": "28331ed5",
   "metadata": {},
   "outputs": [
    {
     "data": {
      "text/plain": [
       "0.13933301797540207"
      ]
     },
     "execution_count": 88,
     "metadata": {},
     "output_type": "execute_result"
    }
   ],
   "source": [
    "df[df[\"Diabetes_binary\"] == 1][\"Diabetes_binary\"].count()/df[\"Diabetes_binary\"].count()"
   ]
  },
  {
   "cell_type": "code",
   "execution_count": 89,
   "id": "76770a47",
   "metadata": {},
   "outputs": [
    {
     "data": {
      "text/plain": [
       "<Axes: >"
      ]
     },
     "execution_count": 89,
     "metadata": {},
     "output_type": "execute_result"
    },
    {
     "data": {
      "image/png": "[encoded data removed]",
      "text/plain": [
       "<Figure size 640x480 with 2 Axes>"
      ]
     },
     "metadata": {},
     "output_type": "display_data"
    }
   ],
   "source": [
    "sns.heatmap(df.corr())"
   ]
  },
  {
   "cell_type": "code",
   "execution_count": 90,
   "id": "cd8b319f",
   "metadata": {},
   "outputs": [
    {
     "name": "stdout",
     "output_type": "stream",
     "text": [
      "<class 'pandas.core.frame.DataFrame'>\n",
      "RangeIndex: 253680 entries, 0 to 253679\n",
      "Data columns (total 22 columns):\n",
      " #   Column                Non-Null Count   Dtype  \n",
      "---  ------                --------------   -----  \n",
      " 0   Diabetes_binary       253680 non-null  float64\n",
      " 1   HighBP                253680 non-null  float64\n",
      " 2   HighChol              253680 non-null  float64\n",
      " 3   CholCheck             253680 non-null  float64\n",
      " 4   BMI                   253680 non-null  float64\n",
      " 5   Smoker                253680 non-null  float64\n",
      " 6   Stroke                253680 non-null  float64\n",
      " 7   HeartDiseaseorAttack  253680 non-null  float64\n",
      " 8   PhysActivity          253680 non-null  float64\n",
      " 9   Fruits                253680 non-null  float64\n",
      " 10  Veggies               253680 non-null  float64\n",
      " 11  HvyAlcoholConsump     253680 non-null  float64\n",
      " 12  AnyHealthcare         253680 non-null  float64\n",
      " 13  NoDocbcCost           253680 non-null  float64\n",
      " 14  GenHlth               253680 non-null  float64\n",
      " 15  MentHlth              253680 non-null  float64\n",
      " 16  PhysHlth              253680 non-null  float64\n",
      " 17  DiffWalk              253680 non-null  float64\n",
      " 18  Sex                   253680 non-null  float64\n",
      " 19  Age                   253680 non-null  float64\n",
      " 20  Education             253680 non-null  float64\n",
      " 21  Income                253680 non-null  float64\n",
      "dtypes: float64(22)\n",
      "memory usage: 42.6 MB\n"
     ]
    }
   ],
   "source": [
    "df.info()"
   ]
  },
  {
   "cell_type": "code",
   "execution_count": 5,
   "id": "1536792a",
   "metadata": {},
   "outputs": [],
   "source": [
    "from sklearn.preprocessing import MinMaxScaler\n",
    "scaler = MinMaxScaler()"
   ]
  },
  {
   "cell_type": "code",
   "execution_count": 8,
   "id": "ca37e273",
   "metadata": {},
   "outputs": [],
   "source": [
    "from sklearn.model_selection import train_test_split\n",
    "X = df.drop(\"Diabetes_binary\", axis = 1)\n",
    "y = df[\"Diabetes_binary\"]"
   ]
  },
  {
   "cell_type": "code",
   "execution_count": 9,
   "id": "b2c1cac1",
   "metadata": {},
   "outputs": [],
   "source": [
    "X_train, X_test, y_train, y_test = train_test_split(X, y, test_size=0.3, random_state=101)\n",
    "X_train = scaler.fit_transform(X_train)\n",
    "X_test = scaler.transform(X_test)"
   ]
  },
  {
   "cell_type": "code",
   "execution_count": 171,
   "id": "10815482",
   "metadata": {},
   "outputs": [],
   "source": [
    "from tensorflow.keras.layers import Dense, Dropout"
   ]
  },
  {
   "cell_type": "code",
   "execution_count": 172,
   "id": "d43e39bc",
   "metadata": {},
   "outputs": [
    {
     "name": "stdout",
     "output_type": "stream",
     "text": [
      "WARNING:tensorflow:EarlyStopping mode <built-in function min> is unknown, fallback to auto mode.\n"
     ]
    }
   ],
   "source": [
    "from tensorflow.keras.models import Sequential\n",
    "from tensorflow.keras.callbacks import EarlyStopping\n",
    "early_stopping = EarlyStopping(monitor=\"val_loss\", mode=min , patience= 25, verbose= 1)"
   ]
  },
  {
   "cell_type": "code",
   "execution_count": 193,
   "id": "6265e0b0",
   "metadata": {},
   "outputs": [],
   "source": [
    "model = Sequential()\n",
    "\n"
   ]
  },
  {
   "cell_type": "code",
   "execution_count": 194,
   "id": "0eee70d3",
   "metadata": {},
   "outputs": [],
   "source": [
    "model.add(Dense(units = 20, activation= \"relu\"))\n",
    "model.add(Dropout(0.2))\n",
    "model.add(Dense(units = 18, activation= \"sigmoid\"))\n",
    "model.add(Dropout(0.2))\n",
    "model.add(Dense(units = 18, activation= \"sigmoid\"))\n",
    "model.add(Dropout(0.2))\n",
    "\n",
    "model.add(Dense(units = 15, activation= \"sigmoid\"))\n",
    "model.add(Dropout(0.2))\n",
    "\n",
    "model.add(Dense(units = 15, activation= \"sigmoid\"))\n",
    "model.add(Dropout(0.2))\n",
    "\n",
    "model.add(Dense(units = 10, activation= \"sigmoid\"))\n",
    "model.add(Dropout(0.2))\n",
    "\n",
    "model.add(Dense(units = 5, activation= \"sigmoid\"))\n",
    "\n",
    "\n",
    "model.add(Dense(units = 1, activation= \"sigmoid\"))\n",
    "\n",
    "model.compile(optimizer= \"adam\", loss= \"binary_crossentropy\")"
   ]
  },
  {
   "cell_type": "code",
   "execution_count": 175,
   "id": "31ee04d8",
   "metadata": {},
   "outputs": [
    {
     "name": "stdout",
     "output_type": "stream",
     "text": [
      "Epoch 1/2\n",
      "5550/5550 [==============================] - 23s 4ms/step - loss: 0.3401 - val_loss: 0.3290\n",
      "Epoch 2/2\n",
      "5550/5550 [==============================] - 23s 4ms/step - loss: 0.3349 - val_loss: 0.3259\n"
     ]
    },
    {
     "data": {
      "text/plain": [
       "<keras.src.callbacks.History at 0x21b38024e50>"
      ]
     },
     "execution_count": 175,
     "metadata": {},
     "output_type": "execute_result"
    }
   ],
   "source": [
    "model.fit(x = X_train, y = y_train, epochs=2, validation_data = (X_test, y_test), callbacks= [early_stopping])"
   ]
  },
  {
   "cell_type": "code",
   "execution_count": 176,
   "id": "0b9130b8",
   "metadata": {},
   "outputs": [
    {
     "data": {
      "text/plain": [
       "<Axes: >"
      ]
     },
     "execution_count": 176,
     "metadata": {},
     "output_type": "execute_result"
    },
    {
     "data": {
      "image/png": "[encoded data removed]",
      "text/plain": [
       "<Figure size 640x480 with 1 Axes>"
      ]
     },
     "metadata": {},
     "output_type": "display_data"
    }
   ],
   "source": [
    "pd.DataFrame(model.history.history).plot()"
   ]
  },
  {
   "cell_type": "code",
   "execution_count": 177,
   "id": "68a08106",
   "metadata": {},
   "outputs": [
    {
     "name": "stdout",
     "output_type": "stream",
     "text": [
      "2379/2379 [==============================] - 5s 2ms/step\n"
     ]
    }
   ],
   "source": [
    "predictions = np.round(model.predict(X_test))"
   ]
  },
  {
   "cell_type": "code",
   "execution_count": 178,
   "id": "3b7880bb",
   "metadata": {},
   "outputs": [],
   "source": [
    "from sklearn.metrics import classification_report, confusion_matrix"
   ]
  },
  {
   "cell_type": "code",
   "execution_count": 179,
   "id": "d0ec5072",
   "metadata": {},
   "outputs": [
    {
     "name": "stdout",
     "output_type": "stream",
     "text": [
      "[[65376     0]\n",
      " [10728     0]]\n"
     ]
    }
   ],
   "source": [
    "print(confusion_matrix(y_test, predictions))"
   ]
  },
  {
   "cell_type": "code",
   "execution_count": 180,
   "id": "1ed98ea5",
   "metadata": {},
   "outputs": [
    {
     "name": "stdout",
     "output_type": "stream",
     "text": [
      "              precision    recall  f1-score   support\n",
      "\n",
      "         0.0       0.86      1.00      0.92     65376\n",
      "         1.0       0.00      0.00      0.00     10728\n",
      "\n",
      "    accuracy                           0.86     76104\n",
      "   macro avg       0.43      0.50      0.46     76104\n",
      "weighted avg       0.74      0.86      0.79     76104\n",
      "\n"
     ]
    },
    {
     "name": "stderr",
     "output_type": "stream",
     "text": [
      "C:\\Users\\shake\\anaconda3\\lib\\site-packages\\sklearn\\metrics\\_classification.py:1344: UndefinedMetricWarning: Precision and F-score are ill-defined and being set to 0.0 in labels with no predicted samples. Use `zero_division` parameter to control this behavior.\n",
      "  _warn_prf(average, modifier, msg_start, len(result))\n",
      "C:\\Users\\shake\\anaconda3\\lib\\site-packages\\sklearn\\metrics\\_classification.py:1344: UndefinedMetricWarning: Precision and F-score are ill-defined and being set to 0.0 in labels with no predicted samples. Use `zero_division` parameter to control this behavior.\n",
      "  _warn_prf(average, modifier, msg_start, len(result))\n",
      "C:\\Users\\shake\\anaconda3\\lib\\site-packages\\sklearn\\metrics\\_classification.py:1344: UndefinedMetricWarning: Precision and F-score are ill-defined and being set to 0.0 in labels with no predicted samples. Use `zero_division` parameter to control this behavior.\n",
      "  _warn_prf(average, modifier, msg_start, len(result))\n"
     ]
    }
   ],
   "source": [
    "print(classification_report(y_test, predictions))"
   ]
  },
  {
   "cell_type": "code",
   "execution_count": 181,
   "id": "841b7885",
   "metadata": {},
   "outputs": [],
   "source": [
    "#trying under sampeling\n",
    "df_0 = df[df[\"Diabetes_binary\"] == 0]"
   ]
  },
  {
   "cell_type": "code",
   "execution_count": 182,
   "id": "d045ad53",
   "metadata": {},
   "outputs": [],
   "source": [
    "df_1 = df[df[\"Diabetes_binary\"] == 1]"
   ]
  },
  {
   "cell_type": "code",
   "execution_count": 183,
   "id": "167a118b",
   "metadata": {},
   "outputs": [],
   "source": [
    "df_sampled = df_0.sample(n = len(df_1), replace=False)"
   ]
  },
  {
   "cell_type": "code",
   "execution_count": 184,
   "id": "932d96f9",
   "metadata": {},
   "outputs": [
    {
     "data": {
      "text/plain": [
       "True"
      ]
     },
     "execution_count": 184,
     "metadata": {},
     "output_type": "execute_result"
    }
   ],
   "source": [
    "len(df_sampled) == len(df_1)"
   ]
  },
  {
   "cell_type": "code",
   "execution_count": 185,
   "id": "5ca90820",
   "metadata": {},
   "outputs": [],
   "source": [
    "df_balanced = pd.concat([df_sampled, df_1])"
   ]
  },
  {
   "cell_type": "code",
   "execution_count": 186,
   "id": "acc4dadc",
   "metadata": {},
   "outputs": [
    {
     "data": {
      "text/plain": [
       "0.0    35346\n",
       "1.0    35346\n",
       "Name: Diabetes_binary, dtype: int64"
      ]
     },
     "execution_count": 186,
     "metadata": {},
     "output_type": "execute_result"
    }
   ],
   "source": [
    "df_balanced[\"Diabetes_binary\"].value_counts()"
   ]
  },
  {
   "cell_type": "code",
   "execution_count": 187,
   "id": "3ab3f291",
   "metadata": {},
   "outputs": [],
   "source": [
    "X = df_balanced.drop(\"Diabetes_binary\", axis = 1)\n",
    "y = df_balanced[\"Diabetes_binary\"]\n",
    "\n",
    "X_train, X_test, y_train, y_test = train_test_split(X, y, test_size=0.3, random_state=101)\n",
    "X_train = scaler.fit_transform(X_train)\n",
    "X_test = scaler.transform(X_test)"
   ]
  },
  {
   "cell_type": "code",
   "execution_count": 201,
   "id": "11d8218b",
   "metadata": {},
   "outputs": [
    {
     "name": "stdout",
     "output_type": "stream",
     "text": [
      "WARNING:tensorflow:EarlyStopping mode <built-in function min> is unknown, fallback to auto mode.\n"
     ]
    },
    {
     "data": {
      "text/plain": [
       "<keras.src.engine.sequential.Sequential at 0x21b385cd5a0>"
      ]
     },
     "execution_count": 201,
     "metadata": {},
     "output_type": "execute_result"
    }
   ],
   "source": [
    "early_stopping = EarlyStopping(monitor=\"val_loss\", mode=min , patience= 25, verbose= 1)\n",
    "model = Sequential()\n"
   ]
  },
  {
   "cell_type": "code",
   "execution_count": 202,
   "id": "5bfc89e6",
   "metadata": {},
   "outputs": [],
   "source": [
    "model.add(Dense(units = 20, activation= \"relu\"))\n",
    "model.add(Dropout(0.2))\n",
    "model.add(Dense(units = 18, activation= \"sigmoid\"))\n",
    "model.add(Dropout(0.2))\n",
    "model.add(Dense(units = 18, activation= \"sigmoid\"))\n",
    "model.add(Dropout(0.2))\n",
    "\n",
    "model.add(Dense(units = 15, activation= \"sigmoid\"))\n",
    "model.add(Dropout(0.2))\n",
    "\n",
    "model.add(Dense(units = 15, activation= \"sigmoid\"))\n",
    "model.add(Dropout(0.2))\n",
    "\n",
    "model.add(Dense(units = 10, activation= \"sigmoid\"))\n",
    "model.add(Dropout(0.2))\n",
    "\n",
    "model.add(Dense(units = 5, activation= \"sigmoid\"))\n",
    "\n",
    "\n",
    "model.add(Dense(units = 1, activation= \"sigmoid\"))\n",
    "\n",
    "model.compile(optimizer= \"adam\", loss= \"binary_crossentropy\")"
   ]
  },
  {
   "cell_type": "code",
   "execution_count": 206,
   "id": "7699a584",
   "metadata": {},
   "outputs": [
    {
     "name": "stdout",
     "output_type": "stream",
     "text": [
      "Epoch 1/2\n",
      "1547/1547 - 6s - loss: 0.5657 - val_loss: 0.5474 - 6s/epoch - 4ms/step\n",
      "Epoch 2/2\n",
      "1547/1547 - 6s - loss: 0.5581 - val_loss: 0.5401 - 6s/epoch - 4ms/step\n"
     ]
    }
   ],
   "source": [
    "history = model.fit(x = X_train, y = y_train, epochs=2,verbose=2, validation_data = (X_test, y_test), callbacks= [early_stopping])"
   ]
  },
  {
   "cell_type": "code",
   "execution_count": 207,
   "id": "d2351e41",
   "metadata": {},
   "outputs": [
    {
     "name": "stdout",
     "output_type": "stream",
     "text": [
      "663/663 [==============================] - 1s 2ms/step\n",
      "              precision    recall  f1-score   support\n",
      "\n",
      "         0.0       0.79      0.64      0.71     10613\n",
      "         1.0       0.70      0.84      0.76     10595\n",
      "\n",
      "    accuracy                           0.74     21208\n",
      "   macro avg       0.75      0.74      0.73     21208\n",
      "weighted avg       0.75      0.74      0.73     21208\n",
      "\n"
     ]
    }
   ],
   "source": [
    "predictions = np.round(model.predict(X_test))\n",
    "print(classification_report(y_test, predictions))"
   ]
  },
  {
   "cell_type": "code",
   "execution_count": 210,
   "id": "41bf2b4c",
   "metadata": {},
   "outputs": [
    {
     "data": {
      "text/html": [
       "<div>\n",
       "<style scoped>\n",
       "    .dataframe tbody tr th:only-of-type {\n",
       "        vertical-align: middle;\n",
       "    }\n",
       "\n",
       "    .dataframe tbody tr th {\n",
       "        vertical-align: top;\n",
       "    }\n",
       "\n",
       "    .dataframe thead th {\n",
       "        text-align: right;\n",
       "    }\n",
       "</style>\n",
       "<table border=\"1\" class=\"dataframe\">\n",
       "  <thead>\n",
       "    <tr style=\"text-align: right;\">\n",
       "      <th></th>\n",
       "      <th>loss</th>\n",
       "      <th>val_loss</th>\n",
       "    </tr>\n",
       "  </thead>\n",
       "  <tbody>\n",
       "    <tr>\n",
       "      <th>0</th>\n",
       "      <td>0.565676</td>\n",
       "      <td>0.547367</td>\n",
       "    </tr>\n",
       "    <tr>\n",
       "      <th>1</th>\n",
       "      <td>0.558123</td>\n",
       "      <td>0.540097</td>\n",
       "    </tr>\n",
       "  </tbody>\n",
       "</table>\n",
       "</div>"
      ],
      "text/plain": [
       "       loss  val_loss\n",
       "0  0.565676  0.547367\n",
       "1  0.558123  0.540097"
      ]
     },
     "execution_count": 210,
     "metadata": {},
     "output_type": "execute_result"
    }
   ],
   "source": [
    "pd.DataFrame(history.history)"
   ]
  },
  {
   "cell_type": "code",
   "execution_count": 147,
   "id": "675cd8d7",
   "metadata": {},
   "outputs": [
    {
     "data": {
      "text/plain": [
       "1.0    218334\n",
       "0.0    218334\n",
       "Name: Diabetes_binary, dtype: int64"
      ]
     },
     "execution_count": 147,
     "metadata": {},
     "output_type": "execute_result"
    }
   ],
   "source": [
    "#over sampling\n",
    "df_oversampled = pd.concat([df_1.sample(n = len(df_0), replace= True), df_0])\n",
    "df_oversampled[\"Diabetes_binary\"].value_counts()"
   ]
  },
  {
   "cell_type": "raw",
   "id": "9cc446f0",
   "metadata": {},
   "source": []
  },
  {
   "cell_type": "code",
   "execution_count": 159,
   "id": "ed6ff26e",
   "metadata": {},
   "outputs": [],
   "source": [
    "X = df_oversampled.drop(\"Diabetes_binary\", axis = 1)\n",
    "y = df_oversampled[\"Diabetes_binary\"]\n",
    "\n",
    "scaler = MinMaxScaler()\n",
    "X_train, X_test, y_train, y_test = train_test_split(X, y, test_size=0.3, random_state=101)\n",
    "X_train = scaler.fit_transform(X_train)\n",
    "X_test = scaler.transform(X_test)"
   ]
  },
  {
   "cell_type": "code",
   "execution_count": 160,
   "id": "99beaf1c",
   "metadata": {},
   "outputs": [
    {
     "name": "stdout",
     "output_type": "stream",
     "text": [
      "WARNING:tensorflow:EarlyStopping mode <built-in function min> is unknown, fallback to auto mode.\n"
     ]
    }
   ],
   "source": [
    "early_stopping = EarlyStopping(monitor=\"val_loss\", mode=min , patience= 25, verbose= 1)\n",
    "model = Sequential()\n",
    "\n",
    "model.add(Dense(units = 20, activation= \"relu\"))\n",
    "model.add(Dropout(0.2))\n",
    "model.add(Dense(units = 18, activation= \"sigmoid\"))\n",
    "model.add(Dropout(0.2))\n",
    "model.add(Dense(units = 18, activation= \"sigmoid\"))\n",
    "model.add(Dropout(0.2))\n",
    "\n",
    "model.add(Dense(units = 15, activation= \"sigmoid\"))\n",
    "model.add(Dropout(0.2))\n",
    "\n",
    "model.add(Dense(units = 15, activation= \"sigmoid\"))\n",
    "model.add(Dropout(0.2))\n",
    "\n",
    "model.add(Dense(units = 10, activation= \"sigmoid\"))\n",
    "model.add(Dropout(0.2))\n",
    "\n",
    "model.add(Dense(units = 5, activation= \"sigmoid\"))\n",
    "\n",
    "\n",
    "model.add(Dense(units = 1, activation= \"sigmoid\"))\n",
    "\n",
    "model.compile(optimizer= \"adam\", loss= \"binary_crossentropy\")"
   ]
  },
  {
   "cell_type": "code",
   "execution_count": 162,
   "id": "525b7933",
   "metadata": {},
   "outputs": [
    {
     "name": "stdout",
     "output_type": "stream",
     "text": [
      "Epoch 1/10\n",
      "9553/9553 [==============================] - 41s 4ms/step - loss: 0.5749 - val_loss: 0.5256\n",
      "Epoch 2/10\n",
      "9553/9553 [==============================] - 40s 4ms/step - loss: 0.5390 - val_loss: 0.5143\n",
      "Epoch 3/10\n",
      "9553/9553 [==============================] - 39s 4ms/step - loss: 0.5295 - val_loss: 0.5124\n",
      "Epoch 4/10\n",
      "9553/9553 [==============================] - 39s 4ms/step - loss: 0.5264 - val_loss: 0.5126\n",
      "Epoch 5/10\n",
      "9553/9553 [==============================] - 39s 4ms/step - loss: 0.5235 - val_loss: 0.5073\n",
      "Epoch 6/10\n",
      "9553/9553 [==============================] - 40s 4ms/step - loss: 0.5217 - val_loss: 0.5069\n",
      "Epoch 7/10\n",
      "9553/9553 [==============================] - 40s 4ms/step - loss: 0.5210 - val_loss: 0.5071\n",
      "Epoch 8/10\n",
      "9553/9553 [==============================] - 39s 4ms/step - loss: 0.5198 - val_loss: 0.5050\n",
      "Epoch 9/10\n",
      "9553/9553 [==============================] - 40s 4ms/step - loss: 0.5188 - val_loss: 0.5052\n",
      "Epoch 10/10\n",
      "9553/9553 [==============================] - 39s 4ms/step - loss: 0.5188 - val_loss: 0.5048\n"
     ]
    },
    {
     "data": {
      "text/plain": [
       "<keras.src.callbacks.History at 0x21b32d48fd0>"
      ]
     },
     "execution_count": 162,
     "metadata": {},
     "output_type": "execute_result"
    }
   ],
   "source": [
    "model.fit(x = X_train, y = y_train, epochs=10,verbose = 1, validation_data = (X_test, y_test), callbacks= [early_stopping])"
   ]
  },
  {
   "cell_type": "code",
   "execution_count": 5,
   "id": "fd6ba5cc",
   "metadata": {},
   "outputs": [
    {
     "ename": "NameError",
     "evalue": "name 'model' is not defined",
     "output_type": "error",
     "traceback": [
      "\u001b[1;31m---------------------------------------------------------------------------\u001b[0m",
      "\u001b[1;31mNameError\u001b[0m                                 Traceback (most recent call last)",
      "Cell \u001b[1;32mIn[5], line 1\u001b[0m\n\u001b[1;32m----> 1\u001b[0m predictions \u001b[38;5;241m=\u001b[39m np\u001b[38;5;241m.\u001b[39mround(\u001b[43mmodel\u001b[49m\u001b[38;5;241m.\u001b[39mpredict(X_test))\n\u001b[0;32m      2\u001b[0m \u001b[38;5;28mprint\u001b[39m(classification_report(y_test, predictions))\n",
      "\u001b[1;31mNameError\u001b[0m: name 'model' is not defined"
     ]
    }
   ],
   "source": [
    "predictions = np.round(model.predict(X_test))\n",
    "print(classification_report(y_test, predictions))"
   ]
  },
  {
   "cell_type": "code",
   "execution_count": 166,
   "id": "6e1bf1ee",
   "metadata": {},
   "outputs": [
    {
     "data": {
      "text/plain": [
       "{}"
      ]
     },
     "execution_count": 166,
     "metadata": {},
     "output_type": "execute_result"
    }
   ],
   "source": [
    "model.history.history"
   ]
  },
  {
   "cell_type": "code",
   "execution_count": 167,
   "id": "fe38629f",
   "metadata": {},
   "outputs": [
    {
     "data": {
      "text/html": [
       "<div>\n",
       "<style scoped>\n",
       "    .dataframe tbody tr th:only-of-type {\n",
       "        vertical-align: middle;\n",
       "    }\n",
       "\n",
       "    .dataframe tbody tr th {\n",
       "        vertical-align: top;\n",
       "    }\n",
       "\n",
       "    .dataframe thead th {\n",
       "        text-align: right;\n",
       "    }\n",
       "</style>\n",
       "<table border=\"1\" class=\"dataframe\">\n",
       "  <thead>\n",
       "    <tr style=\"text-align: right;\">\n",
       "      <th></th>\n",
       "      <th>Diabetes_binary</th>\n",
       "      <th>HighBP</th>\n",
       "      <th>HighChol</th>\n",
       "      <th>CholCheck</th>\n",
       "      <th>BMI</th>\n",
       "      <th>Smoker</th>\n",
       "      <th>Stroke</th>\n",
       "      <th>HeartDiseaseorAttack</th>\n",
       "      <th>PhysActivity</th>\n",
       "      <th>Fruits</th>\n",
       "      <th>...</th>\n",
       "      <th>AnyHealthcare</th>\n",
       "      <th>NoDocbcCost</th>\n",
       "      <th>GenHlth</th>\n",
       "      <th>MentHlth</th>\n",
       "      <th>PhysHlth</th>\n",
       "      <th>DiffWalk</th>\n",
       "      <th>Sex</th>\n",
       "      <th>Age</th>\n",
       "      <th>Education</th>\n",
       "      <th>Income</th>\n",
       "    </tr>\n",
       "  </thead>\n",
       "  <tbody>\n",
       "    <tr>\n",
       "      <th>62276</th>\n",
       "      <td>1.0</td>\n",
       "      <td>1.0</td>\n",
       "      <td>1.0</td>\n",
       "      <td>1.0</td>\n",
       "      <td>28.0</td>\n",
       "      <td>0.0</td>\n",
       "      <td>0.0</td>\n",
       "      <td>0.0</td>\n",
       "      <td>1.0</td>\n",
       "      <td>0.0</td>\n",
       "      <td>...</td>\n",
       "      <td>1.0</td>\n",
       "      <td>0.0</td>\n",
       "      <td>4.0</td>\n",
       "      <td>0.0</td>\n",
       "      <td>0.0</td>\n",
       "      <td>0.0</td>\n",
       "      <td>1.0</td>\n",
       "      <td>6.0</td>\n",
       "      <td>4.0</td>\n",
       "      <td>8.0</td>\n",
       "    </tr>\n",
       "    <tr>\n",
       "      <th>189914</th>\n",
       "      <td>1.0</td>\n",
       "      <td>1.0</td>\n",
       "      <td>0.0</td>\n",
       "      <td>1.0</td>\n",
       "      <td>29.0</td>\n",
       "      <td>0.0</td>\n",
       "      <td>0.0</td>\n",
       "      <td>0.0</td>\n",
       "      <td>1.0</td>\n",
       "      <td>1.0</td>\n",
       "      <td>...</td>\n",
       "      <td>1.0</td>\n",
       "      <td>0.0</td>\n",
       "      <td>3.0</td>\n",
       "      <td>0.0</td>\n",
       "      <td>30.0</td>\n",
       "      <td>0.0</td>\n",
       "      <td>1.0</td>\n",
       "      <td>10.0</td>\n",
       "      <td>6.0</td>\n",
       "      <td>7.0</td>\n",
       "    </tr>\n",
       "    <tr>\n",
       "      <th>159528</th>\n",
       "      <td>1.0</td>\n",
       "      <td>1.0</td>\n",
       "      <td>1.0</td>\n",
       "      <td>1.0</td>\n",
       "      <td>27.0</td>\n",
       "      <td>1.0</td>\n",
       "      <td>0.0</td>\n",
       "      <td>0.0</td>\n",
       "      <td>1.0</td>\n",
       "      <td>0.0</td>\n",
       "      <td>...</td>\n",
       "      <td>1.0</td>\n",
       "      <td>0.0</td>\n",
       "      <td>3.0</td>\n",
       "      <td>0.0</td>\n",
       "      <td>0.0</td>\n",
       "      <td>0.0</td>\n",
       "      <td>0.0</td>\n",
       "      <td>11.0</td>\n",
       "      <td>4.0</td>\n",
       "      <td>4.0</td>\n",
       "    </tr>\n",
       "    <tr>\n",
       "      <th>122969</th>\n",
       "      <td>1.0</td>\n",
       "      <td>1.0</td>\n",
       "      <td>1.0</td>\n",
       "      <td>1.0</td>\n",
       "      <td>26.0</td>\n",
       "      <td>1.0</td>\n",
       "      <td>1.0</td>\n",
       "      <td>1.0</td>\n",
       "      <td>1.0</td>\n",
       "      <td>1.0</td>\n",
       "      <td>...</td>\n",
       "      <td>0.0</td>\n",
       "      <td>1.0</td>\n",
       "      <td>5.0</td>\n",
       "      <td>30.0</td>\n",
       "      <td>28.0</td>\n",
       "      <td>1.0</td>\n",
       "      <td>1.0</td>\n",
       "      <td>8.0</td>\n",
       "      <td>3.0</td>\n",
       "      <td>3.0</td>\n",
       "    </tr>\n",
       "    <tr>\n",
       "      <th>180167</th>\n",
       "      <td>1.0</td>\n",
       "      <td>1.0</td>\n",
       "      <td>0.0</td>\n",
       "      <td>1.0</td>\n",
       "      <td>22.0</td>\n",
       "      <td>1.0</td>\n",
       "      <td>0.0</td>\n",
       "      <td>0.0</td>\n",
       "      <td>0.0</td>\n",
       "      <td>0.0</td>\n",
       "      <td>...</td>\n",
       "      <td>1.0</td>\n",
       "      <td>0.0</td>\n",
       "      <td>2.0</td>\n",
       "      <td>0.0</td>\n",
       "      <td>0.0</td>\n",
       "      <td>0.0</td>\n",
       "      <td>0.0</td>\n",
       "      <td>9.0</td>\n",
       "      <td>5.0</td>\n",
       "      <td>8.0</td>\n",
       "    </tr>\n",
       "    <tr>\n",
       "      <th>...</th>\n",
       "      <td>...</td>\n",
       "      <td>...</td>\n",
       "      <td>...</td>\n",
       "      <td>...</td>\n",
       "      <td>...</td>\n",
       "      <td>...</td>\n",
       "      <td>...</td>\n",
       "      <td>...</td>\n",
       "      <td>...</td>\n",
       "      <td>...</td>\n",
       "      <td>...</td>\n",
       "      <td>...</td>\n",
       "      <td>...</td>\n",
       "      <td>...</td>\n",
       "      <td>...</td>\n",
       "      <td>...</td>\n",
       "      <td>...</td>\n",
       "      <td>...</td>\n",
       "      <td>...</td>\n",
       "      <td>...</td>\n",
       "      <td>...</td>\n",
       "    </tr>\n",
       "    <tr>\n",
       "      <th>253673</th>\n",
       "      <td>0.0</td>\n",
       "      <td>1.0</td>\n",
       "      <td>0.0</td>\n",
       "      <td>1.0</td>\n",
       "      <td>42.0</td>\n",
       "      <td>0.0</td>\n",
       "      <td>0.0</td>\n",
       "      <td>0.0</td>\n",
       "      <td>1.0</td>\n",
       "      <td>1.0</td>\n",
       "      <td>...</td>\n",
       "      <td>1.0</td>\n",
       "      <td>0.0</td>\n",
       "      <td>3.0</td>\n",
       "      <td>14.0</td>\n",
       "      <td>4.0</td>\n",
       "      <td>0.0</td>\n",
       "      <td>1.0</td>\n",
       "      <td>3.0</td>\n",
       "      <td>6.0</td>\n",
       "      <td>8.0</td>\n",
       "    </tr>\n",
       "    <tr>\n",
       "      <th>253674</th>\n",
       "      <td>0.0</td>\n",
       "      <td>0.0</td>\n",
       "      <td>0.0</td>\n",
       "      <td>1.0</td>\n",
       "      <td>27.0</td>\n",
       "      <td>0.0</td>\n",
       "      <td>0.0</td>\n",
       "      <td>0.0</td>\n",
       "      <td>0.0</td>\n",
       "      <td>0.0</td>\n",
       "      <td>...</td>\n",
       "      <td>1.0</td>\n",
       "      <td>0.0</td>\n",
       "      <td>1.0</td>\n",
       "      <td>0.0</td>\n",
       "      <td>0.0</td>\n",
       "      <td>0.0</td>\n",
       "      <td>0.0</td>\n",
       "      <td>3.0</td>\n",
       "      <td>6.0</td>\n",
       "      <td>5.0</td>\n",
       "    </tr>\n",
       "    <tr>\n",
       "      <th>253675</th>\n",
       "      <td>0.0</td>\n",
       "      <td>1.0</td>\n",
       "      <td>1.0</td>\n",
       "      <td>1.0</td>\n",
       "      <td>45.0</td>\n",
       "      <td>0.0</td>\n",
       "      <td>0.0</td>\n",
       "      <td>0.0</td>\n",
       "      <td>0.0</td>\n",
       "      <td>1.0</td>\n",
       "      <td>...</td>\n",
       "      <td>1.0</td>\n",
       "      <td>0.0</td>\n",
       "      <td>3.0</td>\n",
       "      <td>0.0</td>\n",
       "      <td>5.0</td>\n",
       "      <td>0.0</td>\n",
       "      <td>1.0</td>\n",
       "      <td>5.0</td>\n",
       "      <td>6.0</td>\n",
       "      <td>7.0</td>\n",
       "    </tr>\n",
       "    <tr>\n",
       "      <th>253677</th>\n",
       "      <td>0.0</td>\n",
       "      <td>0.0</td>\n",
       "      <td>0.0</td>\n",
       "      <td>1.0</td>\n",
       "      <td>28.0</td>\n",
       "      <td>0.0</td>\n",
       "      <td>0.0</td>\n",
       "      <td>0.0</td>\n",
       "      <td>1.0</td>\n",
       "      <td>1.0</td>\n",
       "      <td>...</td>\n",
       "      <td>1.0</td>\n",
       "      <td>0.0</td>\n",
       "      <td>1.0</td>\n",
       "      <td>0.0</td>\n",
       "      <td>0.0</td>\n",
       "      <td>0.0</td>\n",
       "      <td>0.0</td>\n",
       "      <td>2.0</td>\n",
       "      <td>5.0</td>\n",
       "      <td>2.0</td>\n",
       "    </tr>\n",
       "    <tr>\n",
       "      <th>253678</th>\n",
       "      <td>0.0</td>\n",
       "      <td>1.0</td>\n",
       "      <td>0.0</td>\n",
       "      <td>1.0</td>\n",
       "      <td>23.0</td>\n",
       "      <td>0.0</td>\n",
       "      <td>0.0</td>\n",
       "      <td>0.0</td>\n",
       "      <td>0.0</td>\n",
       "      <td>1.0</td>\n",
       "      <td>...</td>\n",
       "      <td>1.0</td>\n",
       "      <td>0.0</td>\n",
       "      <td>3.0</td>\n",
       "      <td>0.0</td>\n",
       "      <td>0.0</td>\n",
       "      <td>0.0</td>\n",
       "      <td>1.0</td>\n",
       "      <td>7.0</td>\n",
       "      <td>5.0</td>\n",
       "      <td>1.0</td>\n",
       "    </tr>\n",
       "  </tbody>\n",
       "</table>\n",
       "<p>436668 rows × 22 columns</p>\n",
       "</div>"
      ],
      "text/plain": [
       "        Diabetes_binary  HighBP  HighChol  CholCheck   BMI  Smoker  Stroke  \\\n",
       "62276               1.0     1.0       1.0        1.0  28.0     0.0     0.0   \n",
       "189914              1.0     1.0       0.0        1.0  29.0     0.0     0.0   \n",
       "159528              1.0     1.0       1.0        1.0  27.0     1.0     0.0   \n",
       "122969              1.0     1.0       1.0        1.0  26.0     1.0     1.0   \n",
       "180167              1.0     1.0       0.0        1.0  22.0     1.0     0.0   \n",
       "...                 ...     ...       ...        ...   ...     ...     ...   \n",
       "253673              0.0     1.0       0.0        1.0  42.0     0.0     0.0   \n",
       "253674              0.0     0.0       0.0        1.0  27.0     0.0     0.0   \n",
       "253675              0.0     1.0       1.0        1.0  45.0     0.0     0.0   \n",
       "253677              0.0     0.0       0.0        1.0  28.0     0.0     0.0   \n",
       "253678              0.0     1.0       0.0        1.0  23.0     0.0     0.0   \n",
       "\n",
       "        HeartDiseaseorAttack  PhysActivity  Fruits  ...  AnyHealthcare  \\\n",
       "62276                    0.0           1.0     0.0  ...            1.0   \n",
       "189914                   0.0           1.0     1.0  ...            1.0   \n",
       "159528                   0.0           1.0     0.0  ...            1.0   \n",
       "122969                   1.0           1.0     1.0  ...            0.0   \n",
       "180167                   0.0           0.0     0.0  ...            1.0   \n",
       "...                      ...           ...     ...  ...            ...   \n",
       "253673                   0.0           1.0     1.0  ...            1.0   \n",
       "253674                   0.0           0.0     0.0  ...            1.0   \n",
       "253675                   0.0           0.0     1.0  ...            1.0   \n",
       "253677                   0.0           1.0     1.0  ...            1.0   \n",
       "253678                   0.0           0.0     1.0  ...            1.0   \n",
       "\n",
       "        NoDocbcCost  GenHlth  MentHlth  PhysHlth  DiffWalk  Sex   Age  \\\n",
       "62276           0.0      4.0       0.0       0.0       0.0  1.0   6.0   \n",
       "189914          0.0      3.0       0.0      30.0       0.0  1.0  10.0   \n",
       "159528          0.0      3.0       0.0       0.0       0.0  0.0  11.0   \n",
       "122969          1.0      5.0      30.0      28.0       1.0  1.0   8.0   \n",
       "180167          0.0      2.0       0.0       0.0       0.0  0.0   9.0   \n",
       "...             ...      ...       ...       ...       ...  ...   ...   \n",
       "253673          0.0      3.0      14.0       4.0       0.0  1.0   3.0   \n",
       "253674          0.0      1.0       0.0       0.0       0.0  0.0   3.0   \n",
       "253675          0.0      3.0       0.0       5.0       0.0  1.0   5.0   \n",
       "253677          0.0      1.0       0.0       0.0       0.0  0.0   2.0   \n",
       "253678          0.0      3.0       0.0       0.0       0.0  1.0   7.0   \n",
       "\n",
       "        Education  Income  \n",
       "62276         4.0     8.0  \n",
       "189914        6.0     7.0  \n",
       "159528        4.0     4.0  \n",
       "122969        3.0     3.0  \n",
       "180167        5.0     8.0  \n",
       "...           ...     ...  \n",
       "253673        6.0     8.0  \n",
       "253674        6.0     5.0  \n",
       "253675        6.0     7.0  \n",
       "253677        5.0     2.0  \n",
       "253678        5.0     1.0  \n",
       "\n",
       "[436668 rows x 22 columns]"
      ]
     },
     "execution_count": 167,
     "metadata": {},
     "output_type": "execute_result"
    }
   ],
   "source": []
  },
  {
   "cell_type": "markdown",
   "id": "0125c877",
   "metadata": {},
   "source": [
    "no we try ti ensamble it"
   ]
  },
  {
   "cell_type": "code",
   "execution_count": 253,
   "id": "9d54d5d1",
   "metadata": {},
   "outputs": [],
   "source": [
    "\n",
    "X = df.drop(\"Diabetes_binary\", axis = 1)\n",
    "y = df[\"Diabetes_binary\"]\n",
    "X_train, X_test, y_train, y_test = train_test_split(X, y, test_size=0.3)"
   ]
  },
  {
   "cell_type": "code",
   "execution_count": 255,
   "id": "c7b3facd",
   "metadata": {},
   "outputs": [],
   "source": [
    "df3 = X_train.copy()\n",
    "df3[\"Diabetes_binary\"] = y_train\n",
    "df_class1 = df3[df3[\"Diabetes_binary\"]== 1]\n",
    "df_class0 = df3[df3[\"Diabetes_binary\"] == 0]"
   ]
  },
  {
   "cell_type": "code",
   "execution_count": null,
   "id": "5f60b48a",
   "metadata": {},
   "outputs": [],
   "source": []
  },
  {
   "cell_type": "code",
   "execution_count": 259,
   "id": "94b9b830",
   "metadata": {},
   "outputs": [],
   "source": [
    "def ANN(start, end, epochs):\n",
    "    X_train = pd.concat([df_class0[start:end],df_class1 ], axis = 0).drop(\"Diabetes_binary\", axis = 1)\n",
    "    y_train = pd.concat([df_class0[start:end],df_class1 ], axis = 0)[\"Diabetes_binary\"]\n",
    "    \n",
    "    early_stopping = EarlyStopping(monitor=\"val_loss\", mode=min , patience= 25, verbose= 1)\n",
    "    model = Sequential()\n",
    "\n",
    "    model.add(Dense(units = 20, activation= \"relu\"))\n",
    "    model.add(Dropout(0.2))\n",
    "    model.add(Dense(units = 18, activation= \"sigmoid\"))\n",
    "    model.add(Dropout(0.2))\n",
    "    model.add(Dense(units = 18, activation= \"sigmoid\"))\n",
    "    model.add(Dropout(0.2))\n",
    "\n",
    "    model.add(Dense(units = 15, activation= \"sigmoid\"))\n",
    "    model.add(Dropout(0.2))\n",
    "\n",
    "    model.add(Dense(units = 15, activation= \"sigmoid\"))\n",
    "    model.add(Dropout(0.2))\n",
    "\n",
    "    model.add(Dense(units = 10, activation= \"sigmoid\"))\n",
    "    model.add(Dropout(0.2))\n",
    "\n",
    "    model.add(Dense(units = 5, activation= \"sigmoid\"))\n",
    "\n",
    "\n",
    "    model.add(Dense(units = 1, activation= \"sigmoid\"))\n",
    "\n",
    "    model.compile(optimizer= \"adam\", loss= \"binary_crossentropy\")\n",
    "    \n",
    "    history = model.fit(x = X_train, y = y_train, epochs=epochs, validation_data = (X_test, y_test),\n",
    "                        callbacks= [early_stopping])\n",
    "    print(classification_report(np.round(model.predict(X_test)), y_test))   \n",
    "    pd.DataFrame(history.history).plot()\n",
    "    return np.round(model.predict(X_test))"
   ]
  },
  {
   "cell_type": "code",
   "execution_count": null,
   "id": "1d90b458",
   "metadata": {},
   "outputs": [],
   "source": []
  },
  {
   "cell_type": "code",
   "execution_count": 225,
   "id": "d95a496d",
   "metadata": {},
   "outputs": [
    {
     "data": {
      "text/plain": [
       "array([[0.2421513 ],\n",
       "       [0.71642417],\n",
       "       [0.24222764],\n",
       "       ...,\n",
       "       [0.24215406],\n",
       "       [0.24281448],\n",
       "       [0.24214211]], dtype=float32)"
      ]
     },
     "execution_count": 225,
     "metadata": {},
     "output_type": "execute_result"
    }
   ],
   "source": []
  },
  {
   "cell_type": "code",
   "execution_count": 247,
   "id": "8d0dd84f",
   "metadata": {},
   "outputs": [],
   "source": [
    "df_split_1 = df_class0[:len(df_class1)]\n",
    "df_split_2 = df_class0[len(df_class1):len(df_class1)*2 ]\n",
    "df_split_3 = df_class0[len(df_class1)*2 :len(df_class1)*3]\n",
    "df_split_4 = df_class0[len(df_class1)*3 :len(df_class1)*4]\n",
    "df_split_5 = df_class0[len(df_class1)*4 :len(df_class1)*5]\n",
    "df_split_6 = df_class0[len(df_class1)*5:]"
   ]
  },
  {
   "cell_type": "code",
   "execution_count": 264,
   "id": "064d58a1",
   "metadata": {},
   "outputs": [
    {
     "name": "stdout",
     "output_type": "stream",
     "text": [
      "WARNING:tensorflow:EarlyStopping mode <built-in function min> is unknown, fallback to auto mode.\n",
      "Epoch 1/50\n",
      "1550/1550 [==============================] - 12s 7ms/step - loss: 0.6476 - val_loss: 0.6161\n",
      "Epoch 2/50\n",
      "1550/1550 [==============================] - 10s 6ms/step - loss: 0.5813 - val_loss: 0.5718\n",
      "Epoch 3/50\n",
      "1550/1550 [==============================] - 12s 7ms/step - loss: 0.5680 - val_loss: 0.5508\n",
      "Epoch 4/50\n",
      "1550/1550 [==============================] - 11s 7ms/step - loss: 0.5604 - val_loss: 0.5607\n",
      "Epoch 5/50\n",
      "1550/1550 [==============================] - 10s 7ms/step - loss: 0.5532 - val_loss: 0.5638\n",
      "Epoch 6/50\n",
      "1550/1550 [==============================] - 10s 7ms/step - loss: 0.5472 - val_loss: 0.5972\n",
      "Epoch 7/50\n",
      "1550/1550 [==============================] - 10s 7ms/step - loss: 0.5455 - val_loss: 0.5733\n",
      "Epoch 8/50\n",
      "1550/1550 [==============================] - 10s 7ms/step - loss: 0.5445 - val_loss: 0.5205\n",
      "Epoch 9/50\n",
      "1550/1550 [==============================] - 11s 7ms/step - loss: 0.5443 - val_loss: 0.5259\n",
      "Epoch 10/50\n",
      "1550/1550 [==============================] - 10s 7ms/step - loss: 0.5411 - val_loss: 0.5816\n",
      "Epoch 11/50\n",
      "1550/1550 [==============================] - 10s 7ms/step - loss: 0.5403 - val_loss: 0.5662\n",
      "Epoch 12/50\n",
      "1550/1550 [==============================] - 10s 7ms/step - loss: 0.5383 - val_loss: 0.5147\n",
      "Epoch 13/50\n",
      "1550/1550 [==============================] - 10s 7ms/step - loss: 0.5378 - val_loss: 0.5132\n",
      "Epoch 14/50\n",
      "1550/1550 [==============================] - 11s 7ms/step - loss: 0.5382 - val_loss: 0.5028\n",
      "Epoch 15/50\n",
      "1550/1550 [==============================] - 10s 7ms/step - loss: 0.5356 - val_loss: 0.5309\n",
      "Epoch 16/50\n",
      "1550/1550 [==============================] - 10s 7ms/step - loss: 0.5358 - val_loss: 0.5497\n",
      "Epoch 17/50\n",
      "1550/1550 [==============================] - 11s 7ms/step - loss: 0.5358 - val_loss: 0.5008\n",
      "Epoch 18/50\n",
      "1550/1550 [==============================] - 10s 7ms/step - loss: 0.5365 - val_loss: 0.4979\n",
      "Epoch 19/50\n",
      "1550/1550 [==============================] - 10s 7ms/step - loss: 0.5341 - val_loss: 0.5555\n",
      "Epoch 20/50\n",
      "1550/1550 [==============================] - 10s 7ms/step - loss: 0.5343 - val_loss: 0.5223\n",
      "Epoch 21/50\n",
      "1550/1550 [==============================] - 11s 7ms/step - loss: 0.5318 - val_loss: 0.5355\n",
      "Epoch 22/50\n",
      "1550/1550 [==============================] - 10s 6ms/step - loss: 0.5336 - val_loss: 0.5266\n",
      "Epoch 23/50\n",
      "1550/1550 [==============================] - 10s 6ms/step - loss: 0.5324 - val_loss: 0.5517\n",
      "Epoch 24/50\n",
      "1550/1550 [==============================] - 10s 7ms/step - loss: 0.5306 - val_loss: 0.4862\n",
      "Epoch 25/50\n",
      "1550/1550 [==============================] - 10s 6ms/step - loss: 0.5319 - val_loss: 0.5720\n",
      "Epoch 26/50\n",
      "1550/1550 [==============================] - 10s 6ms/step - loss: 0.5301 - val_loss: 0.5390\n",
      "Epoch 27/50\n",
      "1550/1550 [==============================] - 10s 6ms/step - loss: 0.5305 - val_loss: 0.5500\n",
      "Epoch 28/50\n",
      "1550/1550 [==============================] - 10s 6ms/step - loss: 0.5297 - val_loss: 0.5245\n",
      "Epoch 29/50\n",
      "1550/1550 [==============================] - 10s 6ms/step - loss: 0.5298 - val_loss: 0.4927\n",
      "Epoch 30/50\n",
      "1550/1550 [==============================] - 10s 6ms/step - loss: 0.5279 - val_loss: 0.5720\n",
      "Epoch 31/50\n",
      "1550/1550 [==============================] - 10s 6ms/step - loss: 0.5281 - val_loss: 0.5289\n",
      "Epoch 32/50\n",
      "1550/1550 [==============================] - 10s 6ms/step - loss: 0.5278 - val_loss: 0.5335\n",
      "Epoch 33/50\n",
      "1550/1550 [==============================] - 10s 6ms/step - loss: 0.5256 - val_loss: 0.5267\n",
      "Epoch 34/50\n",
      "1550/1550 [==============================] - 10s 6ms/step - loss: 0.5267 - val_loss: 0.5327\n",
      "Epoch 35/50\n",
      "1550/1550 [==============================] - 10s 6ms/step - loss: 0.5256 - val_loss: 0.4814\n",
      "Epoch 36/50\n",
      "1550/1550 [==============================] - 10s 6ms/step - loss: 0.5269 - val_loss: 0.5638\n",
      "Epoch 37/50\n",
      "1550/1550 [==============================] - 10s 6ms/step - loss: 0.5261 - val_loss: 0.5525\n",
      "Epoch 38/50\n",
      "1550/1550 [==============================] - 10s 6ms/step - loss: 0.5266 - val_loss: 0.5263\n",
      "Epoch 39/50\n",
      "1550/1550 [==============================] - 10s 6ms/step - loss: 0.5266 - val_loss: 0.5488\n",
      "Epoch 40/50\n",
      "1550/1550 [==============================] - 10s 6ms/step - loss: 0.5236 - val_loss: 0.5620\n",
      "Epoch 41/50\n",
      "1550/1550 [==============================] - 10s 6ms/step - loss: 0.5238 - val_loss: 0.5233\n",
      "Epoch 42/50\n",
      "1550/1550 [==============================] - 10s 6ms/step - loss: 0.5250 - val_loss: 0.4937\n",
      "Epoch 43/50\n",
      "1550/1550 [==============================] - 10s 6ms/step - loss: 0.5246 - val_loss: 0.5462\n",
      "Epoch 44/50\n",
      "1550/1550 [==============================] - 10s 6ms/step - loss: 0.5239 - val_loss: 0.5015\n",
      "Epoch 45/50\n",
      "1550/1550 [==============================] - 10s 6ms/step - loss: 0.5231 - val_loss: 0.5397\n",
      "Epoch 46/50\n",
      "1550/1550 [==============================] - 10s 6ms/step - loss: 0.5241 - val_loss: 0.5563\n",
      "Epoch 47/50\n",
      "1550/1550 [==============================] - 10s 6ms/step - loss: 0.5238 - val_loss: 0.4934\n",
      "Epoch 48/50\n",
      "1550/1550 [==============================] - 10s 6ms/step - loss: 0.5236 - val_loss: 0.5402\n",
      "Epoch 49/50\n",
      "1550/1550 [==============================] - 10s 7ms/step - loss: 0.5226 - val_loss: 0.5096\n",
      "Epoch 50/50\n",
      "1550/1550 [==============================] - 10s 6ms/step - loss: 0.5218 - val_loss: 0.5303\n",
      "2379/2379 [==============================] - 5s 2ms/step\n",
      "              precision    recall  f1-score   support\n",
      "\n",
      "         0.0       0.71      0.95      0.81     48646\n",
      "         1.0       0.78      0.30      0.44     27458\n",
      "\n",
      "    accuracy                           0.72     76104\n",
      "   macro avg       0.75      0.63      0.62     76104\n",
      "weighted avg       0.74      0.72      0.68     76104\n",
      "\n",
      "2379/2379 [==============================] - 5s 2ms/step\n",
      "WARNING:tensorflow:EarlyStopping mode <built-in function min> is unknown, fallback to auto mode.\n",
      "Epoch 1/50\n",
      "1550/1550 [==============================] - 11s 6ms/step - loss: 0.6600 - val_loss: 0.5731\n",
      "Epoch 2/50\n",
      "1550/1550 [==============================] - 10s 6ms/step - loss: 0.5851 - val_loss: 0.5634\n",
      "Epoch 3/50\n",
      "1550/1550 [==============================] - 10s 6ms/step - loss: 0.5718 - val_loss: 0.6436\n",
      "Epoch 4/50\n",
      "1550/1550 [==============================] - 10s 6ms/step - loss: 0.5656 - val_loss: 0.5878\n",
      "Epoch 5/50\n",
      "1550/1550 [==============================] - 10s 6ms/step - loss: 0.5587 - val_loss: 0.5250\n",
      "Epoch 6/50\n",
      "1550/1550 [==============================] - 10s 6ms/step - loss: 0.5577 - val_loss: 0.5924\n",
      "Epoch 7/50\n",
      "1550/1550 [==============================] - 10s 6ms/step - loss: 0.5529 - val_loss: 0.5649\n",
      "Epoch 8/50\n",
      "1550/1550 [==============================] - 10s 6ms/step - loss: 0.5517 - val_loss: 0.5660\n",
      "Epoch 9/50\n",
      "1550/1550 [==============================] - 10s 7ms/step - loss: 0.5469 - val_loss: 0.5040\n",
      "Epoch 10/50\n",
      "1550/1550 [==============================] - 10s 6ms/step - loss: 0.5472 - val_loss: 0.5289\n",
      "Epoch 11/50\n",
      "1550/1550 [==============================] - 10s 6ms/step - loss: 0.5443 - val_loss: 0.5317\n",
      "Epoch 12/50\n",
      "1550/1550 [==============================] - 10s 6ms/step - loss: 0.5443 - val_loss: 0.5322\n",
      "Epoch 13/50\n",
      "1550/1550 [==============================] - 10s 6ms/step - loss: 0.5429 - val_loss: 0.5528\n",
      "Epoch 14/50\n",
      "1550/1550 [==============================] - 10s 6ms/step - loss: 0.5422 - val_loss: 0.5279\n",
      "Epoch 15/50\n",
      "1550/1550 [==============================] - 10s 6ms/step - loss: 0.5418 - val_loss: 0.5453\n",
      "Epoch 16/50\n",
      "1550/1550 [==============================] - 10s 6ms/step - loss: 0.5400 - val_loss: 0.5160\n",
      "Epoch 17/50\n",
      "1550/1550 [==============================] - 10s 6ms/step - loss: 0.5383 - val_loss: 0.5457\n",
      "Epoch 18/50\n",
      "1550/1550 [==============================] - 10s 6ms/step - loss: 0.5393 - val_loss: 0.5805\n",
      "Epoch 19/50\n",
      "1550/1550 [==============================] - 10s 6ms/step - loss: 0.5368 - val_loss: 0.5743\n",
      "Epoch 20/50\n",
      "1550/1550 [==============================] - 10s 6ms/step - loss: 0.5375 - val_loss: 0.5528\n",
      "Epoch 21/50\n",
      "1550/1550 [==============================] - 10s 7ms/step - loss: 0.5364 - val_loss: 0.5074\n",
      "Epoch 22/50\n",
      "1550/1550 [==============================] - 10s 6ms/step - loss: 0.5365 - val_loss: 0.5405\n",
      "Epoch 23/50\n",
      "1550/1550 [==============================] - 10s 6ms/step - loss: 0.5354 - val_loss: 0.5206\n"
     ]
    },
    {
     "name": "stdout",
     "output_type": "stream",
     "text": [
      "Epoch 24/50\n",
      "1550/1550 [==============================] - 10s 6ms/step - loss: 0.5343 - val_loss: 0.5112\n",
      "Epoch 25/50\n",
      "1550/1550 [==============================] - 10s 6ms/step - loss: 0.5335 - val_loss: 0.4881\n",
      "Epoch 26/50\n",
      "1550/1550 [==============================] - 10s 6ms/step - loss: 0.5338 - val_loss: 0.5056\n",
      "Epoch 27/50\n",
      "1550/1550 [==============================] - 10s 6ms/step - loss: 0.5326 - val_loss: 0.5269\n",
      "Epoch 28/50\n",
      "1550/1550 [==============================] - 10s 6ms/step - loss: 0.5323 - val_loss: 0.5790\n",
      "Epoch 29/50\n",
      "1550/1550 [==============================] - 10s 6ms/step - loss: 0.5335 - val_loss: 0.5018\n",
      "Epoch 30/50\n",
      "1550/1550 [==============================] - 10s 6ms/step - loss: 0.5315 - val_loss: 0.5169\n",
      "Epoch 31/50\n",
      "1550/1550 [==============================] - 10s 6ms/step - loss: 0.5320 - val_loss: 0.5222\n",
      "Epoch 32/50\n",
      "1550/1550 [==============================] - 10s 6ms/step - loss: 0.5317 - val_loss: 0.5479\n",
      "Epoch 33/50\n",
      "1550/1550 [==============================] - 10s 7ms/step - loss: 0.5319 - val_loss: 0.5303\n",
      "Epoch 34/50\n",
      "1550/1550 [==============================] - 10s 6ms/step - loss: 0.5292 - val_loss: 0.5015\n",
      "Epoch 35/50\n",
      "1550/1550 [==============================] - 10s 6ms/step - loss: 0.5304 - val_loss: 0.4985\n",
      "Epoch 36/50\n",
      "1550/1550 [==============================] - 10s 6ms/step - loss: 0.5305 - val_loss: 0.5052\n",
      "Epoch 37/50\n",
      "1550/1550 [==============================] - 10s 6ms/step - loss: 0.5281 - val_loss: 0.5183\n",
      "Epoch 38/50\n",
      "1550/1550 [==============================] - 10s 6ms/step - loss: 0.5287 - val_loss: 0.5112\n",
      "Epoch 39/50\n",
      "1550/1550 [==============================] - 10s 6ms/step - loss: 0.5306 - val_loss: 0.5209\n",
      "Epoch 40/50\n",
      "1550/1550 [==============================] - 10s 6ms/step - loss: 0.5280 - val_loss: 0.5414\n",
      "Epoch 41/50\n",
      "1550/1550 [==============================] - 10s 6ms/step - loss: 0.5292 - val_loss: 0.5114\n",
      "Epoch 42/50\n",
      "1550/1550 [==============================] - 10s 6ms/step - loss: 0.5274 - val_loss: 0.5016\n",
      "Epoch 43/50\n",
      "1550/1550 [==============================] - 10s 6ms/step - loss: 0.5274 - val_loss: 0.4989\n",
      "Epoch 44/50\n",
      "1550/1550 [==============================] - 10s 6ms/step - loss: 0.5287 - val_loss: 0.4854\n",
      "Epoch 45/50\n",
      "1550/1550 [==============================] - 10s 6ms/step - loss: 0.5278 - val_loss: 0.4976\n",
      "Epoch 46/50\n",
      "1550/1550 [==============================] - 8s 5ms/step - loss: 0.5275 - val_loss: 0.5663\n",
      "Epoch 47/50\n",
      "1550/1550 [==============================] - 10s 6ms/step - loss: 0.5271 - val_loss: 0.4917\n",
      "Epoch 48/50\n",
      "1550/1550 [==============================] - 10s 6ms/step - loss: 0.5267 - val_loss: 0.5158\n",
      "Epoch 49/50\n",
      "1550/1550 [==============================] - 10s 6ms/step - loss: 0.5261 - val_loss: 0.5171\n",
      "Epoch 50/50\n",
      "1550/1550 [==============================] - 10s 6ms/step - loss: 0.5270 - val_loss: 0.4821\n",
      "2379/2379 [==============================] - 5s 2ms/step\n",
      "              precision    recall  f1-score   support\n",
      "\n",
      "         0.0       0.73      0.95      0.83     50557\n",
      "         1.0       0.76      0.31      0.44     25547\n",
      "\n",
      "    accuracy                           0.74     76104\n",
      "   macro avg       0.74      0.63      0.63     76104\n",
      "weighted avg       0.74      0.74      0.70     76104\n",
      "\n",
      "2379/2379 [==============================] - 5s 2ms/step\n",
      "WARNING:tensorflow:EarlyStopping mode <built-in function min> is unknown, fallback to auto mode.\n",
      "Epoch 1/50\n",
      "1550/1550 [==============================] - 11s 6ms/step - loss: 0.6460 - val_loss: 0.5688\n",
      "Epoch 2/50\n",
      "1550/1550 [==============================] - 10s 6ms/step - loss: 0.5836 - val_loss: 0.6198\n",
      "Epoch 3/50\n",
      "1550/1550 [==============================] - 10s 6ms/step - loss: 0.5743 - val_loss: 0.5314\n",
      "Epoch 4/50\n",
      "1550/1550 [==============================] - 10s 6ms/step - loss: 0.5646 - val_loss: 0.5471\n",
      "Epoch 5/50\n",
      "1550/1550 [==============================] - 10s 6ms/step - loss: 0.5586 - val_loss: 0.5133\n",
      "Epoch 6/50\n",
      "1550/1550 [==============================] - 10s 7ms/step - loss: 0.5532 - val_loss: 0.5965\n",
      "Epoch 7/50\n",
      "1550/1550 [==============================] - 10s 7ms/step - loss: 0.5500 - val_loss: 0.5100\n",
      "Epoch 8/50\n",
      "1550/1550 [==============================] - 10s 7ms/step - loss: 0.5471 - val_loss: 0.5488\n",
      "Epoch 9/50\n",
      "1550/1550 [==============================] - 10s 7ms/step - loss: 0.5461 - val_loss: 0.5209\n",
      "Epoch 10/50\n",
      "1550/1550 [==============================] - 10s 6ms/step - loss: 0.5441 - val_loss: 0.5613\n",
      "Epoch 11/50\n",
      "1550/1550 [==============================] - 10s 6ms/step - loss: 0.5421 - val_loss: 0.5452\n",
      "Epoch 12/50\n",
      "1550/1550 [==============================] - 10s 6ms/step - loss: 0.5423 - val_loss: 0.5306\n",
      "Epoch 13/50\n",
      "1550/1550 [==============================] - 10s 6ms/step - loss: 0.5421 - val_loss: 0.5446\n",
      "Epoch 14/50\n",
      "1550/1550 [==============================] - 10s 6ms/step - loss: 0.5411 - val_loss: 0.5611\n",
      "Epoch 15/50\n",
      "1550/1550 [==============================] - 10s 6ms/step - loss: 0.5397 - val_loss: 0.5195\n",
      "Epoch 16/50\n",
      "1550/1550 [==============================] - 10s 6ms/step - loss: 0.5394 - val_loss: 0.4830\n",
      "Epoch 17/50\n",
      "1550/1550 [==============================] - 10s 6ms/step - loss: 0.5388 - val_loss: 0.5644\n",
      "Epoch 18/50\n",
      "1550/1550 [==============================] - 10s 7ms/step - loss: 0.5386 - val_loss: 0.5408\n",
      "Epoch 19/50\n",
      "1550/1550 [==============================] - 10s 6ms/step - loss: 0.5378 - val_loss: 0.5559\n",
      "Epoch 20/50\n",
      "1550/1550 [==============================] - 10s 6ms/step - loss: 0.5358 - val_loss: 0.5207\n",
      "Epoch 21/50\n",
      "1550/1550 [==============================] - 10s 6ms/step - loss: 0.5356 - val_loss: 0.5574\n",
      "Epoch 22/50\n",
      "1550/1550 [==============================] - 10s 6ms/step - loss: 0.5356 - val_loss: 0.5560\n",
      "Epoch 23/50\n",
      "1550/1550 [==============================] - 10s 6ms/step - loss: 0.5356 - val_loss: 0.5693\n",
      "Epoch 24/50\n",
      "1550/1550 [==============================] - 10s 6ms/step - loss: 0.5337 - val_loss: 0.5273\n",
      "Epoch 25/50\n",
      "1550/1550 [==============================] - 10s 6ms/step - loss: 0.5344 - val_loss: 0.5473\n",
      "Epoch 26/50\n",
      "1550/1550 [==============================] - 10s 6ms/step - loss: 0.5322 - val_loss: 0.5151\n",
      "Epoch 27/50\n",
      "1550/1550 [==============================] - 10s 6ms/step - loss: 0.5332 - val_loss: 0.5381\n",
      "Epoch 28/50\n",
      "1550/1550 [==============================] - 10s 6ms/step - loss: 0.5317 - val_loss: 0.5288\n",
      "Epoch 29/50\n",
      "1550/1550 [==============================] - 10s 6ms/step - loss: 0.5312 - val_loss: 0.5348\n",
      "Epoch 30/50\n",
      "1550/1550 [==============================] - 10s 6ms/step - loss: 0.5321 - val_loss: 0.5597\n",
      "Epoch 31/50\n",
      "1550/1550 [==============================] - 10s 6ms/step - loss: 0.5316 - val_loss: 0.5666\n",
      "Epoch 32/50\n",
      "1550/1550 [==============================] - 10s 6ms/step - loss: 0.5299 - val_loss: 0.5490\n",
      "Epoch 33/50\n",
      "1550/1550 [==============================] - 10s 6ms/step - loss: 0.5303 - val_loss: 0.4960\n",
      "Epoch 34/50\n",
      "1550/1550 [==============================] - 10s 6ms/step - loss: 0.5288 - val_loss: 0.5321\n",
      "Epoch 35/50\n",
      "1550/1550 [==============================] - 10s 6ms/step - loss: 0.5296 - val_loss: 0.5492\n",
      "Epoch 36/50\n",
      "1550/1550 [==============================] - 10s 6ms/step - loss: 0.5298 - val_loss: 0.5242\n",
      "Epoch 37/50\n",
      "1550/1550 [==============================] - 10s 6ms/step - loss: 0.5293 - val_loss: 0.5011\n",
      "Epoch 38/50\n",
      "1550/1550 [==============================] - 10s 6ms/step - loss: 0.5293 - val_loss: 0.5616\n",
      "Epoch 39/50\n",
      "1550/1550 [==============================] - 10s 6ms/step - loss: 0.5300 - val_loss: 0.4866\n",
      "Epoch 40/50\n",
      "1550/1550 [==============================] - 10s 6ms/step - loss: 0.5276 - val_loss: 0.5301\n",
      "Epoch 41/50\n",
      "1550/1550 [==============================] - 10s 6ms/step - loss: 0.5279 - val_loss: 0.5519\n",
      "Epoch 41: early stopping\n",
      "2379/2379 [==============================] - 5s 2ms/step\n",
      "              precision    recall  f1-score   support\n",
      "\n",
      "         0.0       0.65      0.96      0.77     44244\n",
      "         1.0       0.84      0.28      0.42     31860\n",
      "\n",
      "    accuracy                           0.68     76104\n",
      "   macro avg       0.74      0.62      0.60     76104\n",
      "weighted avg       0.73      0.68      0.62     76104\n",
      "\n",
      "2379/2379 [==============================] - 5s 2ms/step\n",
      "WARNING:tensorflow:EarlyStopping mode <built-in function min> is unknown, fallback to auto mode.\n",
      "Epoch 1/50\n",
      "1550/1550 [==============================] - 11s 6ms/step - loss: 0.6461 - val_loss: 0.6464\n",
      "Epoch 2/50\n",
      "1550/1550 [==============================] - 10s 6ms/step - loss: 0.5830 - val_loss: 0.6245\n",
      "Epoch 3/50\n",
      "1550/1550 [==============================] - 10s 7ms/step - loss: 0.5746 - val_loss: 0.5801\n",
      "Epoch 4/50\n",
      "1550/1550 [==============================] - 10s 6ms/step - loss: 0.5678 - val_loss: 0.5654\n",
      "Epoch 5/50\n",
      "1550/1550 [==============================] - 10s 6ms/step - loss: 0.5599 - val_loss: 0.5867\n",
      "Epoch 6/50\n",
      "1550/1550 [==============================] - 10s 6ms/step - loss: 0.5584 - val_loss: 0.5316\n",
      "Epoch 7/50\n",
      "1550/1550 [==============================] - 10s 6ms/step - loss: 0.5557 - val_loss: 0.5575\n",
      "Epoch 8/50\n",
      "1550/1550 [==============================] - 10s 6ms/step - loss: 0.5519 - val_loss: 0.5907\n",
      "Epoch 9/50\n",
      "1550/1550 [==============================] - 10s 6ms/step - loss: 0.5497 - val_loss: 0.5369\n",
      "Epoch 10/50\n",
      "1550/1550 [==============================] - 10s 6ms/step - loss: 0.5474 - val_loss: 0.5176\n",
      "Epoch 11/50\n",
      "1550/1550 [==============================] - 10s 6ms/step - loss: 0.5454 - val_loss: 0.5457\n",
      "Epoch 12/50\n",
      "1550/1550 [==============================] - 10s 7ms/step - loss: 0.5444 - val_loss: 0.5482\n",
      "Epoch 13/50\n",
      "1550/1550 [==============================] - 10s 6ms/step - loss: 0.5433 - val_loss: 0.5348\n",
      "Epoch 14/50\n",
      "1550/1550 [==============================] - 10s 6ms/step - loss: 0.5421 - val_loss: 0.5589\n",
      "Epoch 15/50\n",
      "1550/1550 [==============================] - 10s 6ms/step - loss: 0.5421 - val_loss: 0.5231\n",
      "Epoch 16/50\n",
      "1550/1550 [==============================] - 10s 6ms/step - loss: 0.5417 - val_loss: 0.5860\n",
      "Epoch 17/50\n",
      "1550/1550 [==============================] - 10s 6ms/step - loss: 0.5387 - val_loss: 0.5557\n",
      "Epoch 18/50\n",
      "1550/1550 [==============================] - 10s 6ms/step - loss: 0.5384 - val_loss: 0.5145\n",
      "Epoch 19/50\n",
      "1550/1550 [==============================] - 10s 6ms/step - loss: 0.5377 - val_loss: 0.4998\n",
      "Epoch 20/50\n",
      "1550/1550 [==============================] - 10s 6ms/step - loss: 0.5376 - val_loss: 0.5060\n",
      "Epoch 21/50\n",
      "1550/1550 [==============================] - 10s 6ms/step - loss: 0.5379 - val_loss: 0.5220\n",
      "Epoch 22/50\n",
      "1550/1550 [==============================] - 10s 6ms/step - loss: 0.5379 - val_loss: 0.5315\n",
      "Epoch 23/50\n",
      "1550/1550 [==============================] - 10s 6ms/step - loss: 0.5351 - val_loss: 0.5136\n",
      "Epoch 24/50\n",
      "1550/1550 [==============================] - 10s 7ms/step - loss: 0.5348 - val_loss: 0.5180\n",
      "Epoch 25/50\n",
      "1550/1550 [==============================] - 10s 6ms/step - loss: 0.5350 - val_loss: 0.5033\n",
      "Epoch 26/50\n",
      "1550/1550 [==============================] - 10s 6ms/step - loss: 0.5332 - val_loss: 0.5169\n",
      "Epoch 27/50\n",
      "1550/1550 [==============================] - 10s 6ms/step - loss: 0.5336 - val_loss: 0.5380\n",
      "Epoch 28/50\n",
      "1550/1550 [==============================] - 10s 6ms/step - loss: 0.5331 - val_loss: 0.5572\n",
      "Epoch 29/50\n",
      "1550/1550 [==============================] - 10s 6ms/step - loss: 0.5341 - val_loss: 0.5317\n",
      "Epoch 30/50\n",
      "1550/1550 [==============================] - 10s 6ms/step - loss: 0.5321 - val_loss: 0.5265\n",
      "Epoch 31/50\n",
      "1550/1550 [==============================] - 10s 6ms/step - loss: 0.5323 - val_loss: 0.5306\n",
      "Epoch 32/50\n",
      "1550/1550 [==============================] - 10s 6ms/step - loss: 0.5307 - val_loss: 0.4747\n",
      "Epoch 33/50\n",
      "1550/1550 [==============================] - 10s 6ms/step - loss: 0.5305 - val_loss: 0.4678\n",
      "Epoch 34/50\n",
      "1550/1550 [==============================] - 10s 6ms/step - loss: 0.5309 - val_loss: 0.4662\n",
      "Epoch 35/50\n",
      "1550/1550 [==============================] - 10s 6ms/step - loss: 0.5309 - val_loss: 0.5179\n",
      "Epoch 36/50\n",
      "1550/1550 [==============================] - 10s 7ms/step - loss: 0.5289 - val_loss: 0.5164\n",
      "Epoch 37/50\n",
      "1550/1550 [==============================] - 10s 6ms/step - loss: 0.5307 - val_loss: 0.4904\n",
      "Epoch 38/50\n",
      "1550/1550 [==============================] - 10s 6ms/step - loss: 0.5297 - val_loss: 0.5012\n",
      "Epoch 39/50\n",
      "1550/1550 [==============================] - 10s 6ms/step - loss: 0.5293 - val_loss: 0.5471\n",
      "Epoch 40/50\n",
      "1550/1550 [==============================] - 10s 6ms/step - loss: 0.5285 - val_loss: 0.5207\n",
      "Epoch 41/50\n",
      "1550/1550 [==============================] - 10s 6ms/step - loss: 0.5291 - val_loss: 0.4786\n",
      "Epoch 42/50\n",
      "1550/1550 [==============================] - 10s 6ms/step - loss: 0.5263 - val_loss: 0.4762\n",
      "Epoch 43/50\n",
      "1550/1550 [==============================] - 10s 6ms/step - loss: 0.5268 - val_loss: 0.4907\n",
      "Epoch 44/50\n",
      "1550/1550 [==============================] - 10s 6ms/step - loss: 0.5275 - val_loss: 0.5278\n",
      "Epoch 45/50\n",
      "1550/1550 [==============================] - 10s 6ms/step - loss: 0.5270 - val_loss: 0.5369\n",
      "Epoch 46/50\n",
      "1550/1550 [==============================] - 10s 6ms/step - loss: 0.5253 - val_loss: 0.4911\n",
      "Epoch 47/50\n",
      "1550/1550 [==============================] - 10s 6ms/step - loss: 0.5262 - val_loss: 0.4855\n",
      "Epoch 48/50\n",
      "1550/1550 [==============================] - 10s 6ms/step - loss: 0.5250 - val_loss: 0.4803\n",
      "Epoch 49/50\n",
      "1550/1550 [==============================] - 10s 6ms/step - loss: 0.5260 - val_loss: 0.5140\n",
      "Epoch 50/50\n",
      "1550/1550 [==============================] - 10s 6ms/step - loss: 0.5254 - val_loss: 0.4805\n",
      "2379/2379 [==============================] - 5s 2ms/step\n",
      "              precision    recall  f1-score   support\n",
      "\n",
      "         0.0       0.77      0.94      0.85     53216\n",
      "         1.0       0.71      0.33      0.45     22888\n",
      "\n",
      "    accuracy                           0.76     76104\n",
      "   macro avg       0.74      0.64      0.65     76104\n",
      "weighted avg       0.75      0.76      0.73     76104\n",
      "\n",
      "2379/2379 [==============================] - 5s 2ms/step\n",
      "WARNING:tensorflow:EarlyStopping mode <built-in function min> is unknown, fallback to auto mode.\n",
      "Epoch 1/50\n",
      "1550/1550 [==============================] - 12s 7ms/step - loss: 0.6451 - val_loss: 0.5777\n",
      "Epoch 2/50\n",
      "1550/1550 [==============================] - 10s 6ms/step - loss: 0.5840 - val_loss: 0.5731\n",
      "Epoch 3/50\n",
      "1550/1550 [==============================] - 10s 6ms/step - loss: 0.5762 - val_loss: 0.5796\n",
      "Epoch 4/50\n",
      "1550/1550 [==============================] - 10s 6ms/step - loss: 0.5686 - val_loss: 0.5807\n",
      "Epoch 5/50\n",
      "1550/1550 [==============================] - 10s 6ms/step - loss: 0.5644 - val_loss: 0.5444\n",
      "Epoch 6/50\n",
      "1550/1550 [==============================] - 10s 6ms/step - loss: 0.5579 - val_loss: 0.5981\n",
      "Epoch 7/50\n",
      "1550/1550 [==============================] - 10s 6ms/step - loss: 0.5549 - val_loss: 0.5772\n",
      "Epoch 8/50\n",
      "1550/1550 [==============================] - 10s 6ms/step - loss: 0.5516 - val_loss: 0.5584\n",
      "Epoch 9/50\n",
      "1550/1550 [==============================] - 10s 6ms/step - loss: 0.5494 - val_loss: 0.5489\n",
      "Epoch 10/50\n",
      "1550/1550 [==============================] - 10s 6ms/step - loss: 0.5498 - val_loss: 0.5471\n",
      "Epoch 11/50\n",
      "1550/1550 [==============================] - 10s 6ms/step - loss: 0.5488 - val_loss: 0.5319\n",
      "Epoch 12/50\n",
      "1550/1550 [==============================] - 10s 6ms/step - loss: 0.5476 - val_loss: 0.5383\n",
      "Epoch 13/50\n",
      "1550/1550 [==============================] - 10s 6ms/step - loss: 0.5455 - val_loss: 0.5610\n",
      "Epoch 14/50\n",
      "1550/1550 [==============================] - 10s 6ms/step - loss: 0.5446 - val_loss: 0.5211\n",
      "Epoch 15/50\n",
      "1550/1550 [==============================] - 446s 288ms/step - loss: 0.5424 - val_loss: 0.5129\n",
      "Epoch 16/50\n",
      "1550/1550 [==============================] - 10s 7ms/step - loss: 0.5432 - val_loss: 0.5098\n",
      "Epoch 17/50\n",
      "1550/1550 [==============================] - 10s 6ms/step - loss: 0.5412 - val_loss: 0.5432\n",
      "Epoch 18/50\n",
      "1550/1550 [==============================] - 10s 6ms/step - loss: 0.5416 - val_loss: 0.5112\n",
      "Epoch 19/50\n",
      "1550/1550 [==============================] - 10s 6ms/step - loss: 0.5409 - val_loss: 0.5651\n",
      "Epoch 20/50\n",
      "1550/1550 [==============================] - 10s 6ms/step - loss: 0.5412 - val_loss: 0.5295\n",
      "Epoch 21/50\n",
      "1550/1550 [==============================] - 10s 6ms/step - loss: 0.5408 - val_loss: 0.5560\n",
      "Epoch 22/50\n",
      "1550/1550 [==============================] - 10s 6ms/step - loss: 0.5400 - val_loss: 0.5349\n",
      "Epoch 23/50\n",
      "1550/1550 [==============================] - 10s 6ms/step - loss: 0.5396 - val_loss: 0.5358\n",
      "Epoch 24/50\n",
      "1550/1550 [==============================] - 10s 6ms/step - loss: 0.5391 - val_loss: 0.5664\n"
     ]
    },
    {
     "name": "stdout",
     "output_type": "stream",
     "text": [
      "Epoch 25/50\n",
      "1550/1550 [==============================] - 10s 6ms/step - loss: 0.5377 - val_loss: 0.5012\n",
      "Epoch 26/50\n",
      "1550/1550 [==============================] - 10s 7ms/step - loss: 0.5365 - val_loss: 0.5775\n",
      "Epoch 27/50\n",
      "1550/1550 [==============================] - 10s 6ms/step - loss: 0.5365 - val_loss: 0.5289\n",
      "Epoch 28/50\n",
      "1550/1550 [==============================] - 10s 6ms/step - loss: 0.5369 - val_loss: 0.4773\n",
      "Epoch 29/50\n",
      "1550/1550 [==============================] - 10s 6ms/step - loss: 0.5366 - val_loss: 0.5206\n",
      "Epoch 30/50\n",
      "1550/1550 [==============================] - 10s 6ms/step - loss: 0.5353 - val_loss: 0.4996\n",
      "Epoch 31/50\n",
      "1550/1550 [==============================] - 10s 7ms/step - loss: 0.5351 - val_loss: 0.5205\n",
      "Epoch 32/50\n",
      "1550/1550 [==============================] - 11s 7ms/step - loss: 0.5344 - val_loss: 0.4914\n",
      "Epoch 33/50\n",
      "1550/1550 [==============================] - 10s 6ms/step - loss: 0.5353 - val_loss: 0.5081\n",
      "Epoch 34/50\n",
      "1550/1550 [==============================] - 10s 6ms/step - loss: 0.5337 - val_loss: 0.5171\n",
      "Epoch 35/50\n",
      "1550/1550 [==============================] - 10s 6ms/step - loss: 0.5347 - val_loss: 0.5085\n",
      "Epoch 36/50\n",
      "1550/1550 [==============================] - 10s 6ms/step - loss: 0.5330 - val_loss: 0.5424\n",
      "Epoch 37/50\n",
      "1550/1550 [==============================] - 10s 6ms/step - loss: 0.5340 - val_loss: 0.5444\n",
      "Epoch 38/50\n",
      "1550/1550 [==============================] - 10s 6ms/step - loss: 0.5337 - val_loss: 0.5272\n",
      "Epoch 39/50\n",
      "1550/1550 [==============================] - 10s 6ms/step - loss: 0.5329 - val_loss: 0.5047\n",
      "Epoch 40/50\n",
      "1550/1550 [==============================] - 10s 6ms/step - loss: 0.5330 - val_loss: 0.5441\n",
      "Epoch 41/50\n",
      "1550/1550 [==============================] - 10s 6ms/step - loss: 0.5326 - val_loss: 0.5373\n",
      "Epoch 42/50\n",
      "1550/1550 [==============================] - 10s 6ms/step - loss: 0.5309 - val_loss: 0.5622\n",
      "Epoch 43/50\n",
      "1550/1550 [==============================] - 10s 6ms/step - loss: 0.5316 - val_loss: 0.5088\n",
      "Epoch 44/50\n",
      "1550/1550 [==============================] - 10s 6ms/step - loss: 0.5306 - val_loss: 0.5545\n",
      "Epoch 45/50\n",
      "1550/1550 [==============================] - 10s 6ms/step - loss: 0.5313 - val_loss: 0.5162\n",
      "Epoch 46/50\n",
      "1550/1550 [==============================] - 10s 6ms/step - loss: 0.5307 - val_loss: 0.4851\n",
      "Epoch 47/50\n",
      "1550/1550 [==============================] - 10s 6ms/step - loss: 0.5306 - val_loss: 0.5524\n",
      "Epoch 48/50\n",
      "1550/1550 [==============================] - 10s 6ms/step - loss: 0.5304 - val_loss: 0.5267\n",
      "Epoch 49/50\n",
      "1550/1550 [==============================] - 10s 6ms/step - loss: 0.5308 - val_loss: 0.5562\n",
      "Epoch 50/50\n",
      "1550/1550 [==============================] - 10s 6ms/step - loss: 0.5305 - val_loss: 0.5458\n",
      "2379/2379 [==============================] - 5s 2ms/step\n",
      "              precision    recall  f1-score   support\n",
      "\n",
      "         0.0       0.65      0.96      0.77     44149\n",
      "         1.0       0.84      0.28      0.42     31955\n",
      "\n",
      "    accuracy                           0.68     76104\n",
      "   macro avg       0.75      0.62      0.60     76104\n",
      "weighted avg       0.73      0.68      0.63     76104\n",
      "\n",
      "2379/2379 [==============================] - 5s 2ms/step\n",
      "WARNING:tensorflow:EarlyStopping mode <built-in function min> is unknown, fallback to auto mode.\n",
      "Epoch 1/50\n",
      "1676/1676 [==============================] - 12s 6ms/step - loss: 0.6429 - val_loss: 0.5611\n",
      "Epoch 2/50\n",
      "1676/1676 [==============================] - 10s 6ms/step - loss: 0.5807 - val_loss: 0.5386\n",
      "Epoch 3/50\n",
      "1676/1676 [==============================] - 11s 6ms/step - loss: 0.5696 - val_loss: 0.5261\n",
      "Epoch 4/50\n",
      "1676/1676 [==============================] - 10s 6ms/step - loss: 0.5611 - val_loss: 0.4770\n",
      "Epoch 5/50\n",
      "1676/1676 [==============================] - 10s 6ms/step - loss: 0.5567 - val_loss: 0.4833\n",
      "Epoch 6/50\n",
      "1676/1676 [==============================] - 10s 6ms/step - loss: 0.5515 - val_loss: 0.5503\n",
      "Epoch 7/50\n",
      "1676/1676 [==============================] - 10s 6ms/step - loss: 0.5486 - val_loss: 0.5395\n",
      "Epoch 8/50\n",
      "1676/1676 [==============================] - 10s 6ms/step - loss: 0.5441 - val_loss: 0.4958\n",
      "Epoch 9/50\n",
      "1676/1676 [==============================] - 10s 6ms/step - loss: 0.5421 - val_loss: 0.4926\n",
      "Epoch 10/50\n",
      "1676/1676 [==============================] - 10s 6ms/step - loss: 0.5407 - val_loss: 0.5039\n",
      "Epoch 11/50\n",
      "1676/1676 [==============================] - 10s 6ms/step - loss: 0.5390 - val_loss: 0.5206\n",
      "Epoch 12/50\n",
      "1676/1676 [==============================] - 10s 6ms/step - loss: 0.5381 - val_loss: 0.5260\n",
      "Epoch 13/50\n",
      "1676/1676 [==============================] - 10s 6ms/step - loss: 0.5364 - val_loss: 0.5132\n",
      "Epoch 14/50\n",
      "1676/1676 [==============================] - 10s 6ms/step - loss: 0.5363 - val_loss: 0.5023\n",
      "Epoch 15/50\n",
      "1676/1676 [==============================] - 11s 6ms/step - loss: 0.5346 - val_loss: 0.5003\n",
      "Epoch 16/50\n",
      "1676/1676 [==============================] - 10s 6ms/step - loss: 0.5348 - val_loss: 0.5018\n",
      "Epoch 17/50\n",
      "1676/1676 [==============================] - 10s 6ms/step - loss: 0.5346 - val_loss: 0.4980\n",
      "Epoch 18/50\n",
      "1676/1676 [==============================] - 10s 6ms/step - loss: 0.5319 - val_loss: 0.4897\n",
      "Epoch 19/50\n",
      "1676/1676 [==============================] - 10s 6ms/step - loss: 0.5327 - val_loss: 0.5146\n",
      "Epoch 20/50\n",
      "1676/1676 [==============================] - 10s 6ms/step - loss: 0.5324 - val_loss: 0.5100\n",
      "Epoch 21/50\n",
      "1676/1676 [==============================] - 10s 6ms/step - loss: 0.5315 - val_loss: 0.5054\n",
      "Epoch 22/50\n",
      "1676/1676 [==============================] - 10s 6ms/step - loss: 0.5301 - val_loss: 0.5180\n",
      "Epoch 23/50\n",
      "1676/1676 [==============================] - 10s 6ms/step - loss: 0.5309 - val_loss: 0.5125\n",
      "Epoch 24/50\n",
      "1676/1676 [==============================] - 10s 6ms/step - loss: 0.5295 - val_loss: 0.5078\n",
      "Epoch 25/50\n",
      "1676/1676 [==============================] - 10s 6ms/step - loss: 0.5293 - val_loss: 0.4801\n",
      "Epoch 26/50\n",
      "1676/1676 [==============================] - 10s 6ms/step - loss: 0.5276 - val_loss: 0.5082\n",
      "Epoch 27/50\n",
      "1676/1676 [==============================] - 10s 6ms/step - loss: 0.5278 - val_loss: 0.5092\n",
      "Epoch 28/50\n",
      "1676/1676 [==============================] - 10s 6ms/step - loss: 0.5279 - val_loss: 0.5470\n",
      "Epoch 29/50\n",
      "1676/1676 [==============================] - 10s 6ms/step - loss: 0.5275 - val_loss: 0.4617\n",
      "Epoch 30/50\n",
      "1676/1676 [==============================] - 10s 6ms/step - loss: 0.5275 - val_loss: 0.5052\n",
      "Epoch 31/50\n",
      "1676/1676 [==============================] - 10s 6ms/step - loss: 0.5269 - val_loss: 0.5034\n",
      "Epoch 32/50\n",
      "1676/1676 [==============================] - 10s 6ms/step - loss: 0.5268 - val_loss: 0.4938\n",
      "Epoch 33/50\n",
      "1676/1676 [==============================] - 11s 6ms/step - loss: 0.5274 - val_loss: 0.4307\n",
      "Epoch 34/50\n",
      "1676/1676 [==============================] - 10s 6ms/step - loss: 0.5248 - val_loss: 0.5100\n",
      "Epoch 35/50\n",
      "1676/1676 [==============================] - 10s 6ms/step - loss: 0.5263 - val_loss: 0.4620\n",
      "Epoch 36/50\n",
      "1676/1676 [==============================] - 10s 6ms/step - loss: 0.5247 - val_loss: 0.4831\n",
      "Epoch 37/50\n",
      "1676/1676 [==============================] - 10s 6ms/step - loss: 0.5249 - val_loss: 0.4820\n",
      "Epoch 38/50\n",
      "1676/1676 [==============================] - 10s 6ms/step - loss: 0.5245 - val_loss: 0.5001\n",
      "Epoch 39/50\n",
      "1676/1676 [==============================] - 10s 6ms/step - loss: 0.5248 - val_loss: 0.4698\n",
      "Epoch 40/50\n",
      "1676/1676 [==============================] - 10s 6ms/step - loss: 0.5241 - val_loss: 0.4858\n",
      "Epoch 41/50\n",
      "1676/1676 [==============================] - 10s 6ms/step - loss: 0.5232 - val_loss: 0.4860\n",
      "Epoch 42/50\n",
      "1676/1676 [==============================] - 10s 6ms/step - loss: 0.5239 - val_loss: 0.4998\n",
      "Epoch 43/50\n",
      "1676/1676 [==============================] - 10s 6ms/step - loss: 0.5235 - val_loss: 0.4787\n",
      "Epoch 44/50\n",
      "1676/1676 [==============================] - 10s 6ms/step - loss: 0.5216 - val_loss: 0.4294\n",
      "Epoch 45/50\n",
      "1676/1676 [==============================] - 10s 6ms/step - loss: 0.5236 - val_loss: 0.4856\n",
      "Epoch 46/50\n",
      "1676/1676 [==============================] - 11s 6ms/step - loss: 0.5219 - val_loss: 0.4638\n",
      "Epoch 47/50\n",
      "1676/1676 [==============================] - 10s 6ms/step - loss: 0.5233 - val_loss: 0.4843\n",
      "Epoch 48/50\n",
      "1676/1676 [==============================] - 10s 6ms/step - loss: 0.5224 - val_loss: 0.5137\n",
      "Epoch 49/50\n",
      "1676/1676 [==============================] - 10s 6ms/step - loss: 0.5208 - val_loss: 0.5221\n",
      "Epoch 50/50\n",
      "1676/1676 [==============================] - 10s 6ms/step - loss: 0.5224 - val_loss: 0.4915\n",
      "2379/2379 [==============================] - 5s 2ms/step\n",
      "              precision    recall  f1-score   support\n",
      "\n",
      "         0.0       0.73      0.95      0.83     50489\n",
      "         1.0       0.76      0.31      0.44     25615\n",
      "\n",
      "    accuracy                           0.74     76104\n",
      "   macro avg       0.75      0.63      0.64     76104\n",
      "weighted avg       0.74      0.74      0.70     76104\n",
      "\n",
      "2379/2379 [==============================] - 5s 2ms/step\n"
     ]
    },
    {
     "data": {
      "image/png": "[encoded data removed]",
      "text/plain": [
       "<Figure size 640x480 with 1 Axes>"
      ]
     },
     "metadata": {},
     "output_type": "display_data"
    },
    {
     "data": {
      "image/png": "[encoded data removed]",
      "text/plain": [
       "<Figure size 640x480 with 1 Axes>"
      ]
     },
     "metadata": {},
     "output_type": "display_data"
    },
    {
     "data": {
      "image/png": "[encoded data removed]",
      "text/plain": [
       "<Figure size 640x480 with 1 Axes>"
      ]
     },
     "metadata": {},
     "output_type": "display_data"
    },
    {
     "data": {
      "image/png": "[encoded data removed]",
      "text/plain": [
       "<Figure size 640x480 with 1 Axes>"
      ]
     },
     "metadata": {},
     "output_type": "display_data"
    },
    {
     "data": {
      "image/png": "[encoded data removed]",
      "text/plain": [
       "<Figure size 640x480 with 1 Axes>"
      ]
     },
     "metadata": {},
     "output_type": "display_data"
    },
    {
     "data": {
      "image/png": "[encoded data removed]",
      "text/plain": [
       "<Figure size 640x480 with 1 Axes>"
      ]
     },
     "metadata": {},
     "output_type": "display_data"
    }
   ],
   "source": [
    "y_pred1 = ANN(0,len(df_class1),50)\n",
    "y_pred2 = ANN(len(df_class1),len(df_class1)*2,50)\n",
    "y_pred3 = ANN(len(df_class1)*2 ,len(df_class1)*3,50)\n",
    "y_pred4 = ANN(len(df_class1)*3 ,len(df_class1)*4,50)\n",
    "y_pred5 = ANN(len(df_class1)*4 ,len(df_class1)*5,50)\n",
    "y_pred6 = ANN(len(df_class1)*5, len(df_class0),50)"
   ]
  },
  {
   "cell_type": "code",
   "execution_count": 269,
   "id": "e47eccba",
   "metadata": {},
   "outputs": [],
   "source": [
    "y_pred_final = y_pred1\n",
    "for i in range(len(y_test)):\n",
    "    n_ones = y_pred1[i] + y_pred2[i] + y_pred3[i] + y_pred4[i] + y_pred5[i]+ y_pred6[i]\n",
    "    if n_ones >=4:\n",
    "        y_pred_final[i] =1\n",
    "    else:\n",
    "        y_pred_final[i] = 0"
   ]
  },
  {
   "cell_type": "code",
   "execution_count": 270,
   "id": "f9cf298a",
   "metadata": {},
   "outputs": [
    {
     "name": "stdout",
     "output_type": "stream",
     "text": [
      "              precision    recall  f1-score   support\n",
      "\n",
      "         0.0       0.72      0.95      0.82     49235\n",
      "         1.0       0.78      0.31      0.44     26869\n",
      "\n",
      "    accuracy                           0.72     76104\n",
      "   macro avg       0.75      0.63      0.63     76104\n",
      "weighted avg       0.74      0.72      0.68     76104\n",
      "\n"
     ]
    }
   ],
   "source": [
    "print(classification_report(y_pred_final, y_test))"
   ]
  },
  {
   "cell_type": "code",
   "execution_count": 271,
   "id": "e093ef31",
   "metadata": {},
   "outputs": [],
   "source": [
    "from imblearn.over_sampling import SMOTE"
   ]
  },
  {
   "cell_type": "code",
   "execution_count": 275,
   "id": "2709be57",
   "metadata": {},
   "outputs": [],
   "source": [
    "sm =SMOTE()"
   ]
  },
  {
   "cell_type": "code",
   "execution_count": 284,
   "id": "9a97f555",
   "metadata": {},
   "outputs": [],
   "source": [
    "from sklearn.model_selection import train_test_split\n",
    "X = df.drop(\"Diabetes_binary\", axis = 1)\n",
    "y = df[\"Diabetes_binary\"]\n",
    "X_train, X_test, y_train, y_test = train_test_split(X, y, test_size=0.3)"
   ]
  },
  {
   "cell_type": "code",
   "execution_count": 285,
   "id": "693198cf",
   "metadata": {},
   "outputs": [],
   "source": [
    "X_train_res, y_train_res = sm.fit_resample(X_train, y_train)"
   ]
  },
  {
   "cell_type": "code",
   "execution_count": 286,
   "id": "99ce7df4",
   "metadata": {},
   "outputs": [
    {
     "name": "stdout",
     "output_type": "stream",
     "text": [
      "WARNING:tensorflow:EarlyStopping mode <built-in function min> is unknown, fallback to auto mode.\n",
      "Epoch 1/50\n",
      "9555/9555 [==============================] - 41s 4ms/step - loss: 0.5936 - val_loss: 0.5747\n",
      "Epoch 2/50\n",
      "9555/9555 [==============================] - 41s 4ms/step - loss: 0.5550 - val_loss: 0.5441\n",
      "Epoch 3/50\n",
      "9555/9555 [==============================] - 41s 4ms/step - loss: 0.5480 - val_loss: 0.5539\n",
      "Epoch 4/50\n",
      "9555/9555 [==============================] - 40s 4ms/step - loss: 0.5440 - val_loss: 0.5299\n",
      "Epoch 5/50\n",
      "9555/9555 [==============================] - 41s 4ms/step - loss: 0.5402 - val_loss: 0.5461\n",
      "Epoch 6/50\n",
      "9555/9555 [==============================] - 43s 4ms/step - loss: 0.5363 - val_loss: 0.5566\n",
      "Epoch 7/50\n",
      "9555/9555 [==============================] - 43s 4ms/step - loss: 0.5342 - val_loss: 0.5705\n",
      "Epoch 8/50\n",
      "9555/9555 [==============================] - 42s 4ms/step - loss: 0.5320 - val_loss: 0.5602\n",
      "Epoch 9/50\n",
      "9555/9555 [==============================] - 40s 4ms/step - loss: 0.5292 - val_loss: 0.5359\n",
      "Epoch 10/50\n",
      "9555/9555 [==============================] - 45s 5ms/step - loss: 0.5279 - val_loss: 0.5058\n",
      "Epoch 11/50\n",
      "9555/9555 [==============================] - 42s 4ms/step - loss: 0.5267 - val_loss: 0.5365\n",
      "Epoch 12/50\n",
      "9555/9555 [==============================] - 42s 4ms/step - loss: 0.5252 - val_loss: 0.5332\n",
      "Epoch 13/50\n",
      "9555/9555 [==============================] - 41s 4ms/step - loss: 0.5233 - val_loss: 0.5092\n",
      "Epoch 14/50\n",
      "9555/9555 [==============================] - 41s 4ms/step - loss: 0.5217 - val_loss: 0.5086\n",
      "Epoch 15/50\n",
      "9555/9555 [==============================] - 2211s 231ms/step - loss: 0.5204 - val_loss: 0.5182\n",
      "Epoch 16/50\n",
      "9555/9555 [==============================] - 38s 4ms/step - loss: 0.5197 - val_loss: 0.4669\n",
      "Epoch 17/50\n",
      "9555/9555 [==============================] - 36s 4ms/step - loss: 0.5183 - val_loss: 0.5293\n",
      "Epoch 18/50\n",
      "9555/9555 [==============================] - 36s 4ms/step - loss: 0.5174 - val_loss: 0.5274\n",
      "Epoch 19/50\n",
      "9555/9555 [==============================] - 37s 4ms/step - loss: 0.5167 - val_loss: 0.5448\n",
      "Epoch 20/50\n",
      "9555/9555 [==============================] - 37s 4ms/step - loss: 0.5161 - val_loss: 0.5425\n",
      "Epoch 21/50\n",
      "9555/9555 [==============================] - 36s 4ms/step - loss: 0.5155 - val_loss: 0.5320\n",
      "Epoch 22/50\n",
      "9555/9555 [==============================] - 36s 4ms/step - loss: 0.5148 - val_loss: 0.5189\n",
      "Epoch 23/50\n",
      "9555/9555 [==============================] - 37s 4ms/step - loss: 0.5141 - val_loss: 0.5093\n",
      "Epoch 24/50\n",
      "9555/9555 [==============================] - 36s 4ms/step - loss: 0.5141 - val_loss: 0.5220\n",
      "Epoch 25/50\n",
      "9555/9555 [==============================] - 36s 4ms/step - loss: 0.5136 - val_loss: 0.5069\n",
      "Epoch 26/50\n",
      "9555/9555 [==============================] - 37s 4ms/step - loss: 0.5135 - val_loss: 0.5068\n",
      "Epoch 27/50\n",
      "9555/9555 [==============================] - 36s 4ms/step - loss: 0.5135 - val_loss: 0.4873\n",
      "Epoch 28/50\n",
      "9555/9555 [==============================] - 36s 4ms/step - loss: 0.5124 - val_loss: 0.4986\n",
      "Epoch 29/50\n",
      "9555/9555 [==============================] - 37s 4ms/step - loss: 0.5115 - val_loss: 0.5024\n",
      "Epoch 30/50\n",
      "9555/9555 [==============================] - 37s 4ms/step - loss: 0.5120 - val_loss: 0.4970\n",
      "Epoch 31/50\n",
      "9555/9555 [==============================] - 36s 4ms/step - loss: 0.5117 - val_loss: 0.4932\n",
      "Epoch 32/50\n",
      "9555/9555 [==============================] - 37s 4ms/step - loss: 0.5113 - val_loss: 0.5198\n",
      "Epoch 33/50\n",
      "9555/9555 [==============================] - 36s 4ms/step - loss: 0.5104 - val_loss: 0.5203\n",
      "Epoch 34/50\n",
      "9555/9555 [==============================] - 36s 4ms/step - loss: 0.5095 - val_loss: 0.4798\n",
      "Epoch 35/50\n",
      "9555/9555 [==============================] - 36s 4ms/step - loss: 0.5095 - val_loss: 0.5183\n",
      "Epoch 36/50\n",
      "9555/9555 [==============================] - 36s 4ms/step - loss: 0.5090 - val_loss: 0.4663\n",
      "Epoch 37/50\n",
      "9555/9555 [==============================] - 36s 4ms/step - loss: 0.5072 - val_loss: 0.4897\n",
      "Epoch 38/50\n",
      "9555/9555 [==============================] - 36s 4ms/step - loss: 0.5072 - val_loss: 0.4742\n",
      "Epoch 39/50\n",
      "9555/9555 [==============================] - 37s 4ms/step - loss: 0.5067 - val_loss: 0.4863\n",
      "Epoch 40/50\n",
      "9555/9555 [==============================] - 37s 4ms/step - loss: 0.5062 - val_loss: 0.4797\n",
      "Epoch 41/50\n",
      "9555/9555 [==============================] - 37s 4ms/step - loss: 0.5059 - val_loss: 0.4873\n",
      "Epoch 42/50\n",
      "9555/9555 [==============================] - 37s 4ms/step - loss: 0.5051 - val_loss: 0.4788\n",
      "Epoch 43/50\n",
      "9555/9555 [==============================] - 36s 4ms/step - loss: 0.5054 - val_loss: 0.4859\n",
      "Epoch 44/50\n",
      "9555/9555 [==============================] - 36s 4ms/step - loss: 0.5048 - val_loss: 0.4688\n",
      "Epoch 45/50\n",
      "9555/9555 [==============================] - 36s 4ms/step - loss: 0.5042 - val_loss: 0.4749\n",
      "Epoch 46/50\n",
      "9555/9555 [==============================] - 37s 4ms/step - loss: 0.5037 - val_loss: 0.5111\n",
      "Epoch 47/50\n",
      "9555/9555 [==============================] - 36s 4ms/step - loss: 0.5030 - val_loss: 0.4783\n",
      "Epoch 48/50\n",
      "9555/9555 [==============================] - 36s 4ms/step - loss: 0.5022 - val_loss: 0.4944\n",
      "Epoch 49/50\n",
      "9555/9555 [==============================] - 36s 4ms/step - loss: 0.5024 - val_loss: 0.4961\n",
      "Epoch 50/50\n",
      "9555/9555 [==============================] - 36s 4ms/step - loss: 0.5026 - val_loss: 0.4859\n",
      "2379/2379 [==============================] - 7s 3ms/step\n",
      "              precision    recall  f1-score   support\n",
      "\n",
      "         0.0       0.77      0.94      0.85     53642\n",
      "         1.0       0.69      0.33      0.44     22462\n",
      "\n",
      "    accuracy                           0.76     76104\n",
      "   macro avg       0.73      0.63      0.64     76104\n",
      "weighted avg       0.75      0.76      0.73     76104\n",
      "\n"
     ]
    },
    {
     "data": {
      "text/plain": [
       "<Axes: >"
      ]
     },
     "execution_count": 286,
     "metadata": {},
     "output_type": "execute_result"
    },
    {
     "data": {
      "image/png": "[encoded data removed]",
      "text/plain": [
       "<Figure size 640x480 with 1 Axes>"
      ]
     },
     "metadata": {},
     "output_type": "display_data"
    }
   ],
   "source": [
    "early_stopping = EarlyStopping(monitor=\"val_loss\", mode=min , patience= 25, verbose= 1)\n",
    "model = Sequential()\n",
    "\n",
    "model.add(Dense(units = 20, activation= \"relu\"))\n",
    "model.add(Dropout(0.5))\n",
    "model.add(Dense(units = 18, activation= \"sigmoid\"))\n",
    "model.add(Dropout(0.5))\n",
    "model.add(Dense(units = 18, activation= \"sigmoid\"))\n",
    "model.add(Dropout(0.2))\n",
    "\n",
    "model.add(Dense(units = 15, activation= \"sigmoid\"))\n",
    "model.add(Dropout(0.2))\n",
    "\n",
    "model.add(Dense(units = 15, activation= \"sigmoid\"))\n",
    "model.add(Dropout(0.2))\n",
    "\n",
    "model.add(Dense(units = 10, activation= \"sigmoid\"))\n",
    "model.add(Dropout(0.2))\n",
    "\n",
    "model.add(Dense(units = 5, activation= \"sigmoid\"))\n",
    "\n",
    "\n",
    "model.add(Dense(units = 1, activation= \"sigmoid\"))\n",
    "\n",
    "model.compile(optimizer= \"adam\", loss= \"binary_crossentropy\")\n",
    "\n",
    "history = model.fit(x = X_train_res, y = y_train_res, epochs=50, validation_data = (X_test, y_test),\n",
    "                    callbacks= [early_stopping])\n",
    "print(classification_report(np.round(model.predict(X_test)), y_test))   \n",
    "pd.DataFrame(history.history).plot()"
   ]
  },
  {
   "cell_type": "code",
   "execution_count": 18,
   "id": "c2910255",
   "metadata": {},
   "outputs": [],
   "source": [
    "from sklearn.model_selection import train_test_split\n",
    "X = df.drop(\"Diabetes_binary\", axis = 1)\n",
    "y = df[\"Diabetes_binary\"]\n",
    "X_train, X_test, y_train, y_test = train_test_split(X, y, test_size=0.3)"
   ]
  },
  {
   "cell_type": "code",
   "execution_count": 6,
   "id": "1385b3b7",
   "metadata": {},
   "outputs": [],
   "source": [
    "from sklearn.linear_model import LogisticRegression\n",
    "log_model = LogisticRegression()"
   ]
  },
  {
   "cell_type": "code",
   "execution_count": 8,
   "id": "bb6a61d0",
   "metadata": {},
   "outputs": [
    {
     "name": "stderr",
     "output_type": "stream",
     "text": [
      "C:\\Users\\shake\\anaconda3\\lib\\site-packages\\sklearn\\linear_model\\_logistic.py:458: ConvergenceWarning: lbfgs failed to converge (status=1):\n",
      "STOP: TOTAL NO. of ITERATIONS REACHED LIMIT.\n",
      "\n",
      "Increase the number of iterations (max_iter) or scale the data as shown in:\n",
      "    https://scikit-learn.org/stable/modules/preprocessing.html\n",
      "Please also refer to the documentation for alternative solver options:\n",
      "    https://scikit-learn.org/stable/modules/linear_model.html#logistic-regression\n",
      "  n_iter_i = _check_optimize_result(\n"
     ]
    },
    {
     "data": {
      "text/html": [
       "<style>#sk-container-id-1 {color: black;background-color: white;}#sk-container-id-1 pre{padding: 0;}#sk-container-id-1 div.sk-toggleable {background-color: white;}#sk-container-id-1 label.sk-toggleable__label {cursor: pointer;display: block;width: 100%;margin-bottom: 0;padding: 0.3em;box-sizing: border-box;text-align: center;}#sk-container-id-1 label.sk-toggleable__label-arrow:before {content: \"▸\";float: left;margin-right: 0.25em;color: #696969;}#sk-container-id-1 label.sk-toggleable__label-arrow:hover:before {color: black;}#sk-container-id-1 div.sk-estimator:hover label.sk-toggleable__label-arrow:before {color: black;}#sk-container-id-1 div.sk-toggleable__content {max-height: 0;max-width: 0;overflow: hidden;text-align: left;background-color: #f0f8ff;}#sk-container-id-1 div.sk-toggleable__content pre {margin: 0.2em;color: black;border-radius: 0.25em;background-color: #f0f8ff;}#sk-container-id-1 input.sk-toggleable__control:checked~div.sk-toggleable__content {max-height: 200px;max-width: 100%;overflow: auto;}#sk-container-id-1 input.sk-toggleable__control:checked~label.sk-toggleable__label-arrow:before {content: \"▾\";}#sk-container-id-1 div.sk-estimator input.sk-toggleable__control:checked~label.sk-toggleable__label {background-color: #d4ebff;}#sk-container-id-1 div.sk-label input.sk-toggleable__control:checked~label.sk-toggleable__label {background-color: #d4ebff;}#sk-container-id-1 input.sk-hidden--visually {border: 0;clip: rect(1px 1px 1px 1px);clip: rect(1px, 1px, 1px, 1px);height: 1px;margin: -1px;overflow: hidden;padding: 0;position: absolute;width: 1px;}#sk-container-id-1 div.sk-estimator {font-family: monospace;background-color: #f0f8ff;border: 1px dotted black;border-radius: 0.25em;box-sizing: border-box;margin-bottom: 0.5em;}#sk-container-id-1 div.sk-estimator:hover {background-color: #d4ebff;}#sk-container-id-1 div.sk-parallel-item::after {content: \"\";width: 100%;border-bottom: 1px solid gray;flex-grow: 1;}#sk-container-id-1 div.sk-label:hover label.sk-toggleable__label {background-color: #d4ebff;}#sk-container-id-1 div.sk-serial::before {content: \"\";position: absolute;border-left: 1px solid gray;box-sizing: border-box;top: 0;bottom: 0;left: 50%;z-index: 0;}#sk-container-id-1 div.sk-serial {display: flex;flex-direction: column;align-items: center;background-color: white;padding-right: 0.2em;padding-left: 0.2em;position: relative;}#sk-container-id-1 div.sk-item {position: relative;z-index: 1;}#sk-container-id-1 div.sk-parallel {display: flex;align-items: stretch;justify-content: center;background-color: white;position: relative;}#sk-container-id-1 div.sk-item::before, #sk-container-id-1 div.sk-parallel-item::before {content: \"\";position: absolute;border-left: 1px solid gray;box-sizing: border-box;top: 0;bottom: 0;left: 50%;z-index: -1;}#sk-container-id-1 div.sk-parallel-item {display: flex;flex-direction: column;z-index: 1;position: relative;background-color: white;}#sk-container-id-1 div.sk-parallel-item:first-child::after {align-self: flex-end;width: 50%;}#sk-container-id-1 div.sk-parallel-item:last-child::after {align-self: flex-start;width: 50%;}#sk-container-id-1 div.sk-parallel-item:only-child::after {width: 0;}#sk-container-id-1 div.sk-dashed-wrapped {border: 1px dashed gray;margin: 0 0.4em 0.5em 0.4em;box-sizing: border-box;padding-bottom: 0.4em;background-color: white;}#sk-container-id-1 div.sk-label label {font-family: monospace;font-weight: bold;display: inline-block;line-height: 1.2em;}#sk-container-id-1 div.sk-label-container {text-align: center;}#sk-container-id-1 div.sk-container {/* jupyter's `normalize.less` sets `[hidden] { display: none; }` but bootstrap.min.css set `[hidden] { display: none !important; }` so we also need the `!important` here to be able to override the default hidden behavior on the sphinx rendered scikit-learn.org. See: https://github.com/scikit-learn/scikit-learn/issues/21755 */display: inline-block !important;position: relative;}#sk-container-id-1 div.sk-text-repr-fallback {display: none;}</style><div id=\"sk-container-id-1\" class=\"sk-top-container\"><div class=\"sk-text-repr-fallback\"><pre>LogisticRegression()</pre><b>In a Jupyter environment, please rerun this cell to show the HTML representation or trust the notebook. <br />On GitHub, the HTML representation is unable to render, please try loading this page with nbviewer.org.</b></div><div class=\"sk-container\" hidden><div class=\"sk-item\"><div class=\"sk-estimator sk-toggleable\"><input class=\"sk-toggleable__control sk-hidden--visually\" id=\"sk-estimator-id-1\" type=\"checkbox\" checked><label for=\"sk-estimator-id-1\" class=\"sk-toggleable__label sk-toggleable__label-arrow\">LogisticRegression</label><div class=\"sk-toggleable__content\"><pre>LogisticRegression()</pre></div></div></div></div></div>"
      ],
      "text/plain": [
       "LogisticRegression()"
      ]
     },
     "execution_count": 8,
     "metadata": {},
     "output_type": "execute_result"
    }
   ],
   "source": [
    "log_model.fit(X = X_train, y = y_train)"
   ]
  },
  {
   "cell_type": "code",
   "execution_count": 11,
   "id": "123b3e83",
   "metadata": {},
   "outputs": [],
   "source": [
    "predictions = log_model.predict(X_test)"
   ]
  },
  {
   "cell_type": "code",
   "execution_count": 12,
   "id": "c22d3d30",
   "metadata": {},
   "outputs": [],
   "source": [
    "from sklearn.metrics import classification_report"
   ]
  },
  {
   "cell_type": "code",
   "execution_count": 13,
   "id": "38cec2f6",
   "metadata": {},
   "outputs": [
    {
     "name": "stdout",
     "output_type": "stream",
     "text": [
      "              precision    recall  f1-score   support\n",
      "\n",
      "         0.0       0.88      0.98      0.92     65523\n",
      "         1.0       0.51      0.14      0.22     10581\n",
      "\n",
      "    accuracy                           0.86     76104\n",
      "   macro avg       0.69      0.56      0.57     76104\n",
      "weighted avg       0.83      0.86      0.83     76104\n",
      "\n"
     ]
    }
   ],
   "source": [
    "print(classification_report(y_test, predictions))"
   ]
  },
  {
   "cell_type": "code",
   "execution_count": 14,
   "id": "3757cfc8",
   "metadata": {},
   "outputs": [],
   "source": [
    "from imblearn.over_sampling import SMOTE"
   ]
  },
  {
   "cell_type": "code",
   "execution_count": 20,
   "id": "648b262c",
   "metadata": {},
   "outputs": [],
   "source": [
    "sm =SMOTE()"
   ]
  },
  {
   "cell_type": "code",
   "execution_count": 21,
   "id": "27323252",
   "metadata": {},
   "outputs": [],
   "source": [
    "X_train_res, y_train_res = sm.fit_resample(X_train, y_train)"
   ]
  },
  {
   "cell_type": "code",
   "execution_count": 22,
   "id": "6dae6423",
   "metadata": {},
   "outputs": [],
   "source": [
    "log_model_smote = LogisticRegression()"
   ]
  },
  {
   "cell_type": "code",
   "execution_count": 24,
   "id": "7f8fbebb",
   "metadata": {},
   "outputs": [
    {
     "name": "stderr",
     "output_type": "stream",
     "text": [
      "C:\\Users\\shake\\anaconda3\\lib\\site-packages\\sklearn\\linear_model\\_logistic.py:458: ConvergenceWarning: lbfgs failed to converge (status=1):\n",
      "STOP: TOTAL NO. of ITERATIONS REACHED LIMIT.\n",
      "\n",
      "Increase the number of iterations (max_iter) or scale the data as shown in:\n",
      "    https://scikit-learn.org/stable/modules/preprocessing.html\n",
      "Please also refer to the documentation for alternative solver options:\n",
      "    https://scikit-learn.org/stable/modules/linear_model.html#logistic-regression\n",
      "  n_iter_i = _check_optimize_result(\n"
     ]
    },
    {
     "data": {
      "text/html": [
       "<style>#sk-container-id-2 {color: black;background-color: white;}#sk-container-id-2 pre{padding: 0;}#sk-container-id-2 div.sk-toggleable {background-color: white;}#sk-container-id-2 label.sk-toggleable__label {cursor: pointer;display: block;width: 100%;margin-bottom: 0;padding: 0.3em;box-sizing: border-box;text-align: center;}#sk-container-id-2 label.sk-toggleable__label-arrow:before {content: \"▸\";float: left;margin-right: 0.25em;color: #696969;}#sk-container-id-2 label.sk-toggleable__label-arrow:hover:before {color: black;}#sk-container-id-2 div.sk-estimator:hover label.sk-toggleable__label-arrow:before {color: black;}#sk-container-id-2 div.sk-toggleable__content {max-height: 0;max-width: 0;overflow: hidden;text-align: left;background-color: #f0f8ff;}#sk-container-id-2 div.sk-toggleable__content pre {margin: 0.2em;color: black;border-radius: 0.25em;background-color: #f0f8ff;}#sk-container-id-2 input.sk-toggleable__control:checked~div.sk-toggleable__content {max-height: 200px;max-width: 100%;overflow: auto;}#sk-container-id-2 input.sk-toggleable__control:checked~label.sk-toggleable__label-arrow:before {content: \"▾\";}#sk-container-id-2 div.sk-estimator input.sk-toggleable__control:checked~label.sk-toggleable__label {background-color: #d4ebff;}#sk-container-id-2 div.sk-label input.sk-toggleable__control:checked~label.sk-toggleable__label {background-color: #d4ebff;}#sk-container-id-2 input.sk-hidden--visually {border: 0;clip: rect(1px 1px 1px 1px);clip: rect(1px, 1px, 1px, 1px);height: 1px;margin: -1px;overflow: hidden;padding: 0;position: absolute;width: 1px;}#sk-container-id-2 div.sk-estimator {font-family: monospace;background-color: #f0f8ff;border: 1px dotted black;border-radius: 0.25em;box-sizing: border-box;margin-bottom: 0.5em;}#sk-container-id-2 div.sk-estimator:hover {background-color: #d4ebff;}#sk-container-id-2 div.sk-parallel-item::after {content: \"\";width: 100%;border-bottom: 1px solid gray;flex-grow: 1;}#sk-container-id-2 div.sk-label:hover label.sk-toggleable__label {background-color: #d4ebff;}#sk-container-id-2 div.sk-serial::before {content: \"\";position: absolute;border-left: 1px solid gray;box-sizing: border-box;top: 0;bottom: 0;left: 50%;z-index: 0;}#sk-container-id-2 div.sk-serial {display: flex;flex-direction: column;align-items: center;background-color: white;padding-right: 0.2em;padding-left: 0.2em;position: relative;}#sk-container-id-2 div.sk-item {position: relative;z-index: 1;}#sk-container-id-2 div.sk-parallel {display: flex;align-items: stretch;justify-content: center;background-color: white;position: relative;}#sk-container-id-2 div.sk-item::before, #sk-container-id-2 div.sk-parallel-item::before {content: \"\";position: absolute;border-left: 1px solid gray;box-sizing: border-box;top: 0;bottom: 0;left: 50%;z-index: -1;}#sk-container-id-2 div.sk-parallel-item {display: flex;flex-direction: column;z-index: 1;position: relative;background-color: white;}#sk-container-id-2 div.sk-parallel-item:first-child::after {align-self: flex-end;width: 50%;}#sk-container-id-2 div.sk-parallel-item:last-child::after {align-self: flex-start;width: 50%;}#sk-container-id-2 div.sk-parallel-item:only-child::after {width: 0;}#sk-container-id-2 div.sk-dashed-wrapped {border: 1px dashed gray;margin: 0 0.4em 0.5em 0.4em;box-sizing: border-box;padding-bottom: 0.4em;background-color: white;}#sk-container-id-2 div.sk-label label {font-family: monospace;font-weight: bold;display: inline-block;line-height: 1.2em;}#sk-container-id-2 div.sk-label-container {text-align: center;}#sk-container-id-2 div.sk-container {/* jupyter's `normalize.less` sets `[hidden] { display: none; }` but bootstrap.min.css set `[hidden] { display: none !important; }` so we also need the `!important` here to be able to override the default hidden behavior on the sphinx rendered scikit-learn.org. See: https://github.com/scikit-learn/scikit-learn/issues/21755 */display: inline-block !important;position: relative;}#sk-container-id-2 div.sk-text-repr-fallback {display: none;}</style><div id=\"sk-container-id-2\" class=\"sk-top-container\"><div class=\"sk-text-repr-fallback\"><pre>LogisticRegression()</pre><b>In a Jupyter environment, please rerun this cell to show the HTML representation or trust the notebook. <br />On GitHub, the HTML representation is unable to render, please try loading this page with nbviewer.org.</b></div><div class=\"sk-container\" hidden><div class=\"sk-item\"><div class=\"sk-estimator sk-toggleable\"><input class=\"sk-toggleable__control sk-hidden--visually\" id=\"sk-estimator-id-2\" type=\"checkbox\" checked><label for=\"sk-estimator-id-2\" class=\"sk-toggleable__label sk-toggleable__label-arrow\">LogisticRegression</label><div class=\"sk-toggleable__content\"><pre>LogisticRegression()</pre></div></div></div></div></div>"
      ],
      "text/plain": [
       "LogisticRegression()"
      ]
     },
     "execution_count": 24,
     "metadata": {},
     "output_type": "execute_result"
    }
   ],
   "source": [
    "log_model_smote.fit(X = X_train_res, y = y_train_res)"
   ]
  },
  {
   "cell_type": "code",
   "execution_count": 25,
   "id": "8a04aa05",
   "metadata": {},
   "outputs": [],
   "source": [
    "smote_predictions = log_model_smote.predict(X_test)"
   ]
  },
  {
   "cell_type": "code",
   "execution_count": 26,
   "id": "8b291192",
   "metadata": {},
   "outputs": [
    {
     "name": "stdout",
     "output_type": "stream",
     "text": [
      "              precision    recall  f1-score   support\n",
      "\n",
      "         0.0       0.95      0.72      0.82     65461\n",
      "         1.0       0.30      0.76      0.43     10643\n",
      "\n",
      "    accuracy                           0.72     76104\n",
      "   macro avg       0.63      0.74      0.63     76104\n",
      "weighted avg       0.86      0.72      0.76     76104\n",
      "\n"
     ]
    }
   ],
   "source": [
    "print(classification_report(y_test, smote_predictions))"
   ]
  },
  {
   "cell_type": "code",
   "execution_count": 27,
   "id": "677aa534",
   "metadata": {},
   "outputs": [],
   "source": [
    "#majority vote"
   ]
  },
  {
   "cell_type": "code",
   "execution_count": 28,
   "id": "9b1de798",
   "metadata": {},
   "outputs": [],
   "source": [
    "X = df.drop(\"Diabetes_binary\", axis = 1)\n",
    "y = df[\"Diabetes_binary\"]\n",
    "X_train, X_test, y_train, y_test = train_test_split(X, y, test_size=0.3)\n"
   ]
  },
  {
   "cell_type": "code",
   "execution_count": 29,
   "id": "477a8647",
   "metadata": {},
   "outputs": [],
   "source": [
    "df3 = X_train.copy()\n",
    "df3[\"Diabetes_binary\"] = y_train\n",
    "df_class1 = df3[df3[\"Diabetes_binary\"]== 1]\n",
    "df_class0 = df3[df3[\"Diabetes_binary\"] == 0]"
   ]
  },
  {
   "cell_type": "code",
   "execution_count": 30,
   "id": "242e44e0",
   "metadata": {},
   "outputs": [],
   "source": [
    "df_split_1 = df_class0[:len(df_class1)]\n",
    "df_split_2 = df_class0[len(df_class1):len(df_class1)*2 ]\n",
    "df_split_3 = df_class0[len(df_class1)*2 :len(df_class1)*3]\n",
    "df_split_4 = df_class0[len(df_class1)*3 :len(df_class1)*4]\n",
    "df_split_5 = df_class0[len(df_class1)*4 :len(df_class1)*5]\n",
    "df_split_6 = df_class0[len(df_class1)*5:]"
   ]
  },
  {
   "cell_type": "code",
   "execution_count": 37,
   "id": "42791156",
   "metadata": {},
   "outputs": [],
   "source": [
    "def log_reg(X_train, y_train):\n",
    "    log_model = LogisticRegression()\n",
    "    log_model.fit(X = X_train, y = y_train)\n",
    "    return log_model.predict(X_test)"
   ]
  },
  {
   "cell_type": "code",
   "execution_count": 56,
   "id": "825c98a7",
   "metadata": {},
   "outputs": [
    {
     "name": "stderr",
     "output_type": "stream",
     "text": [
      "C:\\Users\\shake\\anaconda3\\lib\\site-packages\\sklearn\\linear_model\\_logistic.py:458: ConvergenceWarning: lbfgs failed to converge (status=1):\n",
      "STOP: TOTAL NO. of ITERATIONS REACHED LIMIT.\n",
      "\n",
      "Increase the number of iterations (max_iter) or scale the data as shown in:\n",
      "    https://scikit-learn.org/stable/modules/preprocessing.html\n",
      "Please also refer to the documentation for alternative solver options:\n",
      "    https://scikit-learn.org/stable/modules/linear_model.html#logistic-regression\n",
      "  n_iter_i = _check_optimize_result(\n",
      "C:\\Users\\shake\\anaconda3\\lib\\site-packages\\sklearn\\linear_model\\_logistic.py:458: ConvergenceWarning: lbfgs failed to converge (status=1):\n",
      "STOP: TOTAL NO. of ITERATIONS REACHED LIMIT.\n",
      "\n",
      "Increase the number of iterations (max_iter) or scale the data as shown in:\n",
      "    https://scikit-learn.org/stable/modules/preprocessing.html\n",
      "Please also refer to the documentation for alternative solver options:\n",
      "    https://scikit-learn.org/stable/modules/linear_model.html#logistic-regression\n",
      "  n_iter_i = _check_optimize_result(\n",
      "C:\\Users\\shake\\anaconda3\\lib\\site-packages\\sklearn\\linear_model\\_logistic.py:458: ConvergenceWarning: lbfgs failed to converge (status=1):\n",
      "STOP: TOTAL NO. of ITERATIONS REACHED LIMIT.\n",
      "\n",
      "Increase the number of iterations (max_iter) or scale the data as shown in:\n",
      "    https://scikit-learn.org/stable/modules/preprocessing.html\n",
      "Please also refer to the documentation for alternative solver options:\n",
      "    https://scikit-learn.org/stable/modules/linear_model.html#logistic-regression\n",
      "  n_iter_i = _check_optimize_result(\n",
      "C:\\Users\\shake\\anaconda3\\lib\\site-packages\\sklearn\\linear_model\\_logistic.py:458: ConvergenceWarning: lbfgs failed to converge (status=1):\n",
      "STOP: TOTAL NO. of ITERATIONS REACHED LIMIT.\n",
      "\n",
      "Increase the number of iterations (max_iter) or scale the data as shown in:\n",
      "    https://scikit-learn.org/stable/modules/preprocessing.html\n",
      "Please also refer to the documentation for alternative solver options:\n",
      "    https://scikit-learn.org/stable/modules/linear_model.html#logistic-regression\n",
      "  n_iter_i = _check_optimize_result(\n",
      "C:\\Users\\shake\\anaconda3\\lib\\site-packages\\sklearn\\linear_model\\_logistic.py:458: ConvergenceWarning: lbfgs failed to converge (status=1):\n",
      "STOP: TOTAL NO. of ITERATIONS REACHED LIMIT.\n",
      "\n",
      "Increase the number of iterations (max_iter) or scale the data as shown in:\n",
      "    https://scikit-learn.org/stable/modules/preprocessing.html\n",
      "Please also refer to the documentation for alternative solver options:\n",
      "    https://scikit-learn.org/stable/modules/linear_model.html#logistic-regression\n",
      "  n_iter_i = _check_optimize_result(\n",
      "C:\\Users\\shake\\anaconda3\\lib\\site-packages\\sklearn\\linear_model\\_logistic.py:458: ConvergenceWarning: lbfgs failed to converge (status=1):\n",
      "STOP: TOTAL NO. of ITERATIONS REACHED LIMIT.\n",
      "\n",
      "Increase the number of iterations (max_iter) or scale the data as shown in:\n",
      "    https://scikit-learn.org/stable/modules/preprocessing.html\n",
      "Please also refer to the documentation for alternative solver options:\n",
      "    https://scikit-learn.org/stable/modules/linear_model.html#logistic-regression\n",
      "  n_iter_i = _check_optimize_result(\n"
     ]
    }
   ],
   "source": [
    "y_pred1 = log_reg(pd.concat([df_split_1, df_class1], axis = 0).drop(\"Diabetes_binary\", axis = 1), pd.concat([df_split_1, df_class1], axis = 0)[\"Diabetes_binary\"])\n",
    "y_pred2 = log_reg(pd.concat([df_split_2, df_class1], axis = 0).drop(\"Diabetes_binary\", axis = 1), pd.concat([df_split_2, df_class1], axis = 0)[\"Diabetes_binary\"])\n",
    "y_pred3 = log_reg(pd.concat([df_split_3, df_class1], axis = 0).drop(\"Diabetes_binary\", axis = 1), pd.concat([df_split_3, df_class1], axis = 0)[\"Diabetes_binary\"])\n",
    "y_pred4 = log_reg(pd.concat([df_split_4, df_class1], axis = 0).drop(\"Diabetes_binary\", axis = 1), pd.concat([df_split_4, df_class1], axis = 0)[\"Diabetes_binary\"])\n",
    "y_pred5 = log_reg(pd.concat([df_split_5, df_class1], axis = 0).drop(\"Diabetes_binary\", axis = 1), pd.concat([df_split_5, df_class1], axis = 0)[\"Diabetes_binary\"])\n",
    "y_pred6 = log_reg(pd.concat([df_split_6, df_class1], axis = 0).drop(\"Diabetes_binary\", axis = 1), pd.concat([df_split_6, df_class1], axis = 0)[\"Diabetes_binary\"])\n"
   ]
  },
  {
   "cell_type": "code",
   "execution_count": 57,
   "id": "38526fbd",
   "metadata": {},
   "outputs": [],
   "source": [
    "y_pred_final = y_pred1\n",
    "for i in range(len(y_test)):\n",
    "    n_ones = y_pred1[i] + y_pred2[i] + y_pred3[i] + y_pred4[i] + y_pred5[i]+ y_pred6[i]\n",
    "    if n_ones >=4:\n",
    "        y_pred_final[i] =1\n",
    "    else:\n",
    "        y_pred_final[i] = 0"
   ]
  },
  {
   "cell_type": "code",
   "execution_count": 58,
   "id": "1fe8d3ed",
   "metadata": {},
   "outputs": [
    {
     "name": "stdout",
     "output_type": "stream",
     "text": [
      "              precision    recall  f1-score   support\n",
      "\n",
      "         0.0       0.95      0.73      0.82     65500\n",
      "         1.0       0.31      0.75      0.44     10604\n",
      "\n",
      "    accuracy                           0.73     76104\n",
      "   macro avg       0.63      0.74      0.63     76104\n",
      "weighted avg       0.86      0.73      0.77     76104\n",
      "\n"
     ]
    }
   ],
   "source": [
    "print(classification_report(y_test, y_pred_final))"
   ]
  },
  {
   "cell_type": "code",
   "execution_count": 63,
   "id": "46a06605",
   "metadata": {},
   "outputs": [
    {
     "data": {
      "text/html": [
       "<style>#sk-container-id-5 {color: black;background-color: white;}#sk-container-id-5 pre{padding: 0;}#sk-container-id-5 div.sk-toggleable {background-color: white;}#sk-container-id-5 label.sk-toggleable__label {cursor: pointer;display: block;width: 100%;margin-bottom: 0;padding: 0.3em;box-sizing: border-box;text-align: center;}#sk-container-id-5 label.sk-toggleable__label-arrow:before {content: \"▸\";float: left;margin-right: 0.25em;color: #696969;}#sk-container-id-5 label.sk-toggleable__label-arrow:hover:before {color: black;}#sk-container-id-5 div.sk-estimator:hover label.sk-toggleable__label-arrow:before {color: black;}#sk-container-id-5 div.sk-toggleable__content {max-height: 0;max-width: 0;overflow: hidden;text-align: left;background-color: #f0f8ff;}#sk-container-id-5 div.sk-toggleable__content pre {margin: 0.2em;color: black;border-radius: 0.25em;background-color: #f0f8ff;}#sk-container-id-5 input.sk-toggleable__control:checked~div.sk-toggleable__content {max-height: 200px;max-width: 100%;overflow: auto;}#sk-container-id-5 input.sk-toggleable__control:checked~label.sk-toggleable__label-arrow:before {content: \"▾\";}#sk-container-id-5 div.sk-estimator input.sk-toggleable__control:checked~label.sk-toggleable__label {background-color: #d4ebff;}#sk-container-id-5 div.sk-label input.sk-toggleable__control:checked~label.sk-toggleable__label {background-color: #d4ebff;}#sk-container-id-5 input.sk-hidden--visually {border: 0;clip: rect(1px 1px 1px 1px);clip: rect(1px, 1px, 1px, 1px);height: 1px;margin: -1px;overflow: hidden;padding: 0;position: absolute;width: 1px;}#sk-container-id-5 div.sk-estimator {font-family: monospace;background-color: #f0f8ff;border: 1px dotted black;border-radius: 0.25em;box-sizing: border-box;margin-bottom: 0.5em;}#sk-container-id-5 div.sk-estimator:hover {background-color: #d4ebff;}#sk-container-id-5 div.sk-parallel-item::after {content: \"\";width: 100%;border-bottom: 1px solid gray;flex-grow: 1;}#sk-container-id-5 div.sk-label:hover label.sk-toggleable__label {background-color: #d4ebff;}#sk-container-id-5 div.sk-serial::before {content: \"\";position: absolute;border-left: 1px solid gray;box-sizing: border-box;top: 0;bottom: 0;left: 50%;z-index: 0;}#sk-container-id-5 div.sk-serial {display: flex;flex-direction: column;align-items: center;background-color: white;padding-right: 0.2em;padding-left: 0.2em;position: relative;}#sk-container-id-5 div.sk-item {position: relative;z-index: 1;}#sk-container-id-5 div.sk-parallel {display: flex;align-items: stretch;justify-content: center;background-color: white;position: relative;}#sk-container-id-5 div.sk-item::before, #sk-container-id-5 div.sk-parallel-item::before {content: \"\";position: absolute;border-left: 1px solid gray;box-sizing: border-box;top: 0;bottom: 0;left: 50%;z-index: -1;}#sk-container-id-5 div.sk-parallel-item {display: flex;flex-direction: column;z-index: 1;position: relative;background-color: white;}#sk-container-id-5 div.sk-parallel-item:first-child::after {align-self: flex-end;width: 50%;}#sk-container-id-5 div.sk-parallel-item:last-child::after {align-self: flex-start;width: 50%;}#sk-container-id-5 div.sk-parallel-item:only-child::after {width: 0;}#sk-container-id-5 div.sk-dashed-wrapped {border: 1px dashed gray;margin: 0 0.4em 0.5em 0.4em;box-sizing: border-box;padding-bottom: 0.4em;background-color: white;}#sk-container-id-5 div.sk-label label {font-family: monospace;font-weight: bold;display: inline-block;line-height: 1.2em;}#sk-container-id-5 div.sk-label-container {text-align: center;}#sk-container-id-5 div.sk-container {/* jupyter's `normalize.less` sets `[hidden] { display: none; }` but bootstrap.min.css set `[hidden] { display: none !important; }` so we also need the `!important` here to be able to override the default hidden behavior on the sphinx rendered scikit-learn.org. See: https://github.com/scikit-learn/scikit-learn/issues/21755 */display: inline-block !important;position: relative;}#sk-container-id-5 div.sk-text-repr-fallback {display: none;}</style><div id=\"sk-container-id-5\" class=\"sk-top-container\"><div class=\"sk-text-repr-fallback\"><pre>RandomForestClassifier(n_estimators=500)</pre><b>In a Jupyter environment, please rerun this cell to show the HTML representation or trust the notebook. <br />On GitHub, the HTML representation is unable to render, please try loading this page with nbviewer.org.</b></div><div class=\"sk-container\" hidden><div class=\"sk-item\"><div class=\"sk-estimator sk-toggleable\"><input class=\"sk-toggleable__control sk-hidden--visually\" id=\"sk-estimator-id-5\" type=\"checkbox\" checked><label for=\"sk-estimator-id-5\" class=\"sk-toggleable__label sk-toggleable__label-arrow\">RandomForestClassifier</label><div class=\"sk-toggleable__content\"><pre>RandomForestClassifier(n_estimators=500)</pre></div></div></div></div></div>"
      ],
      "text/plain": [
       "RandomForestClassifier(n_estimators=500)"
      ]
     },
     "execution_count": 63,
     "metadata": {},
     "output_type": "execute_result"
    }
   ],
   "source": [
    "from sklearn.ensemble import RandomForestClassifier\n",
    "X = df.drop(\"Diabetes_binary\", axis = 1)\n",
    "y = df[\"Diabetes_binary\"]\n",
    "X_train, X_test, y_train, y_test = train_test_split(X, y, test_size=0.3)\n",
    "\n",
    "rfc = RandomForestClassifier(n_estimators=500)\n",
    "rfc.fit(X_train, y_train)"
   ]
  },
  {
   "cell_type": "code",
   "execution_count": 64,
   "id": "2a023d74",
   "metadata": {},
   "outputs": [],
   "source": [
    "rfc_predictions = rfc.predict(X_test)"
   ]
  },
  {
   "cell_type": "code",
   "execution_count": 65,
   "id": "26b9907f",
   "metadata": {},
   "outputs": [
    {
     "name": "stdout",
     "output_type": "stream",
     "text": [
      "              precision    recall  f1-score   support\n",
      "\n",
      "         0.0       0.88      0.97      0.92     65557\n",
      "         1.0       0.50      0.17      0.25     10547\n",
      "\n",
      "    accuracy                           0.86     76104\n",
      "   macro avg       0.69      0.57      0.59     76104\n",
      "weighted avg       0.83      0.86      0.83     76104\n",
      "\n"
     ]
    }
   ],
   "source": [
    "print(classification_report(y_test, rfc_predictions))"
   ]
  },
  {
   "cell_type": "code",
   "execution_count": 69,
   "id": "c8ce2265",
   "metadata": {},
   "outputs": [],
   "source": [
    "from sklearn.model_selection import GridSearchCV\n",
    "from sklearn.metrics import make_scorer, f1_score\n",
    "scorer = make_scorer(f1_score)\n",
    "\n",
    "\n",
    "param_grid = {'n_estimators': [200, 500, 1000, 2000, 3000]}  # Adjust this range based on your problem\n",
    "\n",
    "grid_search = GridSearchCV(RandomForestClassifier(), param_grid, cv=5, scoring=scorer)\n",
    "grid_search.fit(X_train, y_train)\n",
    "\n",
    "best_n_estimators = grid_search.best_params_['n_estimators']\n"
   ]
  },
  {
   "cell_type": "code",
   "execution_count": 70,
   "id": "ba2d4106",
   "metadata": {},
   "outputs": [
    {
     "data": {
      "text/plain": [
       "200"
      ]
     },
     "execution_count": 70,
     "metadata": {},
     "output_type": "execute_result"
    }
   ],
   "source": [
    "best_n_estimators"
   ]
  },
  {
   "cell_type": "code",
   "execution_count": 73,
   "id": "0e487b28",
   "metadata": {},
   "outputs": [],
   "source": [
    "grid_pred = grid_search.predict(X_test)"
   ]
  },
  {
   "cell_type": "code",
   "execution_count": 74,
   "id": "9db75552",
   "metadata": {},
   "outputs": [
    {
     "name": "stdout",
     "output_type": "stream",
     "text": [
      "              precision    recall  f1-score   support\n",
      "\n",
      "         0.0       0.88      0.97      0.92     65557\n",
      "         1.0       0.49      0.17      0.25     10547\n",
      "\n",
      "    accuracy                           0.86     76104\n",
      "   macro avg       0.69      0.57      0.59     76104\n",
      "weighted avg       0.83      0.86      0.83     76104\n",
      "\n"
     ]
    }
   ],
   "source": [
    "print(classification_report(y_test, grid_pred))"
   ]
  },
  {
   "cell_type": "code",
   "execution_count": 78,
   "id": "5f82072b",
   "metadata": {},
   "outputs": [],
   "source": [
    "#oversampeling after split\n",
    "df.drop_duplicates(inplace = True)"
   ]
  },
  {
   "cell_type": "code",
   "execution_count": 80,
   "id": "af07ce9f",
   "metadata": {},
   "outputs": [],
   "source": [
    "X = df.drop(\"Diabetes_binary\", axis = 1)\n",
    "y = df[\"Diabetes_binary\"]\n",
    "X_train, X_test, y_train, y_test = train_test_split(X, y, test_size=0.3)"
   ]
  },
  {
   "cell_type": "code",
   "execution_count": 81,
   "id": "82bbe327",
   "metadata": {},
   "outputs": [
    {
     "data": {
      "text/plain": [
       "0.0    136115\n",
       "1.0     24516\n",
       "Name: Diabetes_binary, dtype: int64"
      ]
     },
     "execution_count": 81,
     "metadata": {},
     "output_type": "execute_result"
    }
   ],
   "source": [
    "y_train.value_counts()"
   ]
  },
  {
   "cell_type": "code",
   "execution_count": 82,
   "id": "3d7e9706",
   "metadata": {},
   "outputs": [],
   "source": [
    "df_oversampled = X_train.copy()\n",
    "df_oversampled[\"Diabetes_binary\"] = y_train\n",
    "df_oversampled_1 = df_oversampled[df_oversampled[\"Diabetes_binary\"] == 1]\n",
    "df_oversampled_0 = df_oversampled[df_oversampled[\"Diabetes_binary\"] == 0]\n"
   ]
  },
  {
   "cell_type": "code",
   "execution_count": 83,
   "id": "738fcec5",
   "metadata": {},
   "outputs": [
    {
     "data": {
      "text/plain": [
       "((24516, 22), (136115, 22))"
      ]
     },
     "execution_count": 83,
     "metadata": {},
     "output_type": "execute_result"
    }
   ],
   "source": [
    "df_oversampled_1.shape, df_oversampled_0.shape"
   ]
  },
  {
   "cell_type": "code",
   "execution_count": 86,
   "id": "2360a81b",
   "metadata": {},
   "outputs": [],
   "source": [
    "a = df_oversampled_1.sample(n = len(df_oversampled_0), replace=True)"
   ]
  },
  {
   "cell_type": "code",
   "execution_count": 87,
   "id": "04d6b753",
   "metadata": {},
   "outputs": [],
   "source": [
    "df_oversampled = pd.concat([df_oversampled_0, a], axis = 0)\n",
    "X_train = df_oversampled.drop(\"Diabetes_binary\", axis = 1)\n",
    "y_train = df_oversampled[\"Diabetes_binary\"]"
   ]
  },
  {
   "cell_type": "code",
   "execution_count": 88,
   "id": "36ee2020",
   "metadata": {},
   "outputs": [
    {
     "data": {
      "text/plain": [
       "0.0    136115\n",
       "1.0    136115\n",
       "Name: Diabetes_binary, dtype: int64"
      ]
     },
     "execution_count": 88,
     "metadata": {},
     "output_type": "execute_result"
    }
   ],
   "source": [
    "y_train.value_counts()"
   ]
  },
  {
   "cell_type": "code",
   "execution_count": 93,
   "id": "2f9a8d8e",
   "metadata": {},
   "outputs": [
    {
     "data": {
      "text/html": [
       "<style>#sk-container-id-7 {color: black;background-color: white;}#sk-container-id-7 pre{padding: 0;}#sk-container-id-7 div.sk-toggleable {background-color: white;}#sk-container-id-7 label.sk-toggleable__label {cursor: pointer;display: block;width: 100%;margin-bottom: 0;padding: 0.3em;box-sizing: border-box;text-align: center;}#sk-container-id-7 label.sk-toggleable__label-arrow:before {content: \"▸\";float: left;margin-right: 0.25em;color: #696969;}#sk-container-id-7 label.sk-toggleable__label-arrow:hover:before {color: black;}#sk-container-id-7 div.sk-estimator:hover label.sk-toggleable__label-arrow:before {color: black;}#sk-container-id-7 div.sk-toggleable__content {max-height: 0;max-width: 0;overflow: hidden;text-align: left;background-color: #f0f8ff;}#sk-container-id-7 div.sk-toggleable__content pre {margin: 0.2em;color: black;border-radius: 0.25em;background-color: #f0f8ff;}#sk-container-id-7 input.sk-toggleable__control:checked~div.sk-toggleable__content {max-height: 200px;max-width: 100%;overflow: auto;}#sk-container-id-7 input.sk-toggleable__control:checked~label.sk-toggleable__label-arrow:before {content: \"▾\";}#sk-container-id-7 div.sk-estimator input.sk-toggleable__control:checked~label.sk-toggleable__label {background-color: #d4ebff;}#sk-container-id-7 div.sk-label input.sk-toggleable__control:checked~label.sk-toggleable__label {background-color: #d4ebff;}#sk-container-id-7 input.sk-hidden--visually {border: 0;clip: rect(1px 1px 1px 1px);clip: rect(1px, 1px, 1px, 1px);height: 1px;margin: -1px;overflow: hidden;padding: 0;position: absolute;width: 1px;}#sk-container-id-7 div.sk-estimator {font-family: monospace;background-color: #f0f8ff;border: 1px dotted black;border-radius: 0.25em;box-sizing: border-box;margin-bottom: 0.5em;}#sk-container-id-7 div.sk-estimator:hover {background-color: #d4ebff;}#sk-container-id-7 div.sk-parallel-item::after {content: \"\";width: 100%;border-bottom: 1px solid gray;flex-grow: 1;}#sk-container-id-7 div.sk-label:hover label.sk-toggleable__label {background-color: #d4ebff;}#sk-container-id-7 div.sk-serial::before {content: \"\";position: absolute;border-left: 1px solid gray;box-sizing: border-box;top: 0;bottom: 0;left: 50%;z-index: 0;}#sk-container-id-7 div.sk-serial {display: flex;flex-direction: column;align-items: center;background-color: white;padding-right: 0.2em;padding-left: 0.2em;position: relative;}#sk-container-id-7 div.sk-item {position: relative;z-index: 1;}#sk-container-id-7 div.sk-parallel {display: flex;align-items: stretch;justify-content: center;background-color: white;position: relative;}#sk-container-id-7 div.sk-item::before, #sk-container-id-7 div.sk-parallel-item::before {content: \"\";position: absolute;border-left: 1px solid gray;box-sizing: border-box;top: 0;bottom: 0;left: 50%;z-index: -1;}#sk-container-id-7 div.sk-parallel-item {display: flex;flex-direction: column;z-index: 1;position: relative;background-color: white;}#sk-container-id-7 div.sk-parallel-item:first-child::after {align-self: flex-end;width: 50%;}#sk-container-id-7 div.sk-parallel-item:last-child::after {align-self: flex-start;width: 50%;}#sk-container-id-7 div.sk-parallel-item:only-child::after {width: 0;}#sk-container-id-7 div.sk-dashed-wrapped {border: 1px dashed gray;margin: 0 0.4em 0.5em 0.4em;box-sizing: border-box;padding-bottom: 0.4em;background-color: white;}#sk-container-id-7 div.sk-label label {font-family: monospace;font-weight: bold;display: inline-block;line-height: 1.2em;}#sk-container-id-7 div.sk-label-container {text-align: center;}#sk-container-id-7 div.sk-container {/* jupyter's `normalize.less` sets `[hidden] { display: none; }` but bootstrap.min.css set `[hidden] { display: none !important; }` so we also need the `!important` here to be able to override the default hidden behavior on the sphinx rendered scikit-learn.org. See: https://github.com/scikit-learn/scikit-learn/issues/21755 */display: inline-block !important;position: relative;}#sk-container-id-7 div.sk-text-repr-fallback {display: none;}</style><div id=\"sk-container-id-7\" class=\"sk-top-container\"><div class=\"sk-text-repr-fallback\"><pre>RandomForestClassifier(n_estimators=200)</pre><b>In a Jupyter environment, please rerun this cell to show the HTML representation or trust the notebook. <br />On GitHub, the HTML representation is unable to render, please try loading this page with nbviewer.org.</b></div><div class=\"sk-container\" hidden><div class=\"sk-item\"><div class=\"sk-estimator sk-toggleable\"><input class=\"sk-toggleable__control sk-hidden--visually\" id=\"sk-estimator-id-7\" type=\"checkbox\" checked><label for=\"sk-estimator-id-7\" class=\"sk-toggleable__label sk-toggleable__label-arrow\">RandomForestClassifier</label><div class=\"sk-toggleable__content\"><pre>RandomForestClassifier(n_estimators=200)</pre></div></div></div></div></div>"
      ],
      "text/plain": [
       "RandomForestClassifier(n_estimators=200)"
      ]
     },
     "execution_count": 93,
     "metadata": {},
     "output_type": "execute_result"
    }
   ],
   "source": [
    "from sklearn.ensemble import RandomForestClassifier\n",
    "rfc = RandomForestClassifier(n_estimators=200)\n",
    "rfc.fit(X_train, y_train)"
   ]
  },
  {
   "cell_type": "code",
   "execution_count": 94,
   "id": "33977fea",
   "metadata": {},
   "outputs": [],
   "source": [
    "rfc_predictions = rfc.predict(X_test)"
   ]
  },
  {
   "cell_type": "code",
   "execution_count": 95,
   "id": "5010e1dc",
   "metadata": {},
   "outputs": [
    {
     "name": "stdout",
     "output_type": "stream",
     "text": [
      "              precision    recall  f1-score   support\n",
      "\n",
      "         0.0       0.88      0.93      0.90     58262\n",
      "         1.0       0.43      0.30      0.35     10581\n",
      "\n",
      "    accuracy                           0.83     68843\n",
      "   macro avg       0.65      0.61      0.63     68843\n",
      "weighted avg       0.81      0.83      0.82     68843\n",
      "\n"
     ]
    }
   ],
   "source": [
    "print(classification_report(y_test, rfc_predictions))"
   ]
  },
  {
   "cell_type": "code",
   "execution_count": 96,
   "id": "1d141223",
   "metadata": {},
   "outputs": [],
   "source": [
    "#Smote\n",
    "X = df.drop(\"Diabetes_binary\", axis = 1)\n",
    "y = df[\"Diabetes_binary\"]\n",
    "X_train, X_test, y_train, y_test = train_test_split(X, y, test_size=0.3)\n",
    "\n",
    "\n",
    "df_oversampled = X_train.copy()\n",
    "df_oversampled[\"Diabetes_binary\"] = y_train\n",
    "df_oversampled_1 = df_oversampled[df_oversampled[\"Diabetes_binary\"] == 1]\n",
    "df_oversampled_0 = df_oversampled[df_oversampled[\"Diabetes_binary\"] == 0]\n",
    "\n"
   ]
  },
  {
   "cell_type": "code",
   "execution_count": 98,
   "id": "ae4ab33c",
   "metadata": {},
   "outputs": [],
   "source": [
    "from imblearn.over_sampling import SMOTE\n",
    "sm = SMOTE()"
   ]
  },
  {
   "cell_type": "code",
   "execution_count": 106,
   "id": "3f800638",
   "metadata": {},
   "outputs": [],
   "source": [
    "X_train, y_train = sm.fit_resample(X = X_train,y =  y_train)"
   ]
  },
  {
   "cell_type": "code",
   "execution_count": 107,
   "id": "8c4220cd",
   "metadata": {},
   "outputs": [
    {
     "data": {
      "text/plain": [
       "0.0    136195\n",
       "1.0    136195\n",
       "Name: Diabetes_binary, dtype: int64"
      ]
     },
     "execution_count": 107,
     "metadata": {},
     "output_type": "execute_result"
    }
   ],
   "source": [
    "y_train.value_counts()"
   ]
  },
  {
   "cell_type": "code",
   "execution_count": 108,
   "id": "f1b9c1d8",
   "metadata": {},
   "outputs": [
    {
     "data": {
      "text/html": [
       "<style>#sk-container-id-11 {color: black;background-color: white;}#sk-container-id-11 pre{padding: 0;}#sk-container-id-11 div.sk-toggleable {background-color: white;}#sk-container-id-11 label.sk-toggleable__label {cursor: pointer;display: block;width: 100%;margin-bottom: 0;padding: 0.3em;box-sizing: border-box;text-align: center;}#sk-container-id-11 label.sk-toggleable__label-arrow:before {content: \"▸\";float: left;margin-right: 0.25em;color: #696969;}#sk-container-id-11 label.sk-toggleable__label-arrow:hover:before {color: black;}#sk-container-id-11 div.sk-estimator:hover label.sk-toggleable__label-arrow:before {color: black;}#sk-container-id-11 div.sk-toggleable__content {max-height: 0;max-width: 0;overflow: hidden;text-align: left;background-color: #f0f8ff;}#sk-container-id-11 div.sk-toggleable__content pre {margin: 0.2em;color: black;border-radius: 0.25em;background-color: #f0f8ff;}#sk-container-id-11 input.sk-toggleable__control:checked~div.sk-toggleable__content {max-height: 200px;max-width: 100%;overflow: auto;}#sk-container-id-11 input.sk-toggleable__control:checked~label.sk-toggleable__label-arrow:before {content: \"▾\";}#sk-container-id-11 div.sk-estimator input.sk-toggleable__control:checked~label.sk-toggleable__label {background-color: #d4ebff;}#sk-container-id-11 div.sk-label input.sk-toggleable__control:checked~label.sk-toggleable__label {background-color: #d4ebff;}#sk-container-id-11 input.sk-hidden--visually {border: 0;clip: rect(1px 1px 1px 1px);clip: rect(1px, 1px, 1px, 1px);height: 1px;margin: -1px;overflow: hidden;padding: 0;position: absolute;width: 1px;}#sk-container-id-11 div.sk-estimator {font-family: monospace;background-color: #f0f8ff;border: 1px dotted black;border-radius: 0.25em;box-sizing: border-box;margin-bottom: 0.5em;}#sk-container-id-11 div.sk-estimator:hover {background-color: #d4ebff;}#sk-container-id-11 div.sk-parallel-item::after {content: \"\";width: 100%;border-bottom: 1px solid gray;flex-grow: 1;}#sk-container-id-11 div.sk-label:hover label.sk-toggleable__label {background-color: #d4ebff;}#sk-container-id-11 div.sk-serial::before {content: \"\";position: absolute;border-left: 1px solid gray;box-sizing: border-box;top: 0;bottom: 0;left: 50%;z-index: 0;}#sk-container-id-11 div.sk-serial {display: flex;flex-direction: column;align-items: center;background-color: white;padding-right: 0.2em;padding-left: 0.2em;position: relative;}#sk-container-id-11 div.sk-item {position: relative;z-index: 1;}#sk-container-id-11 div.sk-parallel {display: flex;align-items: stretch;justify-content: center;background-color: white;position: relative;}#sk-container-id-11 div.sk-item::before, #sk-container-id-11 div.sk-parallel-item::before {content: \"\";position: absolute;border-left: 1px solid gray;box-sizing: border-box;top: 0;bottom: 0;left: 50%;z-index: -1;}#sk-container-id-11 div.sk-parallel-item {display: flex;flex-direction: column;z-index: 1;position: relative;background-color: white;}#sk-container-id-11 div.sk-parallel-item:first-child::after {align-self: flex-end;width: 50%;}#sk-container-id-11 div.sk-parallel-item:last-child::after {align-self: flex-start;width: 50%;}#sk-container-id-11 div.sk-parallel-item:only-child::after {width: 0;}#sk-container-id-11 div.sk-dashed-wrapped {border: 1px dashed gray;margin: 0 0.4em 0.5em 0.4em;box-sizing: border-box;padding-bottom: 0.4em;background-color: white;}#sk-container-id-11 div.sk-label label {font-family: monospace;font-weight: bold;display: inline-block;line-height: 1.2em;}#sk-container-id-11 div.sk-label-container {text-align: center;}#sk-container-id-11 div.sk-container {/* jupyter's `normalize.less` sets `[hidden] { display: none; }` but bootstrap.min.css set `[hidden] { display: none !important; }` so we also need the `!important` here to be able to override the default hidden behavior on the sphinx rendered scikit-learn.org. See: https://github.com/scikit-learn/scikit-learn/issues/21755 */display: inline-block !important;position: relative;}#sk-container-id-11 div.sk-text-repr-fallback {display: none;}</style><div id=\"sk-container-id-11\" class=\"sk-top-container\"><div class=\"sk-text-repr-fallback\"><pre>RandomForestClassifier(n_estimators=200)</pre><b>In a Jupyter environment, please rerun this cell to show the HTML representation or trust the notebook. <br />On GitHub, the HTML representation is unable to render, please try loading this page with nbviewer.org.</b></div><div class=\"sk-container\" hidden><div class=\"sk-item\"><div class=\"sk-estimator sk-toggleable\"><input class=\"sk-toggleable__control sk-hidden--visually\" id=\"sk-estimator-id-11\" type=\"checkbox\" checked><label for=\"sk-estimator-id-11\" class=\"sk-toggleable__label sk-toggleable__label-arrow\">RandomForestClassifier</label><div class=\"sk-toggleable__content\"><pre>RandomForestClassifier(n_estimators=200)</pre></div></div></div></div></div>"
      ],
      "text/plain": [
       "RandomForestClassifier(n_estimators=200)"
      ]
     },
     "execution_count": 108,
     "metadata": {},
     "output_type": "execute_result"
    }
   ],
   "source": [
    "\n",
    "from sklearn.ensemble import RandomForestClassifier\n",
    "rfc = RandomForestClassifier(n_estimators=200)\n",
    "rfc.fit(X_train, y_train)"
   ]
  },
  {
   "cell_type": "code",
   "execution_count": 109,
   "id": "ed119f7e",
   "metadata": {},
   "outputs": [],
   "source": [
    "rfc_predictions = rfc.predict(X_test)"
   ]
  },
  {
   "cell_type": "code",
   "execution_count": 110,
   "id": "110a735c",
   "metadata": {},
   "outputs": [
    {
     "name": "stdout",
     "output_type": "stream",
     "text": [
      "              precision    recall  f1-score   support\n",
      "\n",
      "         0.0       0.86      0.96      0.91     58182\n",
      "         1.0       0.44      0.18      0.26     10661\n",
      "\n",
      "    accuracy                           0.84     68843\n",
      "   macro avg       0.65      0.57      0.58     68843\n",
      "weighted avg       0.80      0.84      0.81     68843\n",
      "\n"
     ]
    }
   ],
   "source": [
    "form \n",
    "print(classification_report(y_test, rfc_predictions))"
   ]
  },
  {
   "cell_type": "code",
   "execution_count": 5,
   "id": "0735c838",
   "metadata": {},
   "outputs": [],
   "source": [
    "from sklearn.model_selection import train_test_split\n",
    "\n",
    "X = df.drop(\"Diabetes_binary\", axis = 1)\n",
    "y = df[\"Diabetes_binary\"]\n",
    "X_train, X_test, y_train, y_test = train_test_split(X, y, test_size=0.3)"
   ]
  },
  {
   "cell_type": "code",
   "execution_count": 6,
   "id": "25d83807",
   "metadata": {},
   "outputs": [],
   "source": [
    "from sklearn.neural_network import MLPClassifier\n",
    "mlp = MLPClassifier()"
   ]
  },
  {
   "cell_type": "code",
   "execution_count": 7,
   "id": "77513146",
   "metadata": {},
   "outputs": [
    {
     "data": {
      "text/html": [
       "<style>#sk-container-id-1 {color: black;background-color: white;}#sk-container-id-1 pre{padding: 0;}#sk-container-id-1 div.sk-toggleable {background-color: white;}#sk-container-id-1 label.sk-toggleable__label {cursor: pointer;display: block;width: 100%;margin-bottom: 0;padding: 0.3em;box-sizing: border-box;text-align: center;}#sk-container-id-1 label.sk-toggleable__label-arrow:before {content: \"▸\";float: left;margin-right: 0.25em;color: #696969;}#sk-container-id-1 label.sk-toggleable__label-arrow:hover:before {color: black;}#sk-container-id-1 div.sk-estimator:hover label.sk-toggleable__label-arrow:before {color: black;}#sk-container-id-1 div.sk-toggleable__content {max-height: 0;max-width: 0;overflow: hidden;text-align: left;background-color: #f0f8ff;}#sk-container-id-1 div.sk-toggleable__content pre {margin: 0.2em;color: black;border-radius: 0.25em;background-color: #f0f8ff;}#sk-container-id-1 input.sk-toggleable__control:checked~div.sk-toggleable__content {max-height: 200px;max-width: 100%;overflow: auto;}#sk-container-id-1 input.sk-toggleable__control:checked~label.sk-toggleable__label-arrow:before {content: \"▾\";}#sk-container-id-1 div.sk-estimator input.sk-toggleable__control:checked~label.sk-toggleable__label {background-color: #d4ebff;}#sk-container-id-1 div.sk-label input.sk-toggleable__control:checked~label.sk-toggleable__label {background-color: #d4ebff;}#sk-container-id-1 input.sk-hidden--visually {border: 0;clip: rect(1px 1px 1px 1px);clip: rect(1px, 1px, 1px, 1px);height: 1px;margin: -1px;overflow: hidden;padding: 0;position: absolute;width: 1px;}#sk-container-id-1 div.sk-estimator {font-family: monospace;background-color: #f0f8ff;border: 1px dotted black;border-radius: 0.25em;box-sizing: border-box;margin-bottom: 0.5em;}#sk-container-id-1 div.sk-estimator:hover {background-color: #d4ebff;}#sk-container-id-1 div.sk-parallel-item::after {content: \"\";width: 100%;border-bottom: 1px solid gray;flex-grow: 1;}#sk-container-id-1 div.sk-label:hover label.sk-toggleable__label {background-color: #d4ebff;}#sk-container-id-1 div.sk-serial::before {content: \"\";position: absolute;border-left: 1px solid gray;box-sizing: border-box;top: 0;bottom: 0;left: 50%;z-index: 0;}#sk-container-id-1 div.sk-serial {display: flex;flex-direction: column;align-items: center;background-color: white;padding-right: 0.2em;padding-left: 0.2em;position: relative;}#sk-container-id-1 div.sk-item {position: relative;z-index: 1;}#sk-container-id-1 div.sk-parallel {display: flex;align-items: stretch;justify-content: center;background-color: white;position: relative;}#sk-container-id-1 div.sk-item::before, #sk-container-id-1 div.sk-parallel-item::before {content: \"\";position: absolute;border-left: 1px solid gray;box-sizing: border-box;top: 0;bottom: 0;left: 50%;z-index: -1;}#sk-container-id-1 div.sk-parallel-item {display: flex;flex-direction: column;z-index: 1;position: relative;background-color: white;}#sk-container-id-1 div.sk-parallel-item:first-child::after {align-self: flex-end;width: 50%;}#sk-container-id-1 div.sk-parallel-item:last-child::after {align-self: flex-start;width: 50%;}#sk-container-id-1 div.sk-parallel-item:only-child::after {width: 0;}#sk-container-id-1 div.sk-dashed-wrapped {border: 1px dashed gray;margin: 0 0.4em 0.5em 0.4em;box-sizing: border-box;padding-bottom: 0.4em;background-color: white;}#sk-container-id-1 div.sk-label label {font-family: monospace;font-weight: bold;display: inline-block;line-height: 1.2em;}#sk-container-id-1 div.sk-label-container {text-align: center;}#sk-container-id-1 div.sk-container {/* jupyter's `normalize.less` sets `[hidden] { display: none; }` but bootstrap.min.css set `[hidden] { display: none !important; }` so we also need the `!important` here to be able to override the default hidden behavior on the sphinx rendered scikit-learn.org. See: https://github.com/scikit-learn/scikit-learn/issues/21755 */display: inline-block !important;position: relative;}#sk-container-id-1 div.sk-text-repr-fallback {display: none;}</style><div id=\"sk-container-id-1\" class=\"sk-top-container\"><div class=\"sk-text-repr-fallback\"><pre>MLPClassifier()</pre><b>In a Jupyter environment, please rerun this cell to show the HTML representation or trust the notebook. <br />On GitHub, the HTML representation is unable to render, please try loading this page with nbviewer.org.</b></div><div class=\"sk-container\" hidden><div class=\"sk-item\"><div class=\"sk-estimator sk-toggleable\"><input class=\"sk-toggleable__control sk-hidden--visually\" id=\"sk-estimator-id-1\" type=\"checkbox\" checked><label for=\"sk-estimator-id-1\" class=\"sk-toggleable__label sk-toggleable__label-arrow\">MLPClassifier</label><div class=\"sk-toggleable__content\"><pre>MLPClassifier()</pre></div></div></div></div></div>"
      ],
      "text/plain": [
       "MLPClassifier()"
      ]
     },
     "execution_count": 7,
     "metadata": {},
     "output_type": "execute_result"
    }
   ],
   "source": [
    "mlp.fit(X_train, y_train)"
   ]
  },
  {
   "cell_type": "code",
   "execution_count": 8,
   "id": "db930f75",
   "metadata": {},
   "outputs": [],
   "source": [
    "mlp_pred = mlp.predict(X_test)"
   ]
  },
  {
   "cell_type": "code",
   "execution_count": 10,
   "id": "7bdc2bf6",
   "metadata": {},
   "outputs": [
    {
     "name": "stdout",
     "output_type": "stream",
     "text": [
      "              precision    recall  f1-score   support\n",
      "\n",
      "         0.0       0.88      0.98      0.93     65581\n",
      "         1.0       0.56      0.17      0.26     10523\n",
      "\n",
      "    accuracy                           0.87     76104\n",
      "   macro avg       0.72      0.57      0.59     76104\n",
      "weighted avg       0.84      0.87      0.83     76104\n",
      "\n"
     ]
    }
   ],
   "source": [
    "from sklearn.metrics import classification_report\n",
    "print(classification_report(y_test,mlp_pred))"
   ]
  },
  {
   "cell_type": "code",
   "execution_count": 12,
   "id": "3b142146",
   "metadata": {},
   "outputs": [],
   "source": [
    "from sklearn.model_selection import GridSearchCV\n",
    "from sklearn.metrics import make_scorer, f1_score\n",
    "scorer = make_scorer(f1_score)\n",
    "param_grid = {\"hidden_layer_sizes\": range(10),\n",
    "               \"activation\" : ['identity', 'logistic', 'tanh', 'relu'],\n",
    "             \"learning_rate\": ['constant', 'invscaling', 'adaptive'],\n",
    "             \"alpha\" : [0.00001,0.0001,0.001,0.01,0.1,1,10],\n",
    "             }\n",
    "gridsearch = GridSearchCV(MLPClassifier(), param_grid, scoring= scorer, refit= \"f1\")"
   ]
  },
  {
   "cell_type": "code",
   "execution_count": null,
   "id": "b5fc1256",
   "metadata": {},
   "outputs": [],
   "source": [
    "gridsearch.fit(X_train, y_train)"
   ]
  },
  {
   "cell_type": "code",
   "execution_count": 9,
   "id": "dbd4d772",
   "metadata": {},
   "outputs": [],
   "source": [
    "from sklearn.ensemble import AdaBoostClassifier"
   ]
  },
  {
   "cell_type": "code",
   "execution_count": 10,
   "id": "309fc4d2",
   "metadata": {},
   "outputs": [],
   "source": [
    "model = AdaBoostClassifier()"
   ]
  },
  {
   "cell_type": "code",
   "execution_count": 12,
   "id": "50b9ff0b",
   "metadata": {},
   "outputs": [
    {
     "data": {
      "text/html": [
       "<style>#sk-container-id-1 {color: black;background-color: white;}#sk-container-id-1 pre{padding: 0;}#sk-container-id-1 div.sk-toggleable {background-color: white;}#sk-container-id-1 label.sk-toggleable__label {cursor: pointer;display: block;width: 100%;margin-bottom: 0;padding: 0.3em;box-sizing: border-box;text-align: center;}#sk-container-id-1 label.sk-toggleable__label-arrow:before {content: \"▸\";float: left;margin-right: 0.25em;color: #696969;}#sk-container-id-1 label.sk-toggleable__label-arrow:hover:before {color: black;}#sk-container-id-1 div.sk-estimator:hover label.sk-toggleable__label-arrow:before {color: black;}#sk-container-id-1 div.sk-toggleable__content {max-height: 0;max-width: 0;overflow: hidden;text-align: left;background-color: #f0f8ff;}#sk-container-id-1 div.sk-toggleable__content pre {margin: 0.2em;color: black;border-radius: 0.25em;background-color: #f0f8ff;}#sk-container-id-1 input.sk-toggleable__control:checked~div.sk-toggleable__content {max-height: 200px;max-width: 100%;overflow: auto;}#sk-container-id-1 input.sk-toggleable__control:checked~label.sk-toggleable__label-arrow:before {content: \"▾\";}#sk-container-id-1 div.sk-estimator input.sk-toggleable__control:checked~label.sk-toggleable__label {background-color: #d4ebff;}#sk-container-id-1 div.sk-label input.sk-toggleable__control:checked~label.sk-toggleable__label {background-color: #d4ebff;}#sk-container-id-1 input.sk-hidden--visually {border: 0;clip: rect(1px 1px 1px 1px);clip: rect(1px, 1px, 1px, 1px);height: 1px;margin: -1px;overflow: hidden;padding: 0;position: absolute;width: 1px;}#sk-container-id-1 div.sk-estimator {font-family: monospace;background-color: #f0f8ff;border: 1px dotted black;border-radius: 0.25em;box-sizing: border-box;margin-bottom: 0.5em;}#sk-container-id-1 div.sk-estimator:hover {background-color: #d4ebff;}#sk-container-id-1 div.sk-parallel-item::after {content: \"\";width: 100%;border-bottom: 1px solid gray;flex-grow: 1;}#sk-container-id-1 div.sk-label:hover label.sk-toggleable__label {background-color: #d4ebff;}#sk-container-id-1 div.sk-serial::before {content: \"\";position: absolute;border-left: 1px solid gray;box-sizing: border-box;top: 0;bottom: 0;left: 50%;z-index: 0;}#sk-container-id-1 div.sk-serial {display: flex;flex-direction: column;align-items: center;background-color: white;padding-right: 0.2em;padding-left: 0.2em;position: relative;}#sk-container-id-1 div.sk-item {position: relative;z-index: 1;}#sk-container-id-1 div.sk-parallel {display: flex;align-items: stretch;justify-content: center;background-color: white;position: relative;}#sk-container-id-1 div.sk-item::before, #sk-container-id-1 div.sk-parallel-item::before {content: \"\";position: absolute;border-left: 1px solid gray;box-sizing: border-box;top: 0;bottom: 0;left: 50%;z-index: -1;}#sk-container-id-1 div.sk-parallel-item {display: flex;flex-direction: column;z-index: 1;position: relative;background-color: white;}#sk-container-id-1 div.sk-parallel-item:first-child::after {align-self: flex-end;width: 50%;}#sk-container-id-1 div.sk-parallel-item:last-child::after {align-self: flex-start;width: 50%;}#sk-container-id-1 div.sk-parallel-item:only-child::after {width: 0;}#sk-container-id-1 div.sk-dashed-wrapped {border: 1px dashed gray;margin: 0 0.4em 0.5em 0.4em;box-sizing: border-box;padding-bottom: 0.4em;background-color: white;}#sk-container-id-1 div.sk-label label {font-family: monospace;font-weight: bold;display: inline-block;line-height: 1.2em;}#sk-container-id-1 div.sk-label-container {text-align: center;}#sk-container-id-1 div.sk-container {/* jupyter's `normalize.less` sets `[hidden] { display: none; }` but bootstrap.min.css set `[hidden] { display: none !important; }` so we also need the `!important` here to be able to override the default hidden behavior on the sphinx rendered scikit-learn.org. See: https://github.com/scikit-learn/scikit-learn/issues/21755 */display: inline-block !important;position: relative;}#sk-container-id-1 div.sk-text-repr-fallback {display: none;}</style><div id=\"sk-container-id-1\" class=\"sk-top-container\"><div class=\"sk-text-repr-fallback\"><pre>AdaBoostClassifier()</pre><b>In a Jupyter environment, please rerun this cell to show the HTML representation or trust the notebook. <br />On GitHub, the HTML representation is unable to render, please try loading this page with nbviewer.org.</b></div><div class=\"sk-container\" hidden><div class=\"sk-item\"><div class=\"sk-estimator sk-toggleable\"><input class=\"sk-toggleable__control sk-hidden--visually\" id=\"sk-estimator-id-1\" type=\"checkbox\" checked><label for=\"sk-estimator-id-1\" class=\"sk-toggleable__label sk-toggleable__label-arrow\">AdaBoostClassifier</label><div class=\"sk-toggleable__content\"><pre>AdaBoostClassifier()</pre></div></div></div></div></div>"
      ],
      "text/plain": [
       "AdaBoostClassifier()"
      ]
     },
     "execution_count": 12,
     "metadata": {},
     "output_type": "execute_result"
    }
   ],
   "source": [
    "model.fit(X_train, y_train)"
   ]
  },
  {
   "cell_type": "code",
   "execution_count": 13,
   "id": "e072fa51",
   "metadata": {},
   "outputs": [],
   "source": [
    "pred = model.predict(X_test)"
   ]
  },
  {
   "cell_type": "code",
   "execution_count": 15,
   "id": "1887822b",
   "metadata": {},
   "outputs": [
    {
     "name": "stdout",
     "output_type": "stream",
     "text": [
      "              precision    recall  f1-score   support\n",
      "\n",
      "         0.0       0.88      0.98      0.93     65376\n",
      "         1.0       0.57      0.17      0.26     10728\n",
      "\n",
      "    accuracy                           0.86     76104\n",
      "   macro avg       0.72      0.57      0.59     76104\n",
      "weighted avg       0.83      0.86      0.83     76104\n",
      "\n"
     ]
    }
   ],
   "source": [
    "from sklearn.metrics import classification_report\n",
    "print(classification_report(y_test, pred))"
   ]
  },
  {
   "cell_type": "code",
   "execution_count": 15,
   "id": "723dbb5a",
   "metadata": {},
   "outputs": [
    {
     "ename": "ModuleNotFoundError",
     "evalue": "No module named 'xgboost'",
     "output_type": "error",
     "traceback": [
      "\u001b[1;31m---------------------------------------------------------------------------\u001b[0m",
      "\u001b[1;31mModuleNotFoundError\u001b[0m                       Traceback (most recent call last)",
      "Cell \u001b[1;32mIn[15], line 1\u001b[0m\n\u001b[1;32m----> 1\u001b[0m \u001b[38;5;28;01mimport\u001b[39;00m \u001b[38;5;21;01mxgboost\u001b[39;00m \u001b[38;5;28;01mas\u001b[39;00m \u001b[38;5;21;01mxgb\u001b[39;00m\n",
      "\u001b[1;31mModuleNotFoundError\u001b[0m: No module named 'xgboost'"
     ]
    }
   ],
   "source": [
    "import xgboost as xgb"
   ]
  },
  {
   "cell_type": "code",
   "execution_count": 10,
   "id": "6269a2ac",
   "metadata": {},
   "outputs": [
    {
     "name": "stdout",
     "output_type": "stream",
     "text": [
      "Collecting xgboost\n",
      "  Downloading xgboost-2.0.2-py3-none-win_amd64.whl (99.8 MB)\n",
      "     ---------------------------------------- 99.8/99.8 MB 7.3 MB/s eta 0:00:00\n",
      "Requirement already satisfied: numpy in c:\\users\\shake\\anaconda3\\lib\\site-packages (from xgboost) (1.23.5)\n",
      "Requirement already satisfied: scipy in c:\\users\\shake\\anaconda3\\lib\\site-packages (from xgboost) (1.10.0)\n",
      "Installing collected packages: xgboost\n",
      "Successfully installed xgboost-2.0.2\n",
      "Note: you may need to restart the kernel to use updated packages.\n"
     ]
    }
   ],
   "source": [
    "pip install xgboost"
   ]
  },
  {
   "cell_type": "code",
   "execution_count": 16,
   "id": "e2793e55",
   "metadata": {},
   "outputs": [],
   "source": [
    "from xgboost import XGBClassifier"
   ]
  },
  {
   "cell_type": "code",
   "execution_count": 17,
   "id": "8df57295",
   "metadata": {},
   "outputs": [],
   "source": [
    "model = XGBClassifier()"
   ]
  },
  {
   "cell_type": "code",
   "execution_count": 18,
   "id": "1f2120d4",
   "metadata": {},
   "outputs": [
    {
     "data": {
      "text/html": [
       "<style>#sk-container-id-2 {color: black;background-color: white;}#sk-container-id-2 pre{padding: 0;}#sk-container-id-2 div.sk-toggleable {background-color: white;}#sk-container-id-2 label.sk-toggleable__label {cursor: pointer;display: block;width: 100%;margin-bottom: 0;padding: 0.3em;box-sizing: border-box;text-align: center;}#sk-container-id-2 label.sk-toggleable__label-arrow:before {content: \"▸\";float: left;margin-right: 0.25em;color: #696969;}#sk-container-id-2 label.sk-toggleable__label-arrow:hover:before {color: black;}#sk-container-id-2 div.sk-estimator:hover label.sk-toggleable__label-arrow:before {color: black;}#sk-container-id-2 div.sk-toggleable__content {max-height: 0;max-width: 0;overflow: hidden;text-align: left;background-color: #f0f8ff;}#sk-container-id-2 div.sk-toggleable__content pre {margin: 0.2em;color: black;border-radius: 0.25em;background-color: #f0f8ff;}#sk-container-id-2 input.sk-toggleable__control:checked~div.sk-toggleable__content {max-height: 200px;max-width: 100%;overflow: auto;}#sk-container-id-2 input.sk-toggleable__control:checked~label.sk-toggleable__label-arrow:before {content: \"▾\";}#sk-container-id-2 div.sk-estimator input.sk-toggleable__control:checked~label.sk-toggleable__label {background-color: #d4ebff;}#sk-container-id-2 div.sk-label input.sk-toggleable__control:checked~label.sk-toggleable__label {background-color: #d4ebff;}#sk-container-id-2 input.sk-hidden--visually {border: 0;clip: rect(1px 1px 1px 1px);clip: rect(1px, 1px, 1px, 1px);height: 1px;margin: -1px;overflow: hidden;padding: 0;position: absolute;width: 1px;}#sk-container-id-2 div.sk-estimator {font-family: monospace;background-color: #f0f8ff;border: 1px dotted black;border-radius: 0.25em;box-sizing: border-box;margin-bottom: 0.5em;}#sk-container-id-2 div.sk-estimator:hover {background-color: #d4ebff;}#sk-container-id-2 div.sk-parallel-item::after {content: \"\";width: 100%;border-bottom: 1px solid gray;flex-grow: 1;}#sk-container-id-2 div.sk-label:hover label.sk-toggleable__label {background-color: #d4ebff;}#sk-container-id-2 div.sk-serial::before {content: \"\";position: absolute;border-left: 1px solid gray;box-sizing: border-box;top: 0;bottom: 0;left: 50%;z-index: 0;}#sk-container-id-2 div.sk-serial {display: flex;flex-direction: column;align-items: center;background-color: white;padding-right: 0.2em;padding-left: 0.2em;position: relative;}#sk-container-id-2 div.sk-item {position: relative;z-index: 1;}#sk-container-id-2 div.sk-parallel {display: flex;align-items: stretch;justify-content: center;background-color: white;position: relative;}#sk-container-id-2 div.sk-item::before, #sk-container-id-2 div.sk-parallel-item::before {content: \"\";position: absolute;border-left: 1px solid gray;box-sizing: border-box;top: 0;bottom: 0;left: 50%;z-index: -1;}#sk-container-id-2 div.sk-parallel-item {display: flex;flex-direction: column;z-index: 1;position: relative;background-color: white;}#sk-container-id-2 div.sk-parallel-item:first-child::after {align-self: flex-end;width: 50%;}#sk-container-id-2 div.sk-parallel-item:last-child::after {align-self: flex-start;width: 50%;}#sk-container-id-2 div.sk-parallel-item:only-child::after {width: 0;}#sk-container-id-2 div.sk-dashed-wrapped {border: 1px dashed gray;margin: 0 0.4em 0.5em 0.4em;box-sizing: border-box;padding-bottom: 0.4em;background-color: white;}#sk-container-id-2 div.sk-label label {font-family: monospace;font-weight: bold;display: inline-block;line-height: 1.2em;}#sk-container-id-2 div.sk-label-container {text-align: center;}#sk-container-id-2 div.sk-container {/* jupyter's `normalize.less` sets `[hidden] { display: none; }` but bootstrap.min.css set `[hidden] { display: none !important; }` so we also need the `!important` here to be able to override the default hidden behavior on the sphinx rendered scikit-learn.org. See: https://github.com/scikit-learn/scikit-learn/issues/21755 */display: inline-block !important;position: relative;}#sk-container-id-2 div.sk-text-repr-fallback {display: none;}</style><div id=\"sk-container-id-2\" class=\"sk-top-container\"><div class=\"sk-text-repr-fallback\"><pre>XGBClassifier(base_score=None, booster=None, callbacks=None,\n",
       "              colsample_bylevel=None, colsample_bynode=None,\n",
       "              colsample_bytree=None, device=None, early_stopping_rounds=None,\n",
       "              enable_categorical=False, eval_metric=None, feature_types=None,\n",
       "              gamma=None, grow_policy=None, importance_type=None,\n",
       "              interaction_constraints=None, learning_rate=None, max_bin=None,\n",
       "              max_cat_threshold=None, max_cat_to_onehot=None,\n",
       "              max_delta_step=None, max_depth=None, max_leaves=None,\n",
       "              min_child_weight=None, missing=nan, monotone_constraints=None,\n",
       "              multi_strategy=None, n_estimators=None, n_jobs=None,\n",
       "              num_parallel_tree=None, random_state=None, ...)</pre><b>In a Jupyter environment, please rerun this cell to show the HTML representation or trust the notebook. <br />On GitHub, the HTML representation is unable to render, please try loading this page with nbviewer.org.</b></div><div class=\"sk-container\" hidden><div class=\"sk-item\"><div class=\"sk-estimator sk-toggleable\"><input class=\"sk-toggleable__control sk-hidden--visually\" id=\"sk-estimator-id-2\" type=\"checkbox\" checked><label for=\"sk-estimator-id-2\" class=\"sk-toggleable__label sk-toggleable__label-arrow\">XGBClassifier</label><div class=\"sk-toggleable__content\"><pre>XGBClassifier(base_score=None, booster=None, callbacks=None,\n",
       "              colsample_bylevel=None, colsample_bynode=None,\n",
       "              colsample_bytree=None, device=None, early_stopping_rounds=None,\n",
       "              enable_categorical=False, eval_metric=None, feature_types=None,\n",
       "              gamma=None, grow_policy=None, importance_type=None,\n",
       "              interaction_constraints=None, learning_rate=None, max_bin=None,\n",
       "              max_cat_threshold=None, max_cat_to_onehot=None,\n",
       "              max_delta_step=None, max_depth=None, max_leaves=None,\n",
       "              min_child_weight=None, missing=nan, monotone_constraints=None,\n",
       "              multi_strategy=None, n_estimators=None, n_jobs=None,\n",
       "              num_parallel_tree=None, random_state=None, ...)</pre></div></div></div></div></div>"
      ],
      "text/plain": [
       "XGBClassifier(base_score=None, booster=None, callbacks=None,\n",
       "              colsample_bylevel=None, colsample_bynode=None,\n",
       "              colsample_bytree=None, device=None, early_stopping_rounds=None,\n",
       "              enable_categorical=False, eval_metric=None, feature_types=None,\n",
       "              gamma=None, grow_policy=None, importance_type=None,\n",
       "              interaction_constraints=None, learning_rate=None, max_bin=None,\n",
       "              max_cat_threshold=None, max_cat_to_onehot=None,\n",
       "              max_delta_step=None, max_depth=None, max_leaves=None,\n",
       "              min_child_weight=None, missing=nan, monotone_constraints=None,\n",
       "              multi_strategy=None, n_estimators=None, n_jobs=None,\n",
       "              num_parallel_tree=None, random_state=None, ...)"
      ]
     },
     "execution_count": 18,
     "metadata": {},
     "output_type": "execute_result"
    }
   ],
   "source": [
    "model.fit(X_train, y_train)"
   ]
  },
  {
   "cell_type": "code",
   "execution_count": 19,
   "id": "ef06f473",
   "metadata": {},
   "outputs": [],
   "source": [
    "pred = model.predict(X_test)"
   ]
  },
  {
   "cell_type": "code",
   "execution_count": 20,
   "id": "d726e957",
   "metadata": {},
   "outputs": [
    {
     "name": "stdout",
     "output_type": "stream",
     "text": [
      "              precision    recall  f1-score   support\n",
      "\n",
      "         0.0       0.88      0.98      0.93     65376\n",
      "         1.0       0.57      0.17      0.26     10728\n",
      "\n",
      "    accuracy                           0.86     76104\n",
      "   macro avg       0.72      0.57      0.59     76104\n",
      "weighted avg       0.83      0.86      0.83     76104\n",
      "\n"
     ]
    }
   ],
   "source": [
    "print(classification_report(y_test, pred))"
   ]
  },
  {
   "cell_type": "code",
   "execution_count": 1,
   "id": "efd9d553",
   "metadata": {},
   "outputs": [
    {
     "ename": "NameError",
     "evalue": "name 'AdaBoostClassifier' is not defined",
     "output_type": "error",
     "traceback": [
      "\u001b[1;31m---------------------------------------------------------------------------\u001b[0m",
      "\u001b[1;31mNameError\u001b[0m                                 Traceback (most recent call last)",
      "Cell \u001b[1;32mIn[1], line 1\u001b[0m\n\u001b[1;32m----> 1\u001b[0m model \u001b[38;5;241m=\u001b[39m \u001b[43mAdaBoostClassifier\u001b[49m()\n\u001b[0;32m      3\u001b[0m \u001b[38;5;66;03m# define the grid of values to search\u001b[39;00m\n\u001b[0;32m      4\u001b[0m grid \u001b[38;5;241m=\u001b[39m \u001b[38;5;28mdict\u001b[39m()\n",
      "\u001b[1;31mNameError\u001b[0m: name 'AdaBoostClassifier' is not defined"
     ]
    }
   ],
   "source": [
    "model = AdaBoostClassifier()\n",
    "\n",
    "# define the grid of values to search\n",
    "grid = dict()\n",
    "grid['n_estimators'] = [10, 50, 100, 500]\n",
    "grid['learning_rate'] = [0.0001, 0.001, 0.01, 0.1, 1.0]\n",
    "\n",
    "# define the evaluation procedure\n",
    "cv = RepeatedStratifiedKFold(n_splits=10, n_repeats=3, random_state=1)\n",
    "\n",
    "# define the grid search procedure\n",
    "grid_search = GridSearchCV(estimator=model, param_grid=grid, n_jobs=-1, cv=cv, scoring='accuracy')\n"
   ]
  },
  {
   "cell_type": "code",
   "execution_count": null,
   "id": "f2f07432",
   "metadata": {},
   "outputs": [],
   "source": []
  }
 ],
 "metadata": {
  "kernelspec": {
   "display_name": "Python 3 (ipykernel)",
   "language": "python",
   "name": "python3"
  },
  "language_info": {
   "codemirror_mode": {
    "name": "ipython",
    "version": 3
   },
   "file_extension": ".py",
   "mimetype": "text/x-python",
   "name": "python",
   "nbconvert_exporter": "python",
   "pygments_lexer": "ipython3",
   "version": "3.10.9"
  }
 },
 "nbformat": 4,
 "nbformat_minor": 5
}
